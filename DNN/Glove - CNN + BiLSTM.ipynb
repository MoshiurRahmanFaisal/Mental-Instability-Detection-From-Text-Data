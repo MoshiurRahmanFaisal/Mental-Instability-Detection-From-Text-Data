{
 "cells": [
  {
   "cell_type": "code",
   "execution_count": 1,
   "id": "0d5f9be8",
   "metadata": {},
   "outputs": [],
   "source": [
    "import re\n",
    "import tqdm\n",
    "import numpy as np\n",
    "import pandas as pd\n",
    "import seaborn as sns\n",
    "import matplotlib.pyplot as plt"
   ]
  },
  {
   "cell_type": "code",
   "execution_count": 2,
   "id": "a2410f63",
   "metadata": {},
   "outputs": [],
   "source": [
    "df = pd.read_csv('mental_health_dataset.csv',encoding= 'unicode_escape')"
   ]
  },
  {
   "cell_type": "code",
   "execution_count": 3,
   "id": "3a0516ff",
   "metadata": {},
   "outputs": [
    {
     "data": {
      "text/html": [
       "<div>\n",
       "<style scoped>\n",
       "    .dataframe tbody tr th:only-of-type {\n",
       "        vertical-align: middle;\n",
       "    }\n",
       "\n",
       "    .dataframe tbody tr th {\n",
       "        vertical-align: top;\n",
       "    }\n",
       "\n",
       "    .dataframe thead tr th {\n",
       "        text-align: left;\n",
       "    }\n",
       "\n",
       "    .dataframe thead tr:last-of-type th {\n",
       "        text-align: right;\n",
       "    }\n",
       "</style>\n",
       "<table border=\"1\" class=\"dataframe\">\n",
       "  <thead>\n",
       "    <tr>\n",
       "      <th></th>\n",
       "      <th colspan=\"8\" halign=\"left\">Unnamed: 0</th>\n",
       "    </tr>\n",
       "    <tr>\n",
       "      <th></th>\n",
       "      <th>count</th>\n",
       "      <th>mean</th>\n",
       "      <th>std</th>\n",
       "      <th>min</th>\n",
       "      <th>25%</th>\n",
       "      <th>50%</th>\n",
       "      <th>75%</th>\n",
       "      <th>max</th>\n",
       "    </tr>\n",
       "    <tr>\n",
       "      <th>Mental_State</th>\n",
       "      <th></th>\n",
       "      <th></th>\n",
       "      <th></th>\n",
       "      <th></th>\n",
       "      <th></th>\n",
       "      <th></th>\n",
       "      <th></th>\n",
       "      <th></th>\n",
       "    </tr>\n",
       "  </thead>\n",
       "  <tbody>\n",
       "    <tr>\n",
       "      <th>Addiction</th>\n",
       "      <td>998.0</td>\n",
       "      <td>498.500000</td>\n",
       "      <td>288.242086</td>\n",
       "      <td>0.0</td>\n",
       "      <td>249.25</td>\n",
       "      <td>498.5</td>\n",
       "      <td>747.75</td>\n",
       "      <td>997.0</td>\n",
       "    </tr>\n",
       "    <tr>\n",
       "      <th>Alcoholism</th>\n",
       "      <td>999.0</td>\n",
       "      <td>1497.000000</td>\n",
       "      <td>288.530761</td>\n",
       "      <td>998.0</td>\n",
       "      <td>1247.50</td>\n",
       "      <td>1497.0</td>\n",
       "      <td>1746.50</td>\n",
       "      <td>1996.0</td>\n",
       "    </tr>\n",
       "    <tr>\n",
       "      <th>Anxiety</th>\n",
       "      <td>1024.0</td>\n",
       "      <td>2508.500000</td>\n",
       "      <td>295.747640</td>\n",
       "      <td>1997.0</td>\n",
       "      <td>2252.75</td>\n",
       "      <td>2508.5</td>\n",
       "      <td>2764.25</td>\n",
       "      <td>3020.0</td>\n",
       "    </tr>\n",
       "    <tr>\n",
       "      <th>Aspergers</th>\n",
       "      <td>799.0</td>\n",
       "      <td>3516.000000</td>\n",
       "      <td>230.795725</td>\n",
       "      <td>3117.0</td>\n",
       "      <td>3316.50</td>\n",
       "      <td>3516.0</td>\n",
       "      <td>3715.50</td>\n",
       "      <td>3915.0</td>\n",
       "    </tr>\n",
       "    <tr>\n",
       "      <th>Bipolar</th>\n",
       "      <td>1024.0</td>\n",
       "      <td>4427.500000</td>\n",
       "      <td>295.747640</td>\n",
       "      <td>3916.0</td>\n",
       "      <td>4171.75</td>\n",
       "      <td>4427.5</td>\n",
       "      <td>4683.25</td>\n",
       "      <td>4939.0</td>\n",
       "    </tr>\n",
       "    <tr>\n",
       "      <th>Borderline Personality</th>\n",
       "      <td>1024.0</td>\n",
       "      <td>5720.500000</td>\n",
       "      <td>295.747640</td>\n",
       "      <td>5209.0</td>\n",
       "      <td>5464.75</td>\n",
       "      <td>5720.5</td>\n",
       "      <td>5976.25</td>\n",
       "      <td>6232.0</td>\n",
       "    </tr>\n",
       "    <tr>\n",
       "      <th>Depression</th>\n",
       "      <td>1024.0</td>\n",
       "      <td>7018.500000</td>\n",
       "      <td>295.747640</td>\n",
       "      <td>6507.0</td>\n",
       "      <td>6762.75</td>\n",
       "      <td>7018.5</td>\n",
       "      <td>7274.25</td>\n",
       "      <td>7530.0</td>\n",
       "    </tr>\n",
       "    <tr>\n",
       "      <th>Schizophernia</th>\n",
       "      <td>1024.0</td>\n",
       "      <td>8149.500000</td>\n",
       "      <td>295.747640</td>\n",
       "      <td>7638.0</td>\n",
       "      <td>7893.75</td>\n",
       "      <td>8149.5</td>\n",
       "      <td>8405.25</td>\n",
       "      <td>8661.0</td>\n",
       "    </tr>\n",
       "    <tr>\n",
       "      <th>SelfHarm</th>\n",
       "      <td>746.0</td>\n",
       "      <td>9144.857909</td>\n",
       "      <td>215.894415</td>\n",
       "      <td>8772.0</td>\n",
       "      <td>8958.25</td>\n",
       "      <td>9144.5</td>\n",
       "      <td>9331.75</td>\n",
       "      <td>9518.0</td>\n",
       "    </tr>\n",
       "    <tr>\n",
       "      <th>Suidal Thought</th>\n",
       "      <td>1024.0</td>\n",
       "      <td>10030.500000</td>\n",
       "      <td>295.747640</td>\n",
       "      <td>9519.0</td>\n",
       "      <td>9774.75</td>\n",
       "      <td>10030.5</td>\n",
       "      <td>10286.25</td>\n",
       "      <td>10542.0</td>\n",
       "    </tr>\n",
       "    <tr>\n",
       "      <th>neutral</th>\n",
       "      <td>1024.0</td>\n",
       "      <td>11228.500000</td>\n",
       "      <td>295.747640</td>\n",
       "      <td>10717.0</td>\n",
       "      <td>10972.75</td>\n",
       "      <td>11228.5</td>\n",
       "      <td>11484.25</td>\n",
       "      <td>11740.0</td>\n",
       "    </tr>\n",
       "  </tbody>\n",
       "</table>\n",
       "</div>"
      ],
      "text/plain": [
       "                       Unnamed: 0                                     \\\n",
       "                            count          mean         std      min   \n",
       "Mental_State                                                           \n",
       "Addiction                   998.0    498.500000  288.242086      0.0   \n",
       "Alcoholism                  999.0   1497.000000  288.530761    998.0   \n",
       "Anxiety                    1024.0   2508.500000  295.747640   1997.0   \n",
       "Aspergers                   799.0   3516.000000  230.795725   3117.0   \n",
       "Bipolar                    1024.0   4427.500000  295.747640   3916.0   \n",
       "Borderline Personality     1024.0   5720.500000  295.747640   5209.0   \n",
       "Depression                 1024.0   7018.500000  295.747640   6507.0   \n",
       "Schizophernia              1024.0   8149.500000  295.747640   7638.0   \n",
       "SelfHarm                    746.0   9144.857909  215.894415   8772.0   \n",
       "Suidal Thought             1024.0  10030.500000  295.747640   9519.0   \n",
       "neutral                    1024.0  11228.500000  295.747640  10717.0   \n",
       "\n",
       "                                                              \n",
       "                             25%      50%       75%      max  \n",
       "Mental_State                                                  \n",
       "Addiction                 249.25    498.5    747.75    997.0  \n",
       "Alcoholism               1247.50   1497.0   1746.50   1996.0  \n",
       "Anxiety                  2252.75   2508.5   2764.25   3020.0  \n",
       "Aspergers                3316.50   3516.0   3715.50   3915.0  \n",
       "Bipolar                  4171.75   4427.5   4683.25   4939.0  \n",
       "Borderline Personality   5464.75   5720.5   5976.25   6232.0  \n",
       "Depression               6762.75   7018.5   7274.25   7530.0  \n",
       "Schizophernia            7893.75   8149.5   8405.25   8661.0  \n",
       "SelfHarm                 8958.25   9144.5   9331.75   9518.0  \n",
       "Suidal Thought           9774.75  10030.5  10286.25  10542.0  \n",
       "neutral                 10972.75  11228.5  11484.25  11740.0  "
      ]
     },
     "execution_count": 3,
     "metadata": {},
     "output_type": "execute_result"
    }
   ],
   "source": [
    "df.groupby(\"Mental_State\").describe()"
   ]
  },
  {
   "cell_type": "code",
   "execution_count": 4,
   "id": "e325350d",
   "metadata": {},
   "outputs": [
    {
     "data": {
      "text/plain": [
       "Index(['Unnamed: 0', 'Description', 'Mental_State'], dtype='object')"
      ]
     },
     "execution_count": 4,
     "metadata": {},
     "output_type": "execute_result"
    }
   ],
   "source": [
    "df.columns"
   ]
  },
  {
   "cell_type": "code",
   "execution_count": 5,
   "id": "a74f25fb",
   "metadata": {},
   "outputs": [
    {
     "data": {
      "text/html": [
       "<div>\n",
       "<style scoped>\n",
       "    .dataframe tbody tr th:only-of-type {\n",
       "        vertical-align: middle;\n",
       "    }\n",
       "\n",
       "    .dataframe tbody tr th {\n",
       "        vertical-align: top;\n",
       "    }\n",
       "\n",
       "    .dataframe thead th {\n",
       "        text-align: right;\n",
       "    }\n",
       "</style>\n",
       "<table border=\"1\" class=\"dataframe\">\n",
       "  <thead>\n",
       "    <tr style=\"text-align: right;\">\n",
       "      <th></th>\n",
       "      <th>Description</th>\n",
       "      <th>Mental_State</th>\n",
       "    </tr>\n",
       "  </thead>\n",
       "  <tbody>\n",
       "    <tr>\n",
       "      <th>0</th>\n",
       "      <td>I'm sorry about this post. It's gonna be a who...</td>\n",
       "      <td>Addiction</td>\n",
       "    </tr>\n",
       "    <tr>\n",
       "      <th>1</th>\n",
       "      <td>Been getting super high off high amounts of th...</td>\n",
       "      <td>Addiction</td>\n",
       "    </tr>\n",
       "    <tr>\n",
       "      <th>2</th>\n",
       "      <td>My brothers been shooting heroin/meth for the ...</td>\n",
       "      <td>Addiction</td>\n",
       "    </tr>\n",
       "    <tr>\n",
       "      <th>3</th>\n",
       "      <td>I rlly need an opinion cuz idk bout this stuff...</td>\n",
       "      <td>Addiction</td>\n",
       "    </tr>\n",
       "    <tr>\n",
       "      <th>4</th>\n",
       "      <td>Ive smoked weed since 8th grade in middle scho...</td>\n",
       "      <td>Addiction</td>\n",
       "    </tr>\n",
       "    <tr>\n",
       "      <th>...</th>\n",
       "      <td>...</td>\n",
       "      <td>...</td>\n",
       "    </tr>\n",
       "    <tr>\n",
       "      <th>11736</th>\n",
       "      <td>possible have satpathy ask question the questi...</td>\n",
       "      <td>neutral</td>\n",
       "    </tr>\n",
       "    <tr>\n",
       "      <th>11737</th>\n",
       "      <td>god that was thorough</td>\n",
       "      <td>neutral</td>\n",
       "    </tr>\n",
       "    <tr>\n",
       "      <th>11738</th>\n",
       "      <td>thread and meat kaun jat bhai</td>\n",
       "      <td>neutral</td>\n",
       "    </tr>\n",
       "    <tr>\n",
       "      <th>11739</th>\n",
       "      <td>not touch food with your left hand left handed</td>\n",
       "      <td>neutral</td>\n",
       "    </tr>\n",
       "    <tr>\n",
       "      <th>11740</th>\n",
       "      <td>they say because they care for</td>\n",
       "      <td>neutral</td>\n",
       "    </tr>\n",
       "  </tbody>\n",
       "</table>\n",
       "<p>11741 rows × 2 columns</p>\n",
       "</div>"
      ],
      "text/plain": [
       "                                             Description Mental_State\n",
       "0      I'm sorry about this post. It's gonna be a who...    Addiction\n",
       "1      Been getting super high off high amounts of th...    Addiction\n",
       "2      My brothers been shooting heroin/meth for the ...    Addiction\n",
       "3      I rlly need an opinion cuz idk bout this stuff...    Addiction\n",
       "4      Ive smoked weed since 8th grade in middle scho...    Addiction\n",
       "...                                                  ...          ...\n",
       "11736  possible have satpathy ask question the questi...      neutral\n",
       "11737                              god that was thorough      neutral\n",
       "11738                      thread and meat kaun jat bhai      neutral\n",
       "11739     not touch food with your left hand left handed      neutral\n",
       "11740                     they say because they care for      neutral\n",
       "\n",
       "[11741 rows x 2 columns]"
      ]
     },
     "execution_count": 5,
     "metadata": {},
     "output_type": "execute_result"
    }
   ],
   "source": [
    "df.drop(labels='Unnamed: 0', axis=1)"
   ]
  },
  {
   "cell_type": "code",
   "execution_count": 6,
   "id": "e0f3e3c3",
   "metadata": {},
   "outputs": [
    {
     "data": {
      "text/html": [
       "<div>\n",
       "<style scoped>\n",
       "    .dataframe tbody tr th:only-of-type {\n",
       "        vertical-align: middle;\n",
       "    }\n",
       "\n",
       "    .dataframe tbody tr th {\n",
       "        vertical-align: top;\n",
       "    }\n",
       "\n",
       "    .dataframe thead th {\n",
       "        text-align: right;\n",
       "    }\n",
       "</style>\n",
       "<table border=\"1\" class=\"dataframe\">\n",
       "  <thead>\n",
       "    <tr style=\"text-align: right;\">\n",
       "      <th></th>\n",
       "      <th>Mental_State</th>\n",
       "      <th>Mental_State_label</th>\n",
       "    </tr>\n",
       "  </thead>\n",
       "  <tbody>\n",
       "    <tr>\n",
       "      <th>0</th>\n",
       "      <td>Addiction</td>\n",
       "      <td>0</td>\n",
       "    </tr>\n",
       "    <tr>\n",
       "      <th>1</th>\n",
       "      <td>Addiction</td>\n",
       "      <td>0</td>\n",
       "    </tr>\n",
       "    <tr>\n",
       "      <th>2</th>\n",
       "      <td>Addiction</td>\n",
       "      <td>0</td>\n",
       "    </tr>\n",
       "    <tr>\n",
       "      <th>3</th>\n",
       "      <td>Addiction</td>\n",
       "      <td>0</td>\n",
       "    </tr>\n",
       "    <tr>\n",
       "      <th>4</th>\n",
       "      <td>Addiction</td>\n",
       "      <td>0</td>\n",
       "    </tr>\n",
       "    <tr>\n",
       "      <th>5</th>\n",
       "      <td>Addiction</td>\n",
       "      <td>0</td>\n",
       "    </tr>\n",
       "    <tr>\n",
       "      <th>6</th>\n",
       "      <td>Addiction</td>\n",
       "      <td>0</td>\n",
       "    </tr>\n",
       "    <tr>\n",
       "      <th>7</th>\n",
       "      <td>Addiction</td>\n",
       "      <td>0</td>\n",
       "    </tr>\n",
       "    <tr>\n",
       "      <th>8</th>\n",
       "      <td>Addiction</td>\n",
       "      <td>0</td>\n",
       "    </tr>\n",
       "    <tr>\n",
       "      <th>9</th>\n",
       "      <td>Addiction</td>\n",
       "      <td>0</td>\n",
       "    </tr>\n",
       "    <tr>\n",
       "      <th>10</th>\n",
       "      <td>Addiction</td>\n",
       "      <td>0</td>\n",
       "    </tr>\n",
       "  </tbody>\n",
       "</table>\n",
       "</div>"
      ],
      "text/plain": [
       "   Mental_State  Mental_State_label\n",
       "0     Addiction                   0\n",
       "1     Addiction                   0\n",
       "2     Addiction                   0\n",
       "3     Addiction                   0\n",
       "4     Addiction                   0\n",
       "5     Addiction                   0\n",
       "6     Addiction                   0\n",
       "7     Addiction                   0\n",
       "8     Addiction                   0\n",
       "9     Addiction                   0\n",
       "10    Addiction                   0"
      ]
     },
     "execution_count": 6,
     "metadata": {},
     "output_type": "execute_result"
    }
   ],
   "source": [
    "from sklearn.preprocessing import LabelEncoder\n",
    "\n",
    "lb_make = LabelEncoder()\n",
    "df[\"Mental_State_label\"] = lb_make.fit_transform(df[\"Mental_State\"])\n",
    "df[[\"Mental_State\", \"Mental_State_label\"]].head(11)"
   ]
  },
  {
   "cell_type": "code",
   "execution_count": 7,
   "id": "aac8e7eb",
   "metadata": {},
   "outputs": [
    {
     "data": {
      "text/html": [
       "<div>\n",
       "<style scoped>\n",
       "    .dataframe tbody tr th:only-of-type {\n",
       "        vertical-align: middle;\n",
       "    }\n",
       "\n",
       "    .dataframe tbody tr th {\n",
       "        vertical-align: top;\n",
       "    }\n",
       "\n",
       "    .dataframe thead th {\n",
       "        text-align: right;\n",
       "    }\n",
       "</style>\n",
       "<table border=\"1\" class=\"dataframe\">\n",
       "  <thead>\n",
       "    <tr style=\"text-align: right;\">\n",
       "      <th></th>\n",
       "      <th>Unnamed: 0</th>\n",
       "      <th>Description</th>\n",
       "      <th>Mental_State</th>\n",
       "      <th>Mental_State_label</th>\n",
       "    </tr>\n",
       "  </thead>\n",
       "  <tbody>\n",
       "    <tr>\n",
       "      <th>0</th>\n",
       "      <td>False</td>\n",
       "      <td>False</td>\n",
       "      <td>False</td>\n",
       "      <td>False</td>\n",
       "    </tr>\n",
       "    <tr>\n",
       "      <th>1</th>\n",
       "      <td>False</td>\n",
       "      <td>False</td>\n",
       "      <td>False</td>\n",
       "      <td>False</td>\n",
       "    </tr>\n",
       "    <tr>\n",
       "      <th>2</th>\n",
       "      <td>False</td>\n",
       "      <td>False</td>\n",
       "      <td>False</td>\n",
       "      <td>False</td>\n",
       "    </tr>\n",
       "    <tr>\n",
       "      <th>3</th>\n",
       "      <td>False</td>\n",
       "      <td>False</td>\n",
       "      <td>False</td>\n",
       "      <td>False</td>\n",
       "    </tr>\n",
       "    <tr>\n",
       "      <th>4</th>\n",
       "      <td>False</td>\n",
       "      <td>False</td>\n",
       "      <td>False</td>\n",
       "      <td>False</td>\n",
       "    </tr>\n",
       "    <tr>\n",
       "      <th>...</th>\n",
       "      <td>...</td>\n",
       "      <td>...</td>\n",
       "      <td>...</td>\n",
       "      <td>...</td>\n",
       "    </tr>\n",
       "    <tr>\n",
       "      <th>11736</th>\n",
       "      <td>False</td>\n",
       "      <td>False</td>\n",
       "      <td>False</td>\n",
       "      <td>False</td>\n",
       "    </tr>\n",
       "    <tr>\n",
       "      <th>11737</th>\n",
       "      <td>False</td>\n",
       "      <td>False</td>\n",
       "      <td>False</td>\n",
       "      <td>False</td>\n",
       "    </tr>\n",
       "    <tr>\n",
       "      <th>11738</th>\n",
       "      <td>False</td>\n",
       "      <td>False</td>\n",
       "      <td>False</td>\n",
       "      <td>False</td>\n",
       "    </tr>\n",
       "    <tr>\n",
       "      <th>11739</th>\n",
       "      <td>False</td>\n",
       "      <td>False</td>\n",
       "      <td>False</td>\n",
       "      <td>False</td>\n",
       "    </tr>\n",
       "    <tr>\n",
       "      <th>11740</th>\n",
       "      <td>False</td>\n",
       "      <td>False</td>\n",
       "      <td>False</td>\n",
       "      <td>False</td>\n",
       "    </tr>\n",
       "  </tbody>\n",
       "</table>\n",
       "<p>11741 rows × 4 columns</p>\n",
       "</div>"
      ],
      "text/plain": [
       "       Unnamed: 0  Description  Mental_State  Mental_State_label\n",
       "0           False        False         False               False\n",
       "1           False        False         False               False\n",
       "2           False        False         False               False\n",
       "3           False        False         False               False\n",
       "4           False        False         False               False\n",
       "...           ...          ...           ...                 ...\n",
       "11736       False        False         False               False\n",
       "11737       False        False         False               False\n",
       "11738       False        False         False               False\n",
       "11739       False        False         False               False\n",
       "11740       False        False         False               False\n",
       "\n",
       "[11741 rows x 4 columns]"
      ]
     },
     "execution_count": 7,
     "metadata": {},
     "output_type": "execute_result"
    }
   ],
   "source": [
    "df.isnull()"
   ]
  },
  {
   "cell_type": "code",
   "execution_count": 8,
   "id": "1116269b",
   "metadata": {},
   "outputs": [],
   "source": [
    "df.dropna(inplace=True)"
   ]
  },
  {
   "cell_type": "code",
   "execution_count": 9,
   "id": "d758c311",
   "metadata": {},
   "outputs": [],
   "source": [
    "text = df['Description'].values.tolist()"
   ]
  },
  {
   "cell_type": "code",
   "execution_count": 10,
   "id": "12c78e5e",
   "metadata": {},
   "outputs": [
    {
     "data": {
      "text/html": [
       "<div>\n",
       "<style scoped>\n",
       "    .dataframe tbody tr th:only-of-type {\n",
       "        vertical-align: middle;\n",
       "    }\n",
       "\n",
       "    .dataframe tbody tr th {\n",
       "        vertical-align: top;\n",
       "    }\n",
       "\n",
       "    .dataframe thead tr th {\n",
       "        text-align: left;\n",
       "    }\n",
       "\n",
       "    .dataframe thead tr:last-of-type th {\n",
       "        text-align: right;\n",
       "    }\n",
       "</style>\n",
       "<table border=\"1\" class=\"dataframe\">\n",
       "  <thead>\n",
       "    <tr>\n",
       "      <th></th>\n",
       "      <th colspan=\"8\" halign=\"left\">Unnamed: 0</th>\n",
       "      <th colspan=\"8\" halign=\"left\">Mental_State_label</th>\n",
       "    </tr>\n",
       "    <tr>\n",
       "      <th></th>\n",
       "      <th>count</th>\n",
       "      <th>mean</th>\n",
       "      <th>std</th>\n",
       "      <th>min</th>\n",
       "      <th>25%</th>\n",
       "      <th>50%</th>\n",
       "      <th>75%</th>\n",
       "      <th>max</th>\n",
       "      <th>count</th>\n",
       "      <th>mean</th>\n",
       "      <th>std</th>\n",
       "      <th>min</th>\n",
       "      <th>25%</th>\n",
       "      <th>50%</th>\n",
       "      <th>75%</th>\n",
       "      <th>max</th>\n",
       "    </tr>\n",
       "    <tr>\n",
       "      <th>Mental_State</th>\n",
       "      <th></th>\n",
       "      <th></th>\n",
       "      <th></th>\n",
       "      <th></th>\n",
       "      <th></th>\n",
       "      <th></th>\n",
       "      <th></th>\n",
       "      <th></th>\n",
       "      <th></th>\n",
       "      <th></th>\n",
       "      <th></th>\n",
       "      <th></th>\n",
       "      <th></th>\n",
       "      <th></th>\n",
       "      <th></th>\n",
       "      <th></th>\n",
       "    </tr>\n",
       "  </thead>\n",
       "  <tbody>\n",
       "    <tr>\n",
       "      <th>Addiction</th>\n",
       "      <td>998.0</td>\n",
       "      <td>498.500000</td>\n",
       "      <td>288.242086</td>\n",
       "      <td>0.0</td>\n",
       "      <td>249.25</td>\n",
       "      <td>498.5</td>\n",
       "      <td>747.75</td>\n",
       "      <td>997.0</td>\n",
       "      <td>998.0</td>\n",
       "      <td>0.0</td>\n",
       "      <td>0.0</td>\n",
       "      <td>0.0</td>\n",
       "      <td>0.0</td>\n",
       "      <td>0.0</td>\n",
       "      <td>0.0</td>\n",
       "      <td>0.0</td>\n",
       "    </tr>\n",
       "    <tr>\n",
       "      <th>Alcoholism</th>\n",
       "      <td>999.0</td>\n",
       "      <td>1497.000000</td>\n",
       "      <td>288.530761</td>\n",
       "      <td>998.0</td>\n",
       "      <td>1247.50</td>\n",
       "      <td>1497.0</td>\n",
       "      <td>1746.50</td>\n",
       "      <td>1996.0</td>\n",
       "      <td>999.0</td>\n",
       "      <td>1.0</td>\n",
       "      <td>0.0</td>\n",
       "      <td>1.0</td>\n",
       "      <td>1.0</td>\n",
       "      <td>1.0</td>\n",
       "      <td>1.0</td>\n",
       "      <td>1.0</td>\n",
       "    </tr>\n",
       "    <tr>\n",
       "      <th>Anxiety</th>\n",
       "      <td>1024.0</td>\n",
       "      <td>2508.500000</td>\n",
       "      <td>295.747640</td>\n",
       "      <td>1997.0</td>\n",
       "      <td>2252.75</td>\n",
       "      <td>2508.5</td>\n",
       "      <td>2764.25</td>\n",
       "      <td>3020.0</td>\n",
       "      <td>1024.0</td>\n",
       "      <td>2.0</td>\n",
       "      <td>0.0</td>\n",
       "      <td>2.0</td>\n",
       "      <td>2.0</td>\n",
       "      <td>2.0</td>\n",
       "      <td>2.0</td>\n",
       "      <td>2.0</td>\n",
       "    </tr>\n",
       "    <tr>\n",
       "      <th>Aspergers</th>\n",
       "      <td>799.0</td>\n",
       "      <td>3516.000000</td>\n",
       "      <td>230.795725</td>\n",
       "      <td>3117.0</td>\n",
       "      <td>3316.50</td>\n",
       "      <td>3516.0</td>\n",
       "      <td>3715.50</td>\n",
       "      <td>3915.0</td>\n",
       "      <td>799.0</td>\n",
       "      <td>3.0</td>\n",
       "      <td>0.0</td>\n",
       "      <td>3.0</td>\n",
       "      <td>3.0</td>\n",
       "      <td>3.0</td>\n",
       "      <td>3.0</td>\n",
       "      <td>3.0</td>\n",
       "    </tr>\n",
       "    <tr>\n",
       "      <th>Bipolar</th>\n",
       "      <td>1024.0</td>\n",
       "      <td>4427.500000</td>\n",
       "      <td>295.747640</td>\n",
       "      <td>3916.0</td>\n",
       "      <td>4171.75</td>\n",
       "      <td>4427.5</td>\n",
       "      <td>4683.25</td>\n",
       "      <td>4939.0</td>\n",
       "      <td>1024.0</td>\n",
       "      <td>4.0</td>\n",
       "      <td>0.0</td>\n",
       "      <td>4.0</td>\n",
       "      <td>4.0</td>\n",
       "      <td>4.0</td>\n",
       "      <td>4.0</td>\n",
       "      <td>4.0</td>\n",
       "    </tr>\n",
       "    <tr>\n",
       "      <th>Borderline Personality</th>\n",
       "      <td>1024.0</td>\n",
       "      <td>5720.500000</td>\n",
       "      <td>295.747640</td>\n",
       "      <td>5209.0</td>\n",
       "      <td>5464.75</td>\n",
       "      <td>5720.5</td>\n",
       "      <td>5976.25</td>\n",
       "      <td>6232.0</td>\n",
       "      <td>1024.0</td>\n",
       "      <td>5.0</td>\n",
       "      <td>0.0</td>\n",
       "      <td>5.0</td>\n",
       "      <td>5.0</td>\n",
       "      <td>5.0</td>\n",
       "      <td>5.0</td>\n",
       "      <td>5.0</td>\n",
       "    </tr>\n",
       "    <tr>\n",
       "      <th>Depression</th>\n",
       "      <td>1024.0</td>\n",
       "      <td>7018.500000</td>\n",
       "      <td>295.747640</td>\n",
       "      <td>6507.0</td>\n",
       "      <td>6762.75</td>\n",
       "      <td>7018.5</td>\n",
       "      <td>7274.25</td>\n",
       "      <td>7530.0</td>\n",
       "      <td>1024.0</td>\n",
       "      <td>6.0</td>\n",
       "      <td>0.0</td>\n",
       "      <td>6.0</td>\n",
       "      <td>6.0</td>\n",
       "      <td>6.0</td>\n",
       "      <td>6.0</td>\n",
       "      <td>6.0</td>\n",
       "    </tr>\n",
       "    <tr>\n",
       "      <th>Schizophernia</th>\n",
       "      <td>1024.0</td>\n",
       "      <td>8149.500000</td>\n",
       "      <td>295.747640</td>\n",
       "      <td>7638.0</td>\n",
       "      <td>7893.75</td>\n",
       "      <td>8149.5</td>\n",
       "      <td>8405.25</td>\n",
       "      <td>8661.0</td>\n",
       "      <td>1024.0</td>\n",
       "      <td>7.0</td>\n",
       "      <td>0.0</td>\n",
       "      <td>7.0</td>\n",
       "      <td>7.0</td>\n",
       "      <td>7.0</td>\n",
       "      <td>7.0</td>\n",
       "      <td>7.0</td>\n",
       "    </tr>\n",
       "    <tr>\n",
       "      <th>SelfHarm</th>\n",
       "      <td>746.0</td>\n",
       "      <td>9144.857909</td>\n",
       "      <td>215.894415</td>\n",
       "      <td>8772.0</td>\n",
       "      <td>8958.25</td>\n",
       "      <td>9144.5</td>\n",
       "      <td>9331.75</td>\n",
       "      <td>9518.0</td>\n",
       "      <td>746.0</td>\n",
       "      <td>8.0</td>\n",
       "      <td>0.0</td>\n",
       "      <td>8.0</td>\n",
       "      <td>8.0</td>\n",
       "      <td>8.0</td>\n",
       "      <td>8.0</td>\n",
       "      <td>8.0</td>\n",
       "    </tr>\n",
       "    <tr>\n",
       "      <th>Suidal Thought</th>\n",
       "      <td>1024.0</td>\n",
       "      <td>10030.500000</td>\n",
       "      <td>295.747640</td>\n",
       "      <td>9519.0</td>\n",
       "      <td>9774.75</td>\n",
       "      <td>10030.5</td>\n",
       "      <td>10286.25</td>\n",
       "      <td>10542.0</td>\n",
       "      <td>1024.0</td>\n",
       "      <td>9.0</td>\n",
       "      <td>0.0</td>\n",
       "      <td>9.0</td>\n",
       "      <td>9.0</td>\n",
       "      <td>9.0</td>\n",
       "      <td>9.0</td>\n",
       "      <td>9.0</td>\n",
       "    </tr>\n",
       "    <tr>\n",
       "      <th>neutral</th>\n",
       "      <td>1024.0</td>\n",
       "      <td>11228.500000</td>\n",
       "      <td>295.747640</td>\n",
       "      <td>10717.0</td>\n",
       "      <td>10972.75</td>\n",
       "      <td>11228.5</td>\n",
       "      <td>11484.25</td>\n",
       "      <td>11740.0</td>\n",
       "      <td>1024.0</td>\n",
       "      <td>10.0</td>\n",
       "      <td>0.0</td>\n",
       "      <td>10.0</td>\n",
       "      <td>10.0</td>\n",
       "      <td>10.0</td>\n",
       "      <td>10.0</td>\n",
       "      <td>10.0</td>\n",
       "    </tr>\n",
       "  </tbody>\n",
       "</table>\n",
       "</div>"
      ],
      "text/plain": [
       "                       Unnamed: 0                                     \\\n",
       "                            count          mean         std      min   \n",
       "Mental_State                                                           \n",
       "Addiction                   998.0    498.500000  288.242086      0.0   \n",
       "Alcoholism                  999.0   1497.000000  288.530761    998.0   \n",
       "Anxiety                    1024.0   2508.500000  295.747640   1997.0   \n",
       "Aspergers                   799.0   3516.000000  230.795725   3117.0   \n",
       "Bipolar                    1024.0   4427.500000  295.747640   3916.0   \n",
       "Borderline Personality     1024.0   5720.500000  295.747640   5209.0   \n",
       "Depression                 1024.0   7018.500000  295.747640   6507.0   \n",
       "Schizophernia              1024.0   8149.500000  295.747640   7638.0   \n",
       "SelfHarm                    746.0   9144.857909  215.894415   8772.0   \n",
       "Suidal Thought             1024.0  10030.500000  295.747640   9519.0   \n",
       "neutral                    1024.0  11228.500000  295.747640  10717.0   \n",
       "\n",
       "                                                              \\\n",
       "                             25%      50%       75%      max   \n",
       "Mental_State                                                   \n",
       "Addiction                 249.25    498.5    747.75    997.0   \n",
       "Alcoholism               1247.50   1497.0   1746.50   1996.0   \n",
       "Anxiety                  2252.75   2508.5   2764.25   3020.0   \n",
       "Aspergers                3316.50   3516.0   3715.50   3915.0   \n",
       "Bipolar                  4171.75   4427.5   4683.25   4939.0   \n",
       "Borderline Personality   5464.75   5720.5   5976.25   6232.0   \n",
       "Depression               6762.75   7018.5   7274.25   7530.0   \n",
       "Schizophernia            7893.75   8149.5   8405.25   8661.0   \n",
       "SelfHarm                 8958.25   9144.5   9331.75   9518.0   \n",
       "Suidal Thought           9774.75  10030.5  10286.25  10542.0   \n",
       "neutral                 10972.75  11228.5  11484.25  11740.0   \n",
       "\n",
       "                       Mental_State_label                                     \\\n",
       "                                    count  mean  std   min   25%   50%   75%   \n",
       "Mental_State                                                                   \n",
       "Addiction                           998.0   0.0  0.0   0.0   0.0   0.0   0.0   \n",
       "Alcoholism                          999.0   1.0  0.0   1.0   1.0   1.0   1.0   \n",
       "Anxiety                            1024.0   2.0  0.0   2.0   2.0   2.0   2.0   \n",
       "Aspergers                           799.0   3.0  0.0   3.0   3.0   3.0   3.0   \n",
       "Bipolar                            1024.0   4.0  0.0   4.0   4.0   4.0   4.0   \n",
       "Borderline Personality             1024.0   5.0  0.0   5.0   5.0   5.0   5.0   \n",
       "Depression                         1024.0   6.0  0.0   6.0   6.0   6.0   6.0   \n",
       "Schizophernia                      1024.0   7.0  0.0   7.0   7.0   7.0   7.0   \n",
       "SelfHarm                            746.0   8.0  0.0   8.0   8.0   8.0   8.0   \n",
       "Suidal Thought                     1024.0   9.0  0.0   9.0   9.0   9.0   9.0   \n",
       "neutral                            1024.0  10.0  0.0  10.0  10.0  10.0  10.0   \n",
       "\n",
       "                              \n",
       "                         max  \n",
       "Mental_State                  \n",
       "Addiction                0.0  \n",
       "Alcoholism               1.0  \n",
       "Anxiety                  2.0  \n",
       "Aspergers                3.0  \n",
       "Bipolar                  4.0  \n",
       "Borderline Personality   5.0  \n",
       "Depression               6.0  \n",
       "Schizophernia            7.0  \n",
       "SelfHarm                 8.0  \n",
       "Suidal Thought           9.0  \n",
       "neutral                 10.0  "
      ]
     },
     "execution_count": 10,
     "metadata": {},
     "output_type": "execute_result"
    }
   ],
   "source": [
    "df.groupby(\"Mental_State\").describe()"
   ]
  },
  {
   "cell_type": "code",
   "execution_count": 11,
   "id": "9f5453b0",
   "metadata": {},
   "outputs": [
    {
     "data": {
      "text/plain": [
       "Anxiety                   1024\n",
       "Bipolar                   1024\n",
       "Borderline Personality    1024\n",
       "Depression                1024\n",
       "Schizophernia             1024\n",
       "Suidal Thought            1024\n",
       "neutral                   1024\n",
       "Alcoholism                 999\n",
       "Addiction                  998\n",
       "Aspergers                  799\n",
       "SelfHarm                   746\n",
       "Name: Mental_State, dtype: int64"
      ]
     },
     "execution_count": 11,
     "metadata": {},
     "output_type": "execute_result"
    }
   ],
   "source": [
    "df[\"Mental_State\"].value_counts()"
   ]
  },
  {
   "cell_type": "code",
   "execution_count": 12,
   "id": "48484f7d",
   "metadata": {},
   "outputs": [
    {
     "name": "stderr",
     "output_type": "stream",
     "text": [
      "C:\\Users\\moshi\\anaconda3\\lib\\site-packages\\seaborn\\_decorators.py:36: FutureWarning: Pass the following variable as a keyword arg: x. From version 0.12, the only valid positional argument will be `data`, and passing other arguments without an explicit keyword will result in an error or misinterpretation.\n",
      "  warnings.warn(\n"
     ]
    },
    {
     "data": {
      "image/png": "[encoded data removed]",
      "text/plain": [
       "<Figure size 1584x720 with 1 Axes>"
      ]
     },
     "metadata": {
      "needs_background": "light"
     },
     "output_type": "display_data"
    }
   ],
   "source": [
    "plt.subplots(figsize=(22,10))\n",
    "sns.countplot(df[\"Mental_State\"])\n",
    "plt.show()"
   ]
  },
  {
   "cell_type": "code",
   "execution_count": 13,
   "id": "1d3cff5c",
   "metadata": {},
   "outputs": [
    {
     "name": "stdout",
     "output_type": "stream",
     "text": [
      "26163\n"
     ]
    }
   ],
   "source": [
    "longest_string = max(df[\"Description\"], key=len)\n",
    "print(len(longest_string))"
   ]
  },
  {
   "cell_type": "code",
   "execution_count": 14,
   "id": "29327c54",
   "metadata": {},
   "outputs": [],
   "source": [
    "import nltk\n",
    "\n",
    "from nltk.corpus import stopwords\n",
    "from nltk.stem.porter import PorterStemmer\n",
    "from wordcloud import WordCloud,STOPWORDS\n",
    "from nltk.stem import WordNetLemmatizer\n",
    "from nltk.tokenize import word_tokenize,sent_tokenize\n",
    "from bs4 import BeautifulSoup\n",
    "\n",
    "import re,string,unicodedata\n",
    "from nltk.tokenize.toktok import ToktokTokenizer\n",
    "from nltk.stem import LancasterStemmer,WordNetLemmatizer"
   ]
  },
  {
   "cell_type": "code",
   "execution_count": 15,
   "id": "64923db2",
   "metadata": {},
   "outputs": [],
   "source": [
    "#Tokenization of text\n",
    "tokenizer=ToktokTokenizer()\n",
    "#Setting English stopwords\n",
    "stopword_list=nltk.corpus.stopwords.words('english')"
   ]
  },
  {
   "cell_type": "code",
   "execution_count": 16,
   "id": "5143b662",
   "metadata": {},
   "outputs": [],
   "source": [
    "#Removing the html strips\n",
    "def strip_html(text):\n",
    "    soup = BeautifulSoup(text, \"html.parser\")\n",
    "    return soup.get_text()\n",
    "\n",
    "#Removing the square brackets\n",
    "def remove_between_square_brackets(text):\n",
    "    return re.sub('\\[[^]]*\\]', '', text)\n",
    "\n",
    "#Removing the noisy text\n",
    "def denoise_text(text):\n",
    "    text = strip_html(text)\n",
    "    text = remove_between_square_brackets(text)\n",
    "    return text\n",
    "#Apply function on description column\n",
    "df['Description']=df['Description'].apply(denoise_text)"
   ]
  },
  {
   "cell_type": "code",
   "execution_count": 17,
   "id": "9b789b33",
   "metadata": {},
   "outputs": [],
   "source": [
    "#Stemming the text\n",
    "def simple_stemmer(text):\n",
    "    ps=nltk.porter.PorterStemmer()\n",
    "    text= ' '.join([ps.stem(word) for word in text.split()])\n",
    "    return text\n",
    "#Apply function on description column\n",
    "df['Description']=df['Description'].apply(simple_stemmer)"
   ]
  },
  {
   "cell_type": "code",
   "execution_count": 18,
   "id": "6d849a80",
   "metadata": {},
   "outputs": [
    {
     "name": "stdout",
     "output_type": "stream",
     "text": [
      "{'he', 'by', 'was', 'our', 'have', 'but', 'when', 'here', 'wouldn', 'of', 'up', 'doesn', 'hadn', 'itself', 'him', 'you', 'between', \"mustn't\", 'very', 'such', 'the', 'while', 'don', 'his', 'these', 'during', 'is', \"hasn't\", 'its', 'yourselves', 'your', 'didn', 'to', 'should', 'd', \"you'll\", 'before', 'most', 'until', 'it', 'that', 'wasn', 'under', 'and', 'after', 'will', 'which', 'yourself', 'both', 'out', 'theirs', 'her', 'had', 'nor', 'into', 'having', 'who', 'am', \"isn't\", 'haven', 'too', 'be', 'ma', 'above', 'this', 'no', 'once', 'she', 'herself', 'through', 're', \"shan't\", 'about', 't', 'won', 'can', \"shouldn't\", 'as', \"needn't\", 'aren', \"she's\", 'if', 'other', 'because', 'weren', \"don't\", 'so', 'll', 'where', 'from', \"haven't\", 'shan', 'm', 'y', \"you're\", 'do', 'again', 'any', 'being', 'mustn', 'we', 'them', 'further', 'my', \"hadn't\", 'been', \"wasn't\", 'myself', 'i', 'ours', 'only', 'isn', 'are', \"doesn't\", 'hasn', 'then', \"that'll\", 'some', 'ourselves', 'there', 'o', 'doing', \"won't\", 'with', 'yours', 'whom', 'ain', 'few', 've', 'not', 'their', 'those', 'why', 'did', 'in', 'were', \"couldn't\", 'on', 'how', 'for', 'themselves', 'below', \"you've\", 'or', 'each', 'hers', 'mightn', 'does', 'what', 'himself', 'than', 'more', 'they', 'over', 'an', 'own', 'couldn', 'needn', \"should've\", 'now', 'all', \"weren't\", 'off', 'me', \"it's\", 'has', \"aren't\", 'down', \"mightn't\", 's', \"didn't\", \"wouldn't\", \"you'd\", 'just', 'shouldn', 'at', 'same', 'a', 'against'}\n"
     ]
    }
   ],
   "source": [
    "#set stopwords to english\n",
    "stop=set(stopwords.words('english'))\n",
    "print(stop)\n",
    "\n",
    "#removing the stopwords\n",
    "def remove_stopwords(text, is_lower_case=False):\n",
    "    tokens = tokenizer.tokenize(text)\n",
    "    tokens = [token.strip() for token in tokens]\n",
    "    if is_lower_case:\n",
    "        filtered_tokens = [token for token in tokens if token not in stopword_list]\n",
    "    else:\n",
    "        filtered_tokens = [token for token in tokens if token.lower() not in stopword_list]\n",
    "    filtered_text = ' '.join(filtered_tokens)    \n",
    "    return filtered_text\n",
    "#Apply function on review column\n",
    "df['Description']=df['Description'].apply(remove_stopwords)"
   ]
  },
  {
   "cell_type": "code",
   "execution_count": 19,
   "id": "cc7e13d4",
   "metadata": {},
   "outputs": [
    {
     "name": "stdout",
     "output_type": "stream",
     "text": [
      "16724\n"
     ]
    }
   ],
   "source": [
    "longest_string = max(df[\"Description\"], key=len)\n",
    "print(len(longest_string))"
   ]
  },
  {
   "cell_type": "code",
   "execution_count": 20,
   "id": "4cd314e6",
   "metadata": {},
   "outputs": [],
   "source": [
    "text = df[\"Description\"]"
   ]
  },
  {
   "cell_type": "code",
   "execution_count": 21,
   "id": "6a29f7d1",
   "metadata": {},
   "outputs": [],
   "source": [
    "emotion =df[\"Mental_State\"]"
   ]
  },
  {
   "cell_type": "code",
   "execution_count": 22,
   "id": "99a25f3c",
   "metadata": {},
   "outputs": [
    {
     "name": "stdout",
     "output_type": "stream",
     "text": [
      "data shape (10710, 4)\n"
     ]
    }
   ],
   "source": [
    "print(\"data shape\", df.shape)"
   ]
  },
  {
   "cell_type": "code",
   "execution_count": 23,
   "id": "04dfc7f5",
   "metadata": {},
   "outputs": [
    {
     "name": "stdout",
     "output_type": "stream",
     "text": [
      "0         0\n",
      "1         0\n",
      "2         0\n",
      "3         0\n",
      "4         0\n",
      "         ..\n",
      "11736    10\n",
      "11737    10\n",
      "11738    10\n",
      "11739    10\n",
      "11740    10\n",
      "Name: Mental_State, Length: 10710, dtype: int64\n"
     ]
    }
   ],
   "source": [
    "Mental_Class=df.Mental_State.unique()\n",
    "dic={}\n",
    "for i,Mental_State in enumerate(Mental_Class):\n",
    "    dic[Mental_State]=i\n",
    "labels=df.Mental_State.apply(lambda x:dic[x])\n",
    "print(labels)"
   ]
  },
  {
   "cell_type": "code",
   "execution_count": 24,
   "id": "74f84f0c",
   "metadata": {},
   "outputs": [],
   "source": [
    "test_df=df.sample(frac=0.2,random_state=200)\n",
    "train_df=df.drop(test_df.index)"
   ]
  },
  {
   "cell_type": "code",
   "execution_count": 25,
   "id": "b71de20d",
   "metadata": {},
   "outputs": [
    {
     "data": {
      "text/html": [
       "<div>\n",
       "<style scoped>\n",
       "    .dataframe tbody tr th:only-of-type {\n",
       "        vertical-align: middle;\n",
       "    }\n",
       "\n",
       "    .dataframe tbody tr th {\n",
       "        vertical-align: top;\n",
       "    }\n",
       "\n",
       "    .dataframe thead th {\n",
       "        text-align: right;\n",
       "    }\n",
       "</style>\n",
       "<table border=\"1\" class=\"dataframe\">\n",
       "  <thead>\n",
       "    <tr style=\"text-align: right;\">\n",
       "      <th></th>\n",
       "      <th>Unnamed: 0</th>\n",
       "      <th>Description</th>\n",
       "      <th>Mental_State</th>\n",
       "      <th>Mental_State_label</th>\n",
       "    </tr>\n",
       "  </thead>\n",
       "  <tbody>\n",
       "    <tr>\n",
       "      <th>0</th>\n",
       "      <td>0</td>\n",
       "      <td>' sorri thi post. ' gonna whole lot hand wring...</td>\n",
       "      <td>Addiction</td>\n",
       "      <td>0</td>\n",
       "    </tr>\n",
       "    <tr>\n",
       "      <th>1</th>\n",
       "      <td>1</td>\n",
       "      <td>get super high high amount thc edibl stuff eve...</td>\n",
       "      <td>Addiction</td>\n",
       "      <td>0</td>\n",
       "    </tr>\n",
       "    <tr>\n",
       "      <th>2</th>\n",
       "      <td>2</td>\n",
       "      <td>brother shoot heroin/meth past 5 years , ran a...</td>\n",
       "      <td>Addiction</td>\n",
       "      <td>0</td>\n",
       "    </tr>\n",
       "    <tr>\n",
       "      <th>3</th>\n",
       "      <td>3</td>\n",
       "      <td>rlli need opinion cuz idk bout thi stuff don?t...</td>\n",
       "      <td>Addiction</td>\n",
       "      <td>0</td>\n",
       "    </tr>\n",
       "    <tr>\n",
       "      <th>4</th>\n",
       "      <td>4</td>\n",
       "      <td>ive smoke weed sinc 8th grade middl school hoo...</td>\n",
       "      <td>Addiction</td>\n",
       "      <td>0</td>\n",
       "    </tr>\n",
       "  </tbody>\n",
       "</table>\n",
       "</div>"
      ],
      "text/plain": [
       "   Unnamed: 0                                        Description Mental_State  \\\n",
       "0           0  ' sorri thi post. ' gonna whole lot hand wring...    Addiction   \n",
       "1           1  get super high high amount thc edibl stuff eve...    Addiction   \n",
       "2           2  brother shoot heroin/meth past 5 years , ran a...    Addiction   \n",
       "3           3  rlli need opinion cuz idk bout thi stuff don?t...    Addiction   \n",
       "4           4  ive smoke weed sinc 8th grade middl school hoo...    Addiction   \n",
       "\n",
       "   Mental_State_label  \n",
       "0                   0  \n",
       "1                   0  \n",
       "2                   0  \n",
       "3                   0  \n",
       "4                   0  "
      ]
     },
     "execution_count": 25,
     "metadata": {},
     "output_type": "execute_result"
    }
   ],
   "source": [
    "train_df.head()"
   ]
  },
  {
   "cell_type": "code",
   "execution_count": 26,
   "id": "5f70cdf8",
   "metadata": {},
   "outputs": [
    {
     "name": "stdout",
     "output_type": "stream",
     "text": [
      "<class 'pandas.core.frame.DataFrame'>\n",
      "Int64Index: 8568 entries, 0 to 11740\n",
      "Data columns (total 4 columns):\n",
      " #   Column              Non-Null Count  Dtype \n",
      "---  ------              --------------  ----- \n",
      " 0   Unnamed: 0          8568 non-null   int64 \n",
      " 1   Description         8568 non-null   object\n",
      " 2   Mental_State        8568 non-null   object\n",
      " 3   Mental_State_label  8568 non-null   int32 \n",
      "dtypes: int32(1), int64(1), object(2)\n",
      "memory usage: 301.2+ KB\n",
      "\n",
      "<class 'pandas.core.frame.DataFrame'>\n",
      "Int64Index: 2142 entries, 2642 to 3539\n",
      "Data columns (total 4 columns):\n",
      " #   Column              Non-Null Count  Dtype \n",
      "---  ------              --------------  ----- \n",
      " 0   Unnamed: 0          2142 non-null   int64 \n",
      " 1   Description         2142 non-null   object\n",
      " 2   Mental_State        2142 non-null   object\n",
      " 3   Mental_State_label  2142 non-null   int32 \n",
      "dtypes: int32(1), int64(1), object(2)\n",
      "memory usage: 75.3+ KB\n",
      "\n"
     ]
    }
   ],
   "source": [
    "#checking for ull values\n",
    "train_df.info()\n",
    "print()\n",
    "test_df.info()\n",
    "print()\n",
    "#val_df.info()\n",
    "#print()"
   ]
  },
  {
   "cell_type": "code",
   "execution_count": 27,
   "id": "f7dc5157",
   "metadata": {},
   "outputs": [
    {
     "data": {
      "text/plain": [
       "neutral                   832\n",
       "Borderline Personality    829\n",
       "Schizophernia             828\n",
       "Depression                821\n",
       "Suidal Thought            821\n",
       "Anxiety                   804\n",
       "Bipolar                   804\n",
       "Addiction                 798\n",
       "Alcoholism                795\n",
       "Aspergers                 622\n",
       "SelfHarm                  614\n",
       "Name: Mental_State, dtype: int64"
      ]
     },
     "execution_count": 27,
     "metadata": {},
     "output_type": "execute_result"
    }
   ],
   "source": [
    "train_df[\"Mental_State\"].value_counts()"
   ]
  },
  {
   "cell_type": "code",
   "execution_count": 28,
   "id": "7d5d210e",
   "metadata": {},
   "outputs": [
    {
     "data": {
      "text/plain": [
       "Anxiety                   220\n",
       "Bipolar                   220\n",
       "Alcoholism                204\n",
       "Suidal Thought            203\n",
       "Depression                203\n",
       "Addiction                 200\n",
       "Schizophernia             196\n",
       "Borderline Personality    195\n",
       "neutral                   192\n",
       "Aspergers                 177\n",
       "SelfHarm                  132\n",
       "Name: Mental_State, dtype: int64"
      ]
     },
     "execution_count": 28,
     "metadata": {},
     "output_type": "execute_result"
    }
   ],
   "source": [
    "test_df[\"Mental_State\"].value_counts()"
   ]
  },
  {
   "cell_type": "code",
   "execution_count": 29,
   "id": "053b4540",
   "metadata": {},
   "outputs": [
    {
     "name": "stdout",
     "output_type": "stream",
     "text": [
      "0        ' sorri thi post. ' gonna whole lot hand wring...\n",
      "1        get super high high amount thc edibl stuff eve...\n",
      "2        brother shoot heroin/meth past 5 years , ran a...\n",
      "3        rlli need opinion cuz idk bout thi stuff don?t...\n",
      "4        ive smoke weed sinc 8th grade middl school hoo...\n",
      "                               ...                        \n",
      "11734                     parent think punjabi especi sikh\n",
      "11735    wear thread pull ear take dump easier wear dam...\n",
      "11736    possibl satpathi ask question question hour fi...\n",
      "11737                                      god wa thorough\n",
      "11740                                      say becaus care\n",
      "Name: Description, Length: 8568, dtype: object\n"
     ]
    }
   ],
   "source": [
    "#sample text from dataset\n",
    "sample = train_df[\"Description\"]\n",
    "print(sample)"
   ]
  },
  {
   "cell_type": "code",
   "execution_count": 30,
   "id": "46623438",
   "metadata": {},
   "outputs": [],
   "source": [
    "x_train, x_test, y_train, y_test = train_df[\"Description\"], test_df[\"Description\"], train_df[\"Mental_State_label\"], test_df[\"Mental_State_label\"]"
   ]
  },
  {
   "cell_type": "code",
   "execution_count": 31,
   "id": "cb81d142",
   "metadata": {},
   "outputs": [],
   "source": [
    "from keras.utils import np_utils\n",
    "from keras.preprocessing.text import Tokenizer\n",
    "from keras.preprocessing.sequence import pad_sequences\n",
    "\n",
    "import tensorflow as tf\n",
    "from keras import layers\n",
    "from keras.models import Sequential\n",
    "\n",
    "EPOCHS= 35\n",
    "act= \"swish\"\n",
    "opt= tf.keras.optimizers.Adam(learning_rate=0.001)"
   ]
  },
  {
   "cell_type": "code",
   "execution_count": 32,
   "id": "5b775aeb",
   "metadata": {},
   "outputs": [],
   "source": [
    "#converting text to vectors via tokenization\n",
    "tokenizer = Tokenizer()\n",
    "tokenizer.fit_on_texts(x_train)\n",
    "\n",
    "X_train = tokenizer.texts_to_sequences(x_train)\n",
    "X_test = tokenizer.texts_to_sequences(x_test)\n",
    "TEST = tokenizer.texts_to_sequences(test_df[\"Description\"]) \n",
    "\n",
    "vocab_size = len(tokenizer.word_index) + 1 "
   ]
  },
  {
   "cell_type": "code",
   "execution_count": 33,
   "id": "79603d3f",
   "metadata": {},
   "outputs": [
    {
     "name": "stdout",
     "output_type": "stream",
     "text": [
      "Max len: 2621\n"
     ]
    }
   ],
   "source": [
    "#calculating max length of the vector\n",
    "lens_train = [len(i) for i in X_train]\n",
    "lens_test = [len(i) for i in X_test]\n",
    "lens = lens_train + lens_test\n",
    "\n",
    "maxlen = np.max(lens)\n",
    "\n",
    "print('Max len:', maxlen)"
   ]
  },
  {
   "cell_type": "code",
   "execution_count": 34,
   "id": "bb495e40",
   "metadata": {},
   "outputs": [],
   "source": [
    "#Zero padding every vector so that they are the same size\n",
    "X_train = pad_sequences(X_train, padding='post', maxlen=maxlen)\n",
    "X_test = pad_sequences(X_test, padding='post', maxlen=maxlen)\n",
    "TEST = pad_sequences(TEST, padding='post', maxlen=maxlen)"
   ]
  },
  {
   "cell_type": "code",
   "execution_count": 35,
   "id": "bbfc3acc",
   "metadata": {},
   "outputs": [],
   "source": [
    "#One Hot Encoding integer labels\n",
    "dummy_y_test = np_utils.to_categorical(y_test)\n",
    "dummy_y_train = np_utils.to_categorical(y_train)"
   ]
  },
  {
   "cell_type": "code",
   "execution_count": 36,
   "id": "a914d44d",
   "metadata": {},
   "outputs": [],
   "source": [
    "#reading fasttext\n",
    "def get_embedding_vectors(tokenizer, dim=300):\n",
    "    embedding_index = {}\n",
    "    with open('glove.840B.300d.txt','r', encoding=\"cp437\", errors='ignore') as f:\n",
    "        for line in tqdm.tqdm(f, \"Reading Glove\"):\n",
    "            values = line.split()\n",
    "            word = ''.join(values[:-300])\n",
    "            vectors = np.asarray(values[-300:], dtype='float32')\n",
    "            embedding_index[word] = vectors\n",
    "\n",
    "    word_index = tokenizer.word_index\n",
    "    embedding_matrix = np.zeros((len(word_index)+1, dim))\n",
    "    for word, i in word_index.items():\n",
    "        embedding_vector = embedding_index.get(word)\n",
    "        if embedding_vector is not None:\n",
    "            # words not found will be 0s\n",
    "            embedding_matrix[i] = embedding_vector\n",
    "          \n",
    "    return embedding_matrix"
   ]
  },
  {
   "cell_type": "code",
   "execution_count": 37,
   "id": "c7afb8fc",
   "metadata": {},
   "outputs": [
    {
     "name": "stderr",
     "output_type": "stream",
     "text": [
      "Reading Glove: 2196018it [03:41, 9912.24it/s] \n"
     ]
    }
   ],
   "source": [
    "embedding_matrix = get_embedding_vectors(tokenizer)"
   ]
  },
  {
   "cell_type": "code",
   "execution_count": 38,
   "id": "9a10d6e8",
   "metadata": {},
   "outputs": [
    {
     "name": "stdout",
     "output_type": "stream",
     "text": [
      "Model: \"sequential\"\n",
      "_________________________________________________________________\n",
      " Layer (type)                Output Shape              Param #   \n",
      "=================================================================\n",
      " embedding (Embedding)       (None, 2621, 300)         6401700   \n",
      "                                                                 \n",
      " dropout (Dropout)           (None, 2621, 300)         0         \n",
      "                                                                 \n",
      " conv1d (Conv1D)             (None, 2619, 64)          57664     \n",
      "                                                                 \n",
      " max_pooling1d (MaxPooling1D  (None, 873, 64)          0         \n",
      " )                                                               \n",
      "                                                                 \n",
      " dropout_1 (Dropout)         (None, 873, 64)           0         \n",
      "                                                                 \n",
      " conv1d_1 (Conv1D)           (None, 871, 64)           12352     \n",
      "                                                                 \n",
      " max_pooling1d_1 (MaxPooling  (None, 290, 64)          0         \n",
      " 1D)                                                             \n",
      "                                                                 \n",
      " dropout_2 (Dropout)         (None, 290, 64)           0         \n",
      "                                                                 \n",
      " bidirectional (Bidirectiona  (None, 512)              657408    \n",
      " l)                                                              \n",
      "                                                                 \n",
      " dropout_3 (Dropout)         (None, 512)               0         \n",
      "                                                                 \n",
      " dense (Dense)               (None, 256)               131328    \n",
      "                                                                 \n",
      " dropout_4 (Dropout)         (None, 256)               0         \n",
      "                                                                 \n",
      " dense_1 (Dense)             (None, 11)                2827      \n",
      "                                                                 \n",
      "=================================================================\n",
      "Total params: 7,263,279\n",
      "Trainable params: 7,263,279\n",
      "Non-trainable params: 0\n",
      "_________________________________________________________________\n"
     ]
    }
   ],
   "source": [
    "#defining CNN-BiLSTM model\n",
    "embedding_dim = 300\n",
    "\n",
    "model = Sequential()\n",
    "model.add(layers.Embedding(input_dim=vocab_size, output_dim=embedding_dim, weights = [embedding_matrix], input_length=maxlen))\n",
    "model.add(layers.Dropout(0.3)) \n",
    "model.add(layers.Conv1D(filters=64, kernel_size=3, activation=act)) \n",
    "model.add(layers.MaxPool1D(pool_size=3)) \n",
    "model.add(layers.Dropout(0.3))\n",
    "model.add(layers.Conv1D(filters=64, kernel_size=3, activation=act)) \n",
    "model.add(layers.MaxPool1D(pool_size=3)) \n",
    "model.add(layers.Dropout(0.3))\n",
    "model.add(layers.Bidirectional(layers.LSTM(256, recurrent_dropout=0.3)))\n",
    "model.add(layers.Dropout(0.3))\n",
    "model.add(layers.Dense(256,activation=act)) \n",
    "model.add(layers.Dropout(0.3)) \n",
    "model.add(layers.Dense(11, activation=\"softmax\"))\n",
    "model.compile(optimizer=opt, loss=\"categorical_crossentropy\",metrics=[\"accuracy\"])\n",
    "model.summary()"
   ]
  },
  {
   "cell_type": "code",
   "execution_count": 39,
   "id": "079b4cb1",
   "metadata": {},
   "outputs": [],
   "source": [
    "checkpoint_filepath = './Checkpoint/checkpoint'\n",
    "model_checkpoint_callback = tf.keras.callbacks.ModelCheckpoint(\n",
    "    filepath=checkpoint_filepath,\n",
    "    save_weights_only=True,\n",
    "    monitor='test_accuracy',\n",
    "    mode='max',\n",
    "    save_best_only=True)"
   ]
  },
  {
   "cell_type": "code",
   "execution_count": 40,
   "id": "0fbfa69e",
   "metadata": {},
   "outputs": [
    {
     "name": "stdout",
     "output_type": "stream",
     "text": [
      "Epoch 1/35\n",
      "134/134 [==============================] - ETA: 0s - loss: 1.9458 - accuracy: 0.3000 WARNING:tensorflow:Can save best model only with test_accuracy available, skipping.\n",
      "134/134 [==============================] - 1804s 13s/step - loss: 1.9458 - accuracy: 0.3000 - val_loss: 1.5077 - val_accuracy: 0.4547\n",
      "Epoch 2/35\n",
      "134/134 [==============================] - ETA: 0s - loss: 1.3477 - accuracy: 0.5324 WARNING:tensorflow:Can save best model only with test_accuracy available, skipping.\n",
      "134/134 [==============================] - 2616s 20s/step - loss: 1.3477 - accuracy: 0.5324 - val_loss: 1.2617 - val_accuracy: 0.5710\n",
      "Epoch 3/35\n",
      "134/134 [==============================] - ETA: 0s - loss: 0.9996 - accuracy: 0.6558 WARNING:tensorflow:Can save best model only with test_accuracy available, skipping.\n",
      "134/134 [==============================] - 2487s 19s/step - loss: 0.9996 - accuracy: 0.6558 - val_loss: 1.0444 - val_accuracy: 0.6569\n",
      "Epoch 4/35\n",
      "134/134 [==============================] - ETA: 0s - loss: 0.8027 - accuracy: 0.7249 WARNING:tensorflow:Can save best model only with test_accuracy available, skipping.\n",
      "134/134 [==============================] - 2576s 19s/step - loss: 0.8027 - accuracy: 0.7249 - val_loss: 0.9543 - val_accuracy: 0.6877\n",
      "Epoch 5/35\n",
      "134/134 [==============================] - ETA: 0s - loss: 0.6667 - accuracy: 0.7784 WARNING:tensorflow:Can save best model only with test_accuracy available, skipping.\n",
      "134/134 [==============================] - 2147s 16s/step - loss: 0.6667 - accuracy: 0.7784 - val_loss: 0.9820 - val_accuracy: 0.6979\n",
      "Epoch 6/35\n",
      "134/134 [==============================] - ETA: 0s - loss: 0.5668 - accuracy: 0.8092 WARNING:tensorflow:Can save best model only with test_accuracy available, skipping.\n",
      "134/134 [==============================] - 2145s 16s/step - loss: 0.5668 - accuracy: 0.8092 - val_loss: 1.1135 - val_accuracy: 0.6816\n",
      "Epoch 7/35\n",
      "134/134 [==============================] - ETA: 0s - loss: 0.4707 - accuracy: 0.8410 WARNING:tensorflow:Can save best model only with test_accuracy available, skipping.\n",
      "134/134 [==============================] - 2141s 16s/step - loss: 0.4707 - accuracy: 0.8410 - val_loss: 1.1399 - val_accuracy: 0.7003\n",
      "Epoch 8/35\n",
      "134/134 [==============================] - ETA: 0s - loss: 0.3929 - accuracy: 0.8693 WARNING:tensorflow:Can save best model only with test_accuracy available, skipping.\n",
      "134/134 [==============================] - 2131s 16s/step - loss: 0.3929 - accuracy: 0.8693 - val_loss: 1.1470 - val_accuracy: 0.7096\n",
      "Epoch 9/35\n",
      "134/134 [==============================] - ETA: 0s - loss: 0.3489 - accuracy: 0.8843 WARNING:tensorflow:Can save best model only with test_accuracy available, skipping.\n",
      "134/134 [==============================] - 2133s 16s/step - loss: 0.3489 - accuracy: 0.8843 - val_loss: 1.1362 - val_accuracy: 0.7021\n",
      "Epoch 10/35\n",
      "134/134 [==============================] - ETA: 0s - loss: 0.3048 - accuracy: 0.8990 WARNING:tensorflow:Can save best model only with test_accuracy available, skipping.\n",
      "134/134 [==============================] - 2152s 16s/step - loss: 0.3048 - accuracy: 0.8990 - val_loss: 1.2325 - val_accuracy: 0.7003\n",
      "Epoch 11/35\n",
      "134/134 [==============================] - ETA: 0s - loss: 0.2818 - accuracy: 0.9043 WARNING:tensorflow:Can save best model only with test_accuracy available, skipping.\n",
      "134/134 [==============================] - 2143s 16s/step - loss: 0.2818 - accuracy: 0.9043 - val_loss: 1.2410 - val_accuracy: 0.7026\n",
      "Epoch 12/35\n",
      "134/134 [==============================] - ETA: 0s - loss: 0.2312 - accuracy: 0.9253 WARNING:tensorflow:Can save best model only with test_accuracy available, skipping.\n",
      "134/134 [==============================] - 2153s 16s/step - loss: 0.2312 - accuracy: 0.9253 - val_loss: 1.3590 - val_accuracy: 0.7026\n",
      "Epoch 13/35\n",
      "134/134 [==============================] - ETA: 0s - loss: 0.1968 - accuracy: 0.9341 WARNING:tensorflow:Can save best model only with test_accuracy available, skipping.\n",
      "134/134 [==============================] - 2164s 16s/step - loss: 0.1968 - accuracy: 0.9341 - val_loss: 1.4362 - val_accuracy: 0.7040\n",
      "Epoch 14/35\n",
      "134/134 [==============================] - ETA: 0s - loss: 0.1774 - accuracy: 0.9414 WARNING:tensorflow:Can save best model only with test_accuracy available, skipping.\n",
      "134/134 [==============================] - 2167s 16s/step - loss: 0.1774 - accuracy: 0.9414 - val_loss: 1.4461 - val_accuracy: 0.6928\n",
      "Epoch 15/35\n",
      "134/134 [==============================] - ETA: 0s - loss: 0.1631 - accuracy: 0.9453 WARNING:tensorflow:Can save best model only with test_accuracy available, skipping.\n",
      "134/134 [==============================] - 2145s 16s/step - loss: 0.1631 - accuracy: 0.9453 - val_loss: 1.4768 - val_accuracy: 0.7003\n",
      "Epoch 16/35\n",
      "134/134 [==============================] - ETA: 0s - loss: 0.1482 - accuracy: 0.9510 WARNING:tensorflow:Can save best model only with test_accuracy available, skipping.\n",
      "134/134 [==============================] - 2217s 17s/step - loss: 0.1482 - accuracy: 0.9510 - val_loss: 1.5934 - val_accuracy: 0.6961\n",
      "Epoch 17/35\n",
      "134/134 [==============================] - ETA: 0s - loss: 0.1305 - accuracy: 0.9559 WARNING:tensorflow:Can save best model only with test_accuracy available, skipping.\n",
      "134/134 [==============================] - 2165s 16s/step - loss: 0.1305 - accuracy: 0.9559 - val_loss: 1.5807 - val_accuracy: 0.6989\n",
      "Epoch 18/35\n",
      "134/134 [==============================] - ETA: 0s - loss: 0.1209 - accuracy: 0.9602 WARNING:tensorflow:Can save best model only with test_accuracy available, skipping.\n",
      "134/134 [==============================] - 2160s 16s/step - loss: 0.1209 - accuracy: 0.9602 - val_loss: 1.5251 - val_accuracy: 0.6975\n",
      "Epoch 19/35\n",
      "134/134 [==============================] - ETA: 0s - loss: 0.0998 - accuracy: 0.9678 WARNING:tensorflow:Can save best model only with test_accuracy available, skipping.\n",
      "134/134 [==============================] - 2189s 16s/step - loss: 0.0998 - accuracy: 0.9678 - val_loss: 1.6752 - val_accuracy: 0.7073\n",
      "Epoch 20/35\n",
      "134/134 [==============================] - ETA: 0s - loss: 0.1115 - accuracy: 0.9645 WARNING:tensorflow:Can save best model only with test_accuracy available, skipping.\n",
      "134/134 [==============================] - 5090s 38s/step - loss: 0.1115 - accuracy: 0.9645 - val_loss: 1.6479 - val_accuracy: 0.7054\n",
      "Epoch 21/35\n",
      "134/134 [==============================] - ETA: 0s - loss: 0.0995 - accuracy: 0.9698 WARNING:tensorflow:Can save best model only with test_accuracy available, skipping.\n",
      "134/134 [==============================] - 5915s 44s/step - loss: 0.0995 - accuracy: 0.9698 - val_loss: 1.6340 - val_accuracy: 0.7049\n",
      "Epoch 22/35\n",
      "134/134 [==============================] - ETA: 0s - loss: 0.0834 - accuracy: 0.9730 WARNING:tensorflow:Can save best model only with test_accuracy available, skipping.\n",
      "134/134 [==============================] - 2326s 17s/step - loss: 0.0834 - accuracy: 0.9730 - val_loss: 1.7571 - val_accuracy: 0.6961\n",
      "Epoch 23/35\n",
      "134/134 [==============================] - ETA: 0s - loss: 0.0944 - accuracy: 0.9693 WARNING:tensorflow:Can save best model only with test_accuracy available, skipping.\n",
      "134/134 [==============================] - 2201s 16s/step - loss: 0.0944 - accuracy: 0.9693 - val_loss: 1.8205 - val_accuracy: 0.6933\n",
      "Epoch 24/35\n",
      "134/134 [==============================] - ETA: 0s - loss: 0.0794 - accuracy: 0.9719 WARNING:tensorflow:Can save best model only with test_accuracy available, skipping.\n",
      "134/134 [==============================] - 2187s 16s/step - loss: 0.0794 - accuracy: 0.9719 - val_loss: 1.7863 - val_accuracy: 0.6993\n",
      "Epoch 25/35\n",
      "134/134 [==============================] - ETA: 0s - loss: 0.0791 - accuracy: 0.9747 WARNING:tensorflow:Can save best model only with test_accuracy available, skipping.\n",
      "134/134 [==============================] - 2194s 16s/step - loss: 0.0791 - accuracy: 0.9747 - val_loss: 1.9056 - val_accuracy: 0.6919\n",
      "Epoch 26/35\n",
      "134/134 [==============================] - ETA: 0s - loss: 0.0733 - accuracy: 0.9771 WARNING:tensorflow:Can save best model only with test_accuracy available, skipping.\n",
      "134/134 [==============================] - 2199s 16s/step - loss: 0.0733 - accuracy: 0.9771 - val_loss: 1.8499 - val_accuracy: 0.6933\n",
      "Epoch 27/35\n"
     ]
    },
    {
     "name": "stdout",
     "output_type": "stream",
     "text": [
      "134/134 [==============================] - ETA: 0s - loss: 0.0800 - accuracy: 0.9732 WARNING:tensorflow:Can save best model only with test_accuracy available, skipping.\n",
      "134/134 [==============================] - 2191s 16s/step - loss: 0.0800 - accuracy: 0.9732 - val_loss: 1.8436 - val_accuracy: 0.6923\n",
      "Epoch 28/35\n",
      "134/134 [==============================] - ETA: 0s - loss: 0.0693 - accuracy: 0.9772 WARNING:tensorflow:Can save best model only with test_accuracy available, skipping.\n",
      "134/134 [==============================] - 1799s 13s/step - loss: 0.0693 - accuracy: 0.9772 - val_loss: 1.8638 - val_accuracy: 0.6900\n",
      "Epoch 29/35\n",
      "134/134 [==============================] - ETA: 0s - loss: 0.0674 - accuracy: 0.9781 WARNING:tensorflow:Can save best model only with test_accuracy available, skipping.\n",
      "134/134 [==============================] - 1786s 13s/step - loss: 0.0674 - accuracy: 0.9781 - val_loss: 1.9401 - val_accuracy: 0.6951\n",
      "Epoch 30/35\n",
      "134/134 [==============================] - ETA: 0s - loss: 0.0570 - accuracy: 0.9821 WARNING:tensorflow:Can save best model only with test_accuracy available, skipping.\n",
      "134/134 [==============================] - 1789s 13s/step - loss: 0.0570 - accuracy: 0.9821 - val_loss: 1.9352 - val_accuracy: 0.6905\n",
      "Epoch 31/35\n",
      "134/134 [==============================] - ETA: 0s - loss: 0.0770 - accuracy: 0.9742 WARNING:tensorflow:Can save best model only with test_accuracy available, skipping.\n",
      "134/134 [==============================] - 1795s 13s/step - loss: 0.0770 - accuracy: 0.9742 - val_loss: 1.8498 - val_accuracy: 0.7017\n",
      "Epoch 32/35\n",
      "134/134 [==============================] - ETA: 0s - loss: 0.0571 - accuracy: 0.9830 WARNING:tensorflow:Can save best model only with test_accuracy available, skipping.\n",
      "134/134 [==============================] - 1798s 13s/step - loss: 0.0571 - accuracy: 0.9830 - val_loss: 1.9923 - val_accuracy: 0.6975\n",
      "Epoch 33/35\n",
      "134/134 [==============================] - ETA: 0s - loss: 0.0579 - accuracy: 0.9807 WARNING:tensorflow:Can save best model only with test_accuracy available, skipping.\n",
      "134/134 [==============================] - 1793s 13s/step - loss: 0.0579 - accuracy: 0.9807 - val_loss: 1.9156 - val_accuracy: 0.6937\n",
      "Epoch 34/35\n",
      "134/134 [==============================] - ETA: 0s - loss: 0.0574 - accuracy: 0.9811 WARNING:tensorflow:Can save best model only with test_accuracy available, skipping.\n",
      "134/134 [==============================] - 1796s 13s/step - loss: 0.0574 - accuracy: 0.9811 - val_loss: 1.9675 - val_accuracy: 0.6956\n",
      "Epoch 35/35\n",
      "134/134 [==============================] - ETA: 0s - loss: 0.0523 - accuracy: 0.9812 WARNING:tensorflow:Can save best model only with test_accuracy available, skipping.\n",
      "134/134 [==============================] - 1803s 13s/step - loss: 0.0523 - accuracy: 0.9812 - val_loss: 2.0124 - val_accuracy: 0.7026\n",
      "Training Accuracy: 0.9984\n",
      "Testing Accuracy:  0.7026\n"
     ]
    }
   ],
   "source": [
    "history = model.fit(X_train, dummy_y_train, epochs=EPOCHS, verbose=1, validation_data=(X_test, dummy_y_test), batch_size=64, callbacks=[model_checkpoint_callback]) \n",
    "loss, accuracy = model.evaluate(X_train, dummy_y_train, verbose=0)\n",
    "print(\"Training Accuracy: {:.4f}\".format(accuracy))\n",
    "loss, accuracy = model.evaluate(X_test, dummy_y_test, verbose=0)\n",
    "print(\"Testing Accuracy:  {:.4f}\".format(accuracy))"
   ]
  },
  {
   "cell_type": "code",
   "execution_count": 41,
   "id": "cb6cbf4b",
   "metadata": {},
   "outputs": [],
   "source": [
    "def PlotGraph(history):\n",
    "    acc = history.history['accuracy']\n",
    "    val_acc = history.history['val_accuracy']\n",
    "    loss = history.history['loss']\n",
    "    val_loss = history.history['val_loss']\n",
    "    x = range(1, len(acc) + 1)\n",
    "\n",
    "    plt.figure(figsize=(12, 5))\n",
    "    plt.subplot(1, 2, 1)\n",
    "    plt.plot(x, acc, 'g', label='Training acc')\n",
    "    plt.plot(x, val_acc, 'b', label='Validation acc')\n",
    "    plt.title('Training and validation accuracy')\n",
    "    plt.legend()\n",
    "    plt.subplot(1, 2, 2)\n",
    "    plt.plot(x, loss, 'g', label='Training loss')\n",
    "    plt.plot(x, val_loss, 'b', label='Validation loss')\n",
    "    plt.title('Training and validation loss')\n",
    "    plt.legend()"
   ]
  },
  {
   "cell_type": "code",
   "execution_count": 42,
   "id": "a3a1d6c9",
   "metadata": {},
   "outputs": [
    {
     "data": {
      "image/png": "[encoded data removed]",
      "text/plain": [
       "<Figure size 864x360 with 2 Axes>"
      ]
     },
     "metadata": {
      "needs_background": "light"
     },
     "output_type": "display_data"
    }
   ],
   "source": [
    "PlotGraph(history)"
   ]
  },
  {
   "cell_type": "code",
   "execution_count": 43,
   "id": "b2244f33",
   "metadata": {},
   "outputs": [
    {
     "name": "stdout",
     "output_type": "stream",
     "text": [
      "Best Accuracy Achieved by Model: 0.7096171975135803\n"
     ]
    }
   ],
   "source": [
    "print(f\"Best Accuracy Achieved by Model: {max(history.history['val_accuracy'])}\")"
   ]
  },
  {
   "cell_type": "code",
   "execution_count": 44,
   "id": "1f4cc737",
   "metadata": {},
   "outputs": [
    {
     "data": {
      "text/plain": [
       "array([ 2,  1,  9, ...,  4, 10,  4], dtype=int64)"
      ]
     },
     "execution_count": 44,
     "metadata": {},
     "output_type": "execute_result"
    }
   ],
   "source": [
    "predict = model.predict(TEST)\n",
    "predict_class = np.argmax(predict, axis=1)\n",
    "predict_class = np.array(predict_class)\n",
    "predict_class"
   ]
  },
  {
   "cell_type": "code",
   "execution_count": 53,
   "id": "07fbb8f2",
   "metadata": {},
   "outputs": [
    {
     "data": {
      "text/plain": [
       "array([[150,  22,   1,   1,   1,   2,   5,   4,   8,   5,   1],\n",
       "       [ 17, 166,   6,   2,   0,   1,   2,   0,   6,   4,   0],\n",
       "       [  2,   1, 146,   8,   8,   3,  28,   3,   8,  10,   3],\n",
       "       [  1,   2,   6, 133,   2,   4,   8,   6,  13,   2,   0],\n",
       "       [  5,   3,  17,   3, 146,   6,  14,  12,   5,   8,   1],\n",
       "       [  2,   0,   8,  15,   7, 120,  19,   3,   9,  12,   0],\n",
       "       [  2,   0,   8,   4,   6,   2, 126,   1,  12,  39,   3],\n",
       "       [  6,   2,   7,   6,   4,   5,   5, 146,   4,   4,   7],\n",
       "       [  3,   1,   2,   1,   1,   4,  11,   1,  97,   6,   5],\n",
       "       [  3,   1,   7,   5,   1,   7,  52,   3,  10, 107,   7],\n",
       "       [  1,   0,   1,   1,   1,   1,   3,   1,  10,   5, 168]],\n",
       "      dtype=int64)"
      ]
     },
     "execution_count": 53,
     "metadata": {},
     "output_type": "execute_result"
    }
   ],
   "source": [
    "from sklearn.metrics import confusion_matrix\n",
    "\n",
    "cm = confusion_matrix(test_df[\"Mental_State_label\"], predict_class)\n",
    "cm"
   ]
  },
  {
   "cell_type": "code",
   "execution_count": 48,
   "id": "d6d34c1e",
   "metadata": {},
   "outputs": [
    {
     "data": {
      "text/plain": [
       "<AxesSubplot:>"
      ]
     },
     "execution_count": 48,
     "metadata": {},
     "output_type": "execute_result"
    },
    {
     "data": {
      "image/png": "[encoded data removed]",
      "text/plain": [
       "<Figure size 720x504 with 2 Axes>"
      ]
     },
     "metadata": {
      "needs_background": "light"
     },
     "output_type": "display_data"
    }
   ],
   "source": [
    "df_cm = pd.DataFrame(cm, index=[\"Anxiety\",\"Bipolar\",\"Borderline Personality\", \"Depression \", \"Schizophernia\",\"Suidal Thought\",\"neutral\",\n",
    "                                \"Alcoholism\",\"Addiction\",\"Aspergers\",\"SelfHarm \"], \n",
    "                     columns=[\"Anxiety\",\"Bipolar\",\"Borderline Personality\", \"Depression \", \"Schizophernia\",\"Suidal Thought\",\"neutral\",\n",
    "                                \"Alcoholism\",\"Addiction\",\"Aspergers\",\"SelfHarm \"])\n",
    "plt.figure(figsize = (10,7))\n",
    "sns.heatmap(df_cm,annot=True, fmt =\"d\")"
   ]
  },
  {
   "cell_type": "code",
   "execution_count": 51,
   "id": "cc35fbc5",
   "metadata": {},
   "outputs": [
    {
     "name": "stdout",
     "output_type": "stream",
     "text": [
      "                        precision    recall  f1-score   support\n",
      "\n",
      "               Anxiety       0.78      0.75      0.77       200\n",
      "               Bipolar       0.84      0.81      0.83       204\n",
      "Borderline Personality       0.70      0.66      0.68       220\n",
      "           Depression        0.74      0.75      0.75       177\n",
      "         Schizophernia       0.82      0.66      0.74       220\n",
      "        Suidal Thought       0.77      0.62      0.69       195\n",
      "               neutral       0.46      0.62      0.53       203\n",
      "            Alcoholism       0.81      0.74      0.78       196\n",
      "             Addiction       0.53      0.73      0.62       132\n",
      "             Aspergers       0.53      0.53      0.53       203\n",
      "             SelfHarm        0.86      0.88      0.87       192\n",
      "\n",
      "              accuracy                           0.70      2142\n",
      "             macro avg       0.71      0.71      0.71      2142\n",
      "          weighted avg       0.72      0.70      0.71      2142\n",
      "\n"
     ]
    }
   ],
   "source": [
    "from sklearn.metrics import classification_report\n",
    "\n",
    "print(classification_report(test_df[\"Mental_State_label\"], predict_class, target_names =[\"Anxiety\",\"Bipolar\",\"Borderline Personality\", \"Depression \", \"Schizophernia\",\"Suidal Thought\",\"neutral\",\n",
    "                                \"Alcoholism\",\"Addiction\",\"Aspergers\",\"SelfHarm \"]))"
   ]
  },
  {
   "cell_type": "code",
   "execution_count": 56,
   "id": "01b22149",
   "metadata": {},
   "outputs": [
    {
     "data": {
      "text/plain": [
       "<matplotlib.legend.Legend at 0x26ed759a970>"
      ]
     },
     "execution_count": 56,
     "metadata": {},
     "output_type": "execute_result"
    },
    {
     "data": {
      "image/png": "[encoded data removed]",
      "text/plain": [
       "<Figure size 432x288 with 1 Axes>"
      ]
     },
     "metadata": {
      "needs_background": "light"
     },
     "output_type": "display_data"
    }
   ],
   "source": [
    "plt.suptitle('Optimizer : Adam', fontsize=10)\n",
    "plt.ylabel('Accuracy', fontsize=16)\n",
    "plt.xlabel('Epoch', fontsize=14)\n",
    "plt.plot(history.history['accuracy'], color='b', label='Training accuracy')\n",
    "plt.plot(history.history['val_accuracy'], color='r', label='Validation accuracy')\n",
    "plt.legend(loc='upper right')"
   ]
  },
  {
   "cell_type": "code",
   "execution_count": null,
   "id": "d56c1eb5",
   "metadata": {},
   "outputs": [],
   "source": []
  }
 ],
 "metadata": {
  "kernelspec": {
   "display_name": "Python 3 (ipykernel)",
   "language": "python",
   "name": "python3"
  },
  "language_info": {
   "codemirror_mode": {
    "name": "ipython",
    "version": 3
   },
   "file_extension": ".py",
   "mimetype": "text/x-python",
   "name": "python",
   "nbconvert_exporter": "python",
   "pygments_lexer": "ipython3",
   "version": "3.9.7"
  }
 },
 "nbformat": 4,
 "nbformat_minor": 5
}
