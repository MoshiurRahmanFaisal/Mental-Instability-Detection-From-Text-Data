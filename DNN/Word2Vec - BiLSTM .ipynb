{
 "cells": [
  {
   "cell_type": "code",
   "execution_count": 1,
   "id": "0356e1cf",
   "metadata": {},
   "outputs": [],
   "source": [
    "import pandas as pd\n",
    "import numpy as np\n",
    "from matplotlib import pyplot as plt\n",
    "import seaborn as sns\n",
    "import math\n",
    "\n",
    "\n",
    "from gensim.models.word2vec import Word2Vec\n",
    "from sklearn.model_selection import train_test_split\n",
    "from tensorflow.keras.utils import to_categorical\n",
    "from keras.layers import Dense, Dropout, Conv1D, MaxPooling1D, GlobalMaxPooling1D, Embedding, Activation, Input, Flatten\n",
    "from keras.preprocessing.text import Tokenizer\n",
    "from keras.preprocessing.sequence import pad_sequences\n",
    "from keras.models import Sequential\n",
    "import re\n",
    "import nltk\n",
    "from nltk.corpus import stopwords\n",
    "from nltk.stem.snowball import PorterStemmer\n",
    "from sklearn import preprocessing\n",
    "\n",
    "import tensorflow as tf\n",
    "\n",
    "from keras.layers import LSTM, Bidirectional\n",
    "from keras.models import Model\n",
    "from keras.callbacks import EarlyStopping\n",
    "\n",
    "import gensim"
   ]
  },
  {
   "cell_type": "code",
   "execution_count": 2,
   "id": "7b6a9335",
   "metadata": {},
   "outputs": [],
   "source": [
    "df = pd.read_csv('mental_health_dataset.csv',encoding= 'unicode_escape')"
   ]
  },
  {
   "cell_type": "code",
   "execution_count": 3,
   "id": "136eda95",
   "metadata": {},
   "outputs": [
    {
     "data": {
      "text/plain": [
       "<bound method NDFrame.head of        Unnamed: 0                                        Description  \\\n",
       "0               0  I'm sorry about this post. It's gonna be a who...   \n",
       "1               1  Been getting super high off high amounts of th...   \n",
       "2               2  My brothers been shooting heroin/meth for the ...   \n",
       "3               3  I rlly need an opinion cuz idk bout this stuff...   \n",
       "4               4  Ive smoked weed since 8th grade in middle scho...   \n",
       "...           ...                                                ...   \n",
       "11736       11736  possible have satpathy ask question the questi...   \n",
       "11737       11737                              god that was thorough   \n",
       "11738       11738                      thread and meat kaun jat bhai   \n",
       "11739       11739     not touch food with your left hand left handed   \n",
       "11740       11740                     they say because they care for   \n",
       "\n",
       "      Mental_State  \n",
       "0        Addiction  \n",
       "1        Addiction  \n",
       "2        Addiction  \n",
       "3        Addiction  \n",
       "4        Addiction  \n",
       "...            ...  \n",
       "11736      neutral  \n",
       "11737      neutral  \n",
       "11738      neutral  \n",
       "11739      neutral  \n",
       "11740      neutral  \n",
       "\n",
       "[11741 rows x 3 columns]>"
      ]
     },
     "execution_count": 3,
     "metadata": {},
     "output_type": "execute_result"
    }
   ],
   "source": [
    "df.head"
   ]
  },
  {
   "cell_type": "code",
   "execution_count": 4,
   "id": "caecabfd",
   "metadata": {},
   "outputs": [
    {
     "data": {
      "text/html": [
       "<div>\n",
       "<style scoped>\n",
       "    .dataframe tbody tr th:only-of-type {\n",
       "        vertical-align: middle;\n",
       "    }\n",
       "\n",
       "    .dataframe tbody tr th {\n",
       "        vertical-align: top;\n",
       "    }\n",
       "\n",
       "    .dataframe thead tr th {\n",
       "        text-align: left;\n",
       "    }\n",
       "\n",
       "    .dataframe thead tr:last-of-type th {\n",
       "        text-align: right;\n",
       "    }\n",
       "</style>\n",
       "<table border=\"1\" class=\"dataframe\">\n",
       "  <thead>\n",
       "    <tr>\n",
       "      <th></th>\n",
       "      <th colspan=\"8\" halign=\"left\">Unnamed: 0</th>\n",
       "    </tr>\n",
       "    <tr>\n",
       "      <th></th>\n",
       "      <th>count</th>\n",
       "      <th>mean</th>\n",
       "      <th>std</th>\n",
       "      <th>min</th>\n",
       "      <th>25%</th>\n",
       "      <th>50%</th>\n",
       "      <th>75%</th>\n",
       "      <th>max</th>\n",
       "    </tr>\n",
       "    <tr>\n",
       "      <th>Mental_State</th>\n",
       "      <th></th>\n",
       "      <th></th>\n",
       "      <th></th>\n",
       "      <th></th>\n",
       "      <th></th>\n",
       "      <th></th>\n",
       "      <th></th>\n",
       "      <th></th>\n",
       "    </tr>\n",
       "  </thead>\n",
       "  <tbody>\n",
       "    <tr>\n",
       "      <th>Addiction</th>\n",
       "      <td>998.0</td>\n",
       "      <td>498.500000</td>\n",
       "      <td>288.242086</td>\n",
       "      <td>0.0</td>\n",
       "      <td>249.25</td>\n",
       "      <td>498.5</td>\n",
       "      <td>747.75</td>\n",
       "      <td>997.0</td>\n",
       "    </tr>\n",
       "    <tr>\n",
       "      <th>Alcoholism</th>\n",
       "      <td>999.0</td>\n",
       "      <td>1497.000000</td>\n",
       "      <td>288.530761</td>\n",
       "      <td>998.0</td>\n",
       "      <td>1247.50</td>\n",
       "      <td>1497.0</td>\n",
       "      <td>1746.50</td>\n",
       "      <td>1996.0</td>\n",
       "    </tr>\n",
       "    <tr>\n",
       "      <th>Anxiety</th>\n",
       "      <td>1024.0</td>\n",
       "      <td>2508.500000</td>\n",
       "      <td>295.747640</td>\n",
       "      <td>1997.0</td>\n",
       "      <td>2252.75</td>\n",
       "      <td>2508.5</td>\n",
       "      <td>2764.25</td>\n",
       "      <td>3020.0</td>\n",
       "    </tr>\n",
       "    <tr>\n",
       "      <th>Aspergers</th>\n",
       "      <td>799.0</td>\n",
       "      <td>3516.000000</td>\n",
       "      <td>230.795725</td>\n",
       "      <td>3117.0</td>\n",
       "      <td>3316.50</td>\n",
       "      <td>3516.0</td>\n",
       "      <td>3715.50</td>\n",
       "      <td>3915.0</td>\n",
       "    </tr>\n",
       "    <tr>\n",
       "      <th>Bipolar</th>\n",
       "      <td>1024.0</td>\n",
       "      <td>4427.500000</td>\n",
       "      <td>295.747640</td>\n",
       "      <td>3916.0</td>\n",
       "      <td>4171.75</td>\n",
       "      <td>4427.5</td>\n",
       "      <td>4683.25</td>\n",
       "      <td>4939.0</td>\n",
       "    </tr>\n",
       "    <tr>\n",
       "      <th>Borderline Personality</th>\n",
       "      <td>1024.0</td>\n",
       "      <td>5720.500000</td>\n",
       "      <td>295.747640</td>\n",
       "      <td>5209.0</td>\n",
       "      <td>5464.75</td>\n",
       "      <td>5720.5</td>\n",
       "      <td>5976.25</td>\n",
       "      <td>6232.0</td>\n",
       "    </tr>\n",
       "    <tr>\n",
       "      <th>Depression</th>\n",
       "      <td>1024.0</td>\n",
       "      <td>7018.500000</td>\n",
       "      <td>295.747640</td>\n",
       "      <td>6507.0</td>\n",
       "      <td>6762.75</td>\n",
       "      <td>7018.5</td>\n",
       "      <td>7274.25</td>\n",
       "      <td>7530.0</td>\n",
       "    </tr>\n",
       "    <tr>\n",
       "      <th>Schizophernia</th>\n",
       "      <td>1024.0</td>\n",
       "      <td>8149.500000</td>\n",
       "      <td>295.747640</td>\n",
       "      <td>7638.0</td>\n",
       "      <td>7893.75</td>\n",
       "      <td>8149.5</td>\n",
       "      <td>8405.25</td>\n",
       "      <td>8661.0</td>\n",
       "    </tr>\n",
       "    <tr>\n",
       "      <th>SelfHarm</th>\n",
       "      <td>746.0</td>\n",
       "      <td>9144.857909</td>\n",
       "      <td>215.894415</td>\n",
       "      <td>8772.0</td>\n",
       "      <td>8958.25</td>\n",
       "      <td>9144.5</td>\n",
       "      <td>9331.75</td>\n",
       "      <td>9518.0</td>\n",
       "    </tr>\n",
       "    <tr>\n",
       "      <th>Suidal Thought</th>\n",
       "      <td>1024.0</td>\n",
       "      <td>10030.500000</td>\n",
       "      <td>295.747640</td>\n",
       "      <td>9519.0</td>\n",
       "      <td>9774.75</td>\n",
       "      <td>10030.5</td>\n",
       "      <td>10286.25</td>\n",
       "      <td>10542.0</td>\n",
       "    </tr>\n",
       "    <tr>\n",
       "      <th>neutral</th>\n",
       "      <td>1024.0</td>\n",
       "      <td>11228.500000</td>\n",
       "      <td>295.747640</td>\n",
       "      <td>10717.0</td>\n",
       "      <td>10972.75</td>\n",
       "      <td>11228.5</td>\n",
       "      <td>11484.25</td>\n",
       "      <td>11740.0</td>\n",
       "    </tr>\n",
       "  </tbody>\n",
       "</table>\n",
       "</div>"
      ],
      "text/plain": [
       "                       Unnamed: 0                                     \\\n",
       "                            count          mean         std      min   \n",
       "Mental_State                                                           \n",
       "Addiction                   998.0    498.500000  288.242086      0.0   \n",
       "Alcoholism                  999.0   1497.000000  288.530761    998.0   \n",
       "Anxiety                    1024.0   2508.500000  295.747640   1997.0   \n",
       "Aspergers                   799.0   3516.000000  230.795725   3117.0   \n",
       "Bipolar                    1024.0   4427.500000  295.747640   3916.0   \n",
       "Borderline Personality     1024.0   5720.500000  295.747640   5209.0   \n",
       "Depression                 1024.0   7018.500000  295.747640   6507.0   \n",
       "Schizophernia              1024.0   8149.500000  295.747640   7638.0   \n",
       "SelfHarm                    746.0   9144.857909  215.894415   8772.0   \n",
       "Suidal Thought             1024.0  10030.500000  295.747640   9519.0   \n",
       "neutral                    1024.0  11228.500000  295.747640  10717.0   \n",
       "\n",
       "                                                              \n",
       "                             25%      50%       75%      max  \n",
       "Mental_State                                                  \n",
       "Addiction                 249.25    498.5    747.75    997.0  \n",
       "Alcoholism               1247.50   1497.0   1746.50   1996.0  \n",
       "Anxiety                  2252.75   2508.5   2764.25   3020.0  \n",
       "Aspergers                3316.50   3516.0   3715.50   3915.0  \n",
       "Bipolar                  4171.75   4427.5   4683.25   4939.0  \n",
       "Borderline Personality   5464.75   5720.5   5976.25   6232.0  \n",
       "Depression               6762.75   7018.5   7274.25   7530.0  \n",
       "Schizophernia            7893.75   8149.5   8405.25   8661.0  \n",
       "SelfHarm                 8958.25   9144.5   9331.75   9518.0  \n",
       "Suidal Thought           9774.75  10030.5  10286.25  10542.0  \n",
       "neutral                 10972.75  11228.5  11484.25  11740.0  "
      ]
     },
     "execution_count": 4,
     "metadata": {},
     "output_type": "execute_result"
    }
   ],
   "source": [
    "df.groupby(\"Mental_State\").describe()"
   ]
  },
  {
   "cell_type": "code",
   "execution_count": 5,
   "id": "a710a6cb",
   "metadata": {
    "scrolled": false
   },
   "outputs": [
    {
     "data": {
      "text/plain": [
       "Index(['Unnamed: 0', 'Description', 'Mental_State'], dtype='object')"
      ]
     },
     "execution_count": 5,
     "metadata": {},
     "output_type": "execute_result"
    }
   ],
   "source": [
    "df.columns"
   ]
  },
  {
   "cell_type": "code",
   "execution_count": 6,
   "id": "12f3da68",
   "metadata": {
    "scrolled": true
   },
   "outputs": [
    {
     "data": {
      "text/html": [
       "<div>\n",
       "<style scoped>\n",
       "    .dataframe tbody tr th:only-of-type {\n",
       "        vertical-align: middle;\n",
       "    }\n",
       "\n",
       "    .dataframe tbody tr th {\n",
       "        vertical-align: top;\n",
       "    }\n",
       "\n",
       "    .dataframe thead th {\n",
       "        text-align: right;\n",
       "    }\n",
       "</style>\n",
       "<table border=\"1\" class=\"dataframe\">\n",
       "  <thead>\n",
       "    <tr style=\"text-align: right;\">\n",
       "      <th></th>\n",
       "      <th>Description</th>\n",
       "      <th>Mental_State</th>\n",
       "    </tr>\n",
       "  </thead>\n",
       "  <tbody>\n",
       "    <tr>\n",
       "      <th>0</th>\n",
       "      <td>I'm sorry about this post. It's gonna be a who...</td>\n",
       "      <td>Addiction</td>\n",
       "    </tr>\n",
       "    <tr>\n",
       "      <th>1</th>\n",
       "      <td>Been getting super high off high amounts of th...</td>\n",
       "      <td>Addiction</td>\n",
       "    </tr>\n",
       "    <tr>\n",
       "      <th>2</th>\n",
       "      <td>My brothers been shooting heroin/meth for the ...</td>\n",
       "      <td>Addiction</td>\n",
       "    </tr>\n",
       "    <tr>\n",
       "      <th>3</th>\n",
       "      <td>I rlly need an opinion cuz idk bout this stuff...</td>\n",
       "      <td>Addiction</td>\n",
       "    </tr>\n",
       "    <tr>\n",
       "      <th>4</th>\n",
       "      <td>Ive smoked weed since 8th grade in middle scho...</td>\n",
       "      <td>Addiction</td>\n",
       "    </tr>\n",
       "    <tr>\n",
       "      <th>...</th>\n",
       "      <td>...</td>\n",
       "      <td>...</td>\n",
       "    </tr>\n",
       "    <tr>\n",
       "      <th>11736</th>\n",
       "      <td>possible have satpathy ask question the questi...</td>\n",
       "      <td>neutral</td>\n",
       "    </tr>\n",
       "    <tr>\n",
       "      <th>11737</th>\n",
       "      <td>god that was thorough</td>\n",
       "      <td>neutral</td>\n",
       "    </tr>\n",
       "    <tr>\n",
       "      <th>11738</th>\n",
       "      <td>thread and meat kaun jat bhai</td>\n",
       "      <td>neutral</td>\n",
       "    </tr>\n",
       "    <tr>\n",
       "      <th>11739</th>\n",
       "      <td>not touch food with your left hand left handed</td>\n",
       "      <td>neutral</td>\n",
       "    </tr>\n",
       "    <tr>\n",
       "      <th>11740</th>\n",
       "      <td>they say because they care for</td>\n",
       "      <td>neutral</td>\n",
       "    </tr>\n",
       "  </tbody>\n",
       "</table>\n",
       "<p>11741 rows × 2 columns</p>\n",
       "</div>"
      ],
      "text/plain": [
       "                                             Description Mental_State\n",
       "0      I'm sorry about this post. It's gonna be a who...    Addiction\n",
       "1      Been getting super high off high amounts of th...    Addiction\n",
       "2      My brothers been shooting heroin/meth for the ...    Addiction\n",
       "3      I rlly need an opinion cuz idk bout this stuff...    Addiction\n",
       "4      Ive smoked weed since 8th grade in middle scho...    Addiction\n",
       "...                                                  ...          ...\n",
       "11736  possible have satpathy ask question the questi...      neutral\n",
       "11737                              god that was thorough      neutral\n",
       "11738                      thread and meat kaun jat bhai      neutral\n",
       "11739     not touch food with your left hand left handed      neutral\n",
       "11740                     they say because they care for      neutral\n",
       "\n",
       "[11741 rows x 2 columns]"
      ]
     },
     "execution_count": 6,
     "metadata": {},
     "output_type": "execute_result"
    }
   ],
   "source": [
    "df.drop(labels='Unnamed: 0', axis=1)"
   ]
  },
  {
   "cell_type": "code",
   "execution_count": 7,
   "id": "5d7f014f",
   "metadata": {},
   "outputs": [
    {
     "data": {
      "text/html": [
       "<div>\n",
       "<style scoped>\n",
       "    .dataframe tbody tr th:only-of-type {\n",
       "        vertical-align: middle;\n",
       "    }\n",
       "\n",
       "    .dataframe tbody tr th {\n",
       "        vertical-align: top;\n",
       "    }\n",
       "\n",
       "    .dataframe thead th {\n",
       "        text-align: right;\n",
       "    }\n",
       "</style>\n",
       "<table border=\"1\" class=\"dataframe\">\n",
       "  <thead>\n",
       "    <tr style=\"text-align: right;\">\n",
       "      <th></th>\n",
       "      <th>Mental_State</th>\n",
       "      <th>Mental_State_label</th>\n",
       "    </tr>\n",
       "  </thead>\n",
       "  <tbody>\n",
       "    <tr>\n",
       "      <th>0</th>\n",
       "      <td>Addiction</td>\n",
       "      <td>0</td>\n",
       "    </tr>\n",
       "    <tr>\n",
       "      <th>1</th>\n",
       "      <td>Addiction</td>\n",
       "      <td>0</td>\n",
       "    </tr>\n",
       "    <tr>\n",
       "      <th>2</th>\n",
       "      <td>Addiction</td>\n",
       "      <td>0</td>\n",
       "    </tr>\n",
       "    <tr>\n",
       "      <th>3</th>\n",
       "      <td>Addiction</td>\n",
       "      <td>0</td>\n",
       "    </tr>\n",
       "    <tr>\n",
       "      <th>4</th>\n",
       "      <td>Addiction</td>\n",
       "      <td>0</td>\n",
       "    </tr>\n",
       "    <tr>\n",
       "      <th>5</th>\n",
       "      <td>Addiction</td>\n",
       "      <td>0</td>\n",
       "    </tr>\n",
       "    <tr>\n",
       "      <th>6</th>\n",
       "      <td>Addiction</td>\n",
       "      <td>0</td>\n",
       "    </tr>\n",
       "    <tr>\n",
       "      <th>7</th>\n",
       "      <td>Addiction</td>\n",
       "      <td>0</td>\n",
       "    </tr>\n",
       "    <tr>\n",
       "      <th>8</th>\n",
       "      <td>Addiction</td>\n",
       "      <td>0</td>\n",
       "    </tr>\n",
       "    <tr>\n",
       "      <th>9</th>\n",
       "      <td>Addiction</td>\n",
       "      <td>0</td>\n",
       "    </tr>\n",
       "    <tr>\n",
       "      <th>10</th>\n",
       "      <td>Addiction</td>\n",
       "      <td>0</td>\n",
       "    </tr>\n",
       "  </tbody>\n",
       "</table>\n",
       "</div>"
      ],
      "text/plain": [
       "   Mental_State  Mental_State_label\n",
       "0     Addiction                   0\n",
       "1     Addiction                   0\n",
       "2     Addiction                   0\n",
       "3     Addiction                   0\n",
       "4     Addiction                   0\n",
       "5     Addiction                   0\n",
       "6     Addiction                   0\n",
       "7     Addiction                   0\n",
       "8     Addiction                   0\n",
       "9     Addiction                   0\n",
       "10    Addiction                   0"
      ]
     },
     "execution_count": 7,
     "metadata": {},
     "output_type": "execute_result"
    }
   ],
   "source": [
    "from sklearn.preprocessing import LabelEncoder\n",
    "\n",
    "lb_make = LabelEncoder()\n",
    "df[\"Mental_State_label\"] = lb_make.fit_transform(df[\"Mental_State\"])\n",
    "df[[\"Mental_State\", \"Mental_State_label\"]].head(11)"
   ]
  },
  {
   "cell_type": "code",
   "execution_count": 8,
   "id": "df13b5df",
   "metadata": {},
   "outputs": [
    {
     "data": {
      "text/html": [
       "<div>\n",
       "<style scoped>\n",
       "    .dataframe tbody tr th:only-of-type {\n",
       "        vertical-align: middle;\n",
       "    }\n",
       "\n",
       "    .dataframe tbody tr th {\n",
       "        vertical-align: top;\n",
       "    }\n",
       "\n",
       "    .dataframe thead th {\n",
       "        text-align: right;\n",
       "    }\n",
       "</style>\n",
       "<table border=\"1\" class=\"dataframe\">\n",
       "  <thead>\n",
       "    <tr style=\"text-align: right;\">\n",
       "      <th></th>\n",
       "      <th>Unnamed: 0</th>\n",
       "      <th>Description</th>\n",
       "      <th>Mental_State</th>\n",
       "      <th>Mental_State_label</th>\n",
       "    </tr>\n",
       "  </thead>\n",
       "  <tbody>\n",
       "    <tr>\n",
       "      <th>0</th>\n",
       "      <td>False</td>\n",
       "      <td>False</td>\n",
       "      <td>False</td>\n",
       "      <td>False</td>\n",
       "    </tr>\n",
       "    <tr>\n",
       "      <th>1</th>\n",
       "      <td>False</td>\n",
       "      <td>False</td>\n",
       "      <td>False</td>\n",
       "      <td>False</td>\n",
       "    </tr>\n",
       "    <tr>\n",
       "      <th>2</th>\n",
       "      <td>False</td>\n",
       "      <td>False</td>\n",
       "      <td>False</td>\n",
       "      <td>False</td>\n",
       "    </tr>\n",
       "    <tr>\n",
       "      <th>3</th>\n",
       "      <td>False</td>\n",
       "      <td>False</td>\n",
       "      <td>False</td>\n",
       "      <td>False</td>\n",
       "    </tr>\n",
       "    <tr>\n",
       "      <th>4</th>\n",
       "      <td>False</td>\n",
       "      <td>False</td>\n",
       "      <td>False</td>\n",
       "      <td>False</td>\n",
       "    </tr>\n",
       "    <tr>\n",
       "      <th>...</th>\n",
       "      <td>...</td>\n",
       "      <td>...</td>\n",
       "      <td>...</td>\n",
       "      <td>...</td>\n",
       "    </tr>\n",
       "    <tr>\n",
       "      <th>11736</th>\n",
       "      <td>False</td>\n",
       "      <td>False</td>\n",
       "      <td>False</td>\n",
       "      <td>False</td>\n",
       "    </tr>\n",
       "    <tr>\n",
       "      <th>11737</th>\n",
       "      <td>False</td>\n",
       "      <td>False</td>\n",
       "      <td>False</td>\n",
       "      <td>False</td>\n",
       "    </tr>\n",
       "    <tr>\n",
       "      <th>11738</th>\n",
       "      <td>False</td>\n",
       "      <td>False</td>\n",
       "      <td>False</td>\n",
       "      <td>False</td>\n",
       "    </tr>\n",
       "    <tr>\n",
       "      <th>11739</th>\n",
       "      <td>False</td>\n",
       "      <td>False</td>\n",
       "      <td>False</td>\n",
       "      <td>False</td>\n",
       "    </tr>\n",
       "    <tr>\n",
       "      <th>11740</th>\n",
       "      <td>False</td>\n",
       "      <td>False</td>\n",
       "      <td>False</td>\n",
       "      <td>False</td>\n",
       "    </tr>\n",
       "  </tbody>\n",
       "</table>\n",
       "<p>11741 rows × 4 columns</p>\n",
       "</div>"
      ],
      "text/plain": [
       "       Unnamed: 0  Description  Mental_State  Mental_State_label\n",
       "0           False        False         False               False\n",
       "1           False        False         False               False\n",
       "2           False        False         False               False\n",
       "3           False        False         False               False\n",
       "4           False        False         False               False\n",
       "...           ...          ...           ...                 ...\n",
       "11736       False        False         False               False\n",
       "11737       False        False         False               False\n",
       "11738       False        False         False               False\n",
       "11739       False        False         False               False\n",
       "11740       False        False         False               False\n",
       "\n",
       "[11741 rows x 4 columns]"
      ]
     },
     "execution_count": 8,
     "metadata": {},
     "output_type": "execute_result"
    }
   ],
   "source": [
    "df.isnull()"
   ]
  },
  {
   "cell_type": "code",
   "execution_count": 9,
   "id": "6416bc9d",
   "metadata": {},
   "outputs": [],
   "source": [
    "df.dropna(inplace=True)"
   ]
  },
  {
   "cell_type": "code",
   "execution_count": 10,
   "id": "2d9a9193",
   "metadata": {},
   "outputs": [],
   "source": [
    "text = df['Description'].values.tolist()"
   ]
  },
  {
   "cell_type": "code",
   "execution_count": 11,
   "id": "c9eaf1ee",
   "metadata": {},
   "outputs": [
    {
     "data": {
      "text/html": [
       "<div>\n",
       "<style scoped>\n",
       "    .dataframe tbody tr th:only-of-type {\n",
       "        vertical-align: middle;\n",
       "    }\n",
       "\n",
       "    .dataframe tbody tr th {\n",
       "        vertical-align: top;\n",
       "    }\n",
       "\n",
       "    .dataframe thead tr th {\n",
       "        text-align: left;\n",
       "    }\n",
       "\n",
       "    .dataframe thead tr:last-of-type th {\n",
       "        text-align: right;\n",
       "    }\n",
       "</style>\n",
       "<table border=\"1\" class=\"dataframe\">\n",
       "  <thead>\n",
       "    <tr>\n",
       "      <th></th>\n",
       "      <th colspan=\"8\" halign=\"left\">Unnamed: 0</th>\n",
       "      <th colspan=\"8\" halign=\"left\">Mental_State_label</th>\n",
       "    </tr>\n",
       "    <tr>\n",
       "      <th></th>\n",
       "      <th>count</th>\n",
       "      <th>mean</th>\n",
       "      <th>std</th>\n",
       "      <th>min</th>\n",
       "      <th>25%</th>\n",
       "      <th>50%</th>\n",
       "      <th>75%</th>\n",
       "      <th>max</th>\n",
       "      <th>count</th>\n",
       "      <th>mean</th>\n",
       "      <th>std</th>\n",
       "      <th>min</th>\n",
       "      <th>25%</th>\n",
       "      <th>50%</th>\n",
       "      <th>75%</th>\n",
       "      <th>max</th>\n",
       "    </tr>\n",
       "    <tr>\n",
       "      <th>Mental_State</th>\n",
       "      <th></th>\n",
       "      <th></th>\n",
       "      <th></th>\n",
       "      <th></th>\n",
       "      <th></th>\n",
       "      <th></th>\n",
       "      <th></th>\n",
       "      <th></th>\n",
       "      <th></th>\n",
       "      <th></th>\n",
       "      <th></th>\n",
       "      <th></th>\n",
       "      <th></th>\n",
       "      <th></th>\n",
       "      <th></th>\n",
       "      <th></th>\n",
       "    </tr>\n",
       "  </thead>\n",
       "  <tbody>\n",
       "    <tr>\n",
       "      <th>Addiction</th>\n",
       "      <td>998.0</td>\n",
       "      <td>498.500000</td>\n",
       "      <td>288.242086</td>\n",
       "      <td>0.0</td>\n",
       "      <td>249.25</td>\n",
       "      <td>498.5</td>\n",
       "      <td>747.75</td>\n",
       "      <td>997.0</td>\n",
       "      <td>998.0</td>\n",
       "      <td>0.0</td>\n",
       "      <td>0.0</td>\n",
       "      <td>0.0</td>\n",
       "      <td>0.0</td>\n",
       "      <td>0.0</td>\n",
       "      <td>0.0</td>\n",
       "      <td>0.0</td>\n",
       "    </tr>\n",
       "    <tr>\n",
       "      <th>Alcoholism</th>\n",
       "      <td>999.0</td>\n",
       "      <td>1497.000000</td>\n",
       "      <td>288.530761</td>\n",
       "      <td>998.0</td>\n",
       "      <td>1247.50</td>\n",
       "      <td>1497.0</td>\n",
       "      <td>1746.50</td>\n",
       "      <td>1996.0</td>\n",
       "      <td>999.0</td>\n",
       "      <td>1.0</td>\n",
       "      <td>0.0</td>\n",
       "      <td>1.0</td>\n",
       "      <td>1.0</td>\n",
       "      <td>1.0</td>\n",
       "      <td>1.0</td>\n",
       "      <td>1.0</td>\n",
       "    </tr>\n",
       "    <tr>\n",
       "      <th>Anxiety</th>\n",
       "      <td>1024.0</td>\n",
       "      <td>2508.500000</td>\n",
       "      <td>295.747640</td>\n",
       "      <td>1997.0</td>\n",
       "      <td>2252.75</td>\n",
       "      <td>2508.5</td>\n",
       "      <td>2764.25</td>\n",
       "      <td>3020.0</td>\n",
       "      <td>1024.0</td>\n",
       "      <td>2.0</td>\n",
       "      <td>0.0</td>\n",
       "      <td>2.0</td>\n",
       "      <td>2.0</td>\n",
       "      <td>2.0</td>\n",
       "      <td>2.0</td>\n",
       "      <td>2.0</td>\n",
       "    </tr>\n",
       "    <tr>\n",
       "      <th>Aspergers</th>\n",
       "      <td>799.0</td>\n",
       "      <td>3516.000000</td>\n",
       "      <td>230.795725</td>\n",
       "      <td>3117.0</td>\n",
       "      <td>3316.50</td>\n",
       "      <td>3516.0</td>\n",
       "      <td>3715.50</td>\n",
       "      <td>3915.0</td>\n",
       "      <td>799.0</td>\n",
       "      <td>3.0</td>\n",
       "      <td>0.0</td>\n",
       "      <td>3.0</td>\n",
       "      <td>3.0</td>\n",
       "      <td>3.0</td>\n",
       "      <td>3.0</td>\n",
       "      <td>3.0</td>\n",
       "    </tr>\n",
       "    <tr>\n",
       "      <th>Bipolar</th>\n",
       "      <td>1024.0</td>\n",
       "      <td>4427.500000</td>\n",
       "      <td>295.747640</td>\n",
       "      <td>3916.0</td>\n",
       "      <td>4171.75</td>\n",
       "      <td>4427.5</td>\n",
       "      <td>4683.25</td>\n",
       "      <td>4939.0</td>\n",
       "      <td>1024.0</td>\n",
       "      <td>4.0</td>\n",
       "      <td>0.0</td>\n",
       "      <td>4.0</td>\n",
       "      <td>4.0</td>\n",
       "      <td>4.0</td>\n",
       "      <td>4.0</td>\n",
       "      <td>4.0</td>\n",
       "    </tr>\n",
       "    <tr>\n",
       "      <th>Borderline Personality</th>\n",
       "      <td>1024.0</td>\n",
       "      <td>5720.500000</td>\n",
       "      <td>295.747640</td>\n",
       "      <td>5209.0</td>\n",
       "      <td>5464.75</td>\n",
       "      <td>5720.5</td>\n",
       "      <td>5976.25</td>\n",
       "      <td>6232.0</td>\n",
       "      <td>1024.0</td>\n",
       "      <td>5.0</td>\n",
       "      <td>0.0</td>\n",
       "      <td>5.0</td>\n",
       "      <td>5.0</td>\n",
       "      <td>5.0</td>\n",
       "      <td>5.0</td>\n",
       "      <td>5.0</td>\n",
       "    </tr>\n",
       "    <tr>\n",
       "      <th>Depression</th>\n",
       "      <td>1024.0</td>\n",
       "      <td>7018.500000</td>\n",
       "      <td>295.747640</td>\n",
       "      <td>6507.0</td>\n",
       "      <td>6762.75</td>\n",
       "      <td>7018.5</td>\n",
       "      <td>7274.25</td>\n",
       "      <td>7530.0</td>\n",
       "      <td>1024.0</td>\n",
       "      <td>6.0</td>\n",
       "      <td>0.0</td>\n",
       "      <td>6.0</td>\n",
       "      <td>6.0</td>\n",
       "      <td>6.0</td>\n",
       "      <td>6.0</td>\n",
       "      <td>6.0</td>\n",
       "    </tr>\n",
       "    <tr>\n",
       "      <th>Schizophernia</th>\n",
       "      <td>1024.0</td>\n",
       "      <td>8149.500000</td>\n",
       "      <td>295.747640</td>\n",
       "      <td>7638.0</td>\n",
       "      <td>7893.75</td>\n",
       "      <td>8149.5</td>\n",
       "      <td>8405.25</td>\n",
       "      <td>8661.0</td>\n",
       "      <td>1024.0</td>\n",
       "      <td>7.0</td>\n",
       "      <td>0.0</td>\n",
       "      <td>7.0</td>\n",
       "      <td>7.0</td>\n",
       "      <td>7.0</td>\n",
       "      <td>7.0</td>\n",
       "      <td>7.0</td>\n",
       "    </tr>\n",
       "    <tr>\n",
       "      <th>SelfHarm</th>\n",
       "      <td>746.0</td>\n",
       "      <td>9144.857909</td>\n",
       "      <td>215.894415</td>\n",
       "      <td>8772.0</td>\n",
       "      <td>8958.25</td>\n",
       "      <td>9144.5</td>\n",
       "      <td>9331.75</td>\n",
       "      <td>9518.0</td>\n",
       "      <td>746.0</td>\n",
       "      <td>8.0</td>\n",
       "      <td>0.0</td>\n",
       "      <td>8.0</td>\n",
       "      <td>8.0</td>\n",
       "      <td>8.0</td>\n",
       "      <td>8.0</td>\n",
       "      <td>8.0</td>\n",
       "    </tr>\n",
       "    <tr>\n",
       "      <th>Suidal Thought</th>\n",
       "      <td>1024.0</td>\n",
       "      <td>10030.500000</td>\n",
       "      <td>295.747640</td>\n",
       "      <td>9519.0</td>\n",
       "      <td>9774.75</td>\n",
       "      <td>10030.5</td>\n",
       "      <td>10286.25</td>\n",
       "      <td>10542.0</td>\n",
       "      <td>1024.0</td>\n",
       "      <td>9.0</td>\n",
       "      <td>0.0</td>\n",
       "      <td>9.0</td>\n",
       "      <td>9.0</td>\n",
       "      <td>9.0</td>\n",
       "      <td>9.0</td>\n",
       "      <td>9.0</td>\n",
       "    </tr>\n",
       "    <tr>\n",
       "      <th>neutral</th>\n",
       "      <td>1024.0</td>\n",
       "      <td>11228.500000</td>\n",
       "      <td>295.747640</td>\n",
       "      <td>10717.0</td>\n",
       "      <td>10972.75</td>\n",
       "      <td>11228.5</td>\n",
       "      <td>11484.25</td>\n",
       "      <td>11740.0</td>\n",
       "      <td>1024.0</td>\n",
       "      <td>10.0</td>\n",
       "      <td>0.0</td>\n",
       "      <td>10.0</td>\n",
       "      <td>10.0</td>\n",
       "      <td>10.0</td>\n",
       "      <td>10.0</td>\n",
       "      <td>10.0</td>\n",
       "    </tr>\n",
       "  </tbody>\n",
       "</table>\n",
       "</div>"
      ],
      "text/plain": [
       "                       Unnamed: 0                                     \\\n",
       "                            count          mean         std      min   \n",
       "Mental_State                                                           \n",
       "Addiction                   998.0    498.500000  288.242086      0.0   \n",
       "Alcoholism                  999.0   1497.000000  288.530761    998.0   \n",
       "Anxiety                    1024.0   2508.500000  295.747640   1997.0   \n",
       "Aspergers                   799.0   3516.000000  230.795725   3117.0   \n",
       "Bipolar                    1024.0   4427.500000  295.747640   3916.0   \n",
       "Borderline Personality     1024.0   5720.500000  295.747640   5209.0   \n",
       "Depression                 1024.0   7018.500000  295.747640   6507.0   \n",
       "Schizophernia              1024.0   8149.500000  295.747640   7638.0   \n",
       "SelfHarm                    746.0   9144.857909  215.894415   8772.0   \n",
       "Suidal Thought             1024.0  10030.500000  295.747640   9519.0   \n",
       "neutral                    1024.0  11228.500000  295.747640  10717.0   \n",
       "\n",
       "                                                              \\\n",
       "                             25%      50%       75%      max   \n",
       "Mental_State                                                   \n",
       "Addiction                 249.25    498.5    747.75    997.0   \n",
       "Alcoholism               1247.50   1497.0   1746.50   1996.0   \n",
       "Anxiety                  2252.75   2508.5   2764.25   3020.0   \n",
       "Aspergers                3316.50   3516.0   3715.50   3915.0   \n",
       "Bipolar                  4171.75   4427.5   4683.25   4939.0   \n",
       "Borderline Personality   5464.75   5720.5   5976.25   6232.0   \n",
       "Depression               6762.75   7018.5   7274.25   7530.0   \n",
       "Schizophernia            7893.75   8149.5   8405.25   8661.0   \n",
       "SelfHarm                 8958.25   9144.5   9331.75   9518.0   \n",
       "Suidal Thought           9774.75  10030.5  10286.25  10542.0   \n",
       "neutral                 10972.75  11228.5  11484.25  11740.0   \n",
       "\n",
       "                       Mental_State_label                                     \\\n",
       "                                    count  mean  std   min   25%   50%   75%   \n",
       "Mental_State                                                                   \n",
       "Addiction                           998.0   0.0  0.0   0.0   0.0   0.0   0.0   \n",
       "Alcoholism                          999.0   1.0  0.0   1.0   1.0   1.0   1.0   \n",
       "Anxiety                            1024.0   2.0  0.0   2.0   2.0   2.0   2.0   \n",
       "Aspergers                           799.0   3.0  0.0   3.0   3.0   3.0   3.0   \n",
       "Bipolar                            1024.0   4.0  0.0   4.0   4.0   4.0   4.0   \n",
       "Borderline Personality             1024.0   5.0  0.0   5.0   5.0   5.0   5.0   \n",
       "Depression                         1024.0   6.0  0.0   6.0   6.0   6.0   6.0   \n",
       "Schizophernia                      1024.0   7.0  0.0   7.0   7.0   7.0   7.0   \n",
       "SelfHarm                            746.0   8.0  0.0   8.0   8.0   8.0   8.0   \n",
       "Suidal Thought                     1024.0   9.0  0.0   9.0   9.0   9.0   9.0   \n",
       "neutral                            1024.0  10.0  0.0  10.0  10.0  10.0  10.0   \n",
       "\n",
       "                              \n",
       "                         max  \n",
       "Mental_State                  \n",
       "Addiction                0.0  \n",
       "Alcoholism               1.0  \n",
       "Anxiety                  2.0  \n",
       "Aspergers                3.0  \n",
       "Bipolar                  4.0  \n",
       "Borderline Personality   5.0  \n",
       "Depression               6.0  \n",
       "Schizophernia            7.0  \n",
       "SelfHarm                 8.0  \n",
       "Suidal Thought           9.0  \n",
       "neutral                 10.0  "
      ]
     },
     "execution_count": 11,
     "metadata": {},
     "output_type": "execute_result"
    }
   ],
   "source": [
    "df.groupby(\"Mental_State\").describe()"
   ]
  },
  {
   "cell_type": "code",
   "execution_count": 12,
   "id": "9c6d59d0",
   "metadata": {},
   "outputs": [
    {
     "data": {
      "text/plain": [
       "Anxiety                   1024\n",
       "Bipolar                   1024\n",
       "Borderline Personality    1024\n",
       "Depression                1024\n",
       "Schizophernia             1024\n",
       "Suidal Thought            1024\n",
       "neutral                   1024\n",
       "Alcoholism                 999\n",
       "Addiction                  998\n",
       "Aspergers                  799\n",
       "SelfHarm                   746\n",
       "Name: Mental_State, dtype: int64"
      ]
     },
     "execution_count": 12,
     "metadata": {},
     "output_type": "execute_result"
    }
   ],
   "source": [
    "df[\"Mental_State\"].value_counts()"
   ]
  },
  {
   "cell_type": "code",
   "execution_count": 13,
   "id": "9367105d",
   "metadata": {},
   "outputs": [
    {
     "name": "stderr",
     "output_type": "stream",
     "text": [
      "C:\\Users\\moshi\\anaconda3\\lib\\site-packages\\seaborn\\_decorators.py:36: FutureWarning: Pass the following variable as a keyword arg: x. From version 0.12, the only valid positional argument will be `data`, and passing other arguments without an explicit keyword will result in an error or misinterpretation.\n",
      "  warnings.warn(\n"
     ]
    },
    {
     "data": {
      "image/png": "[encoded data removed]",
      "text/plain": [
       "<Figure size 1584x720 with 1 Axes>"
      ]
     },
     "metadata": {
      "needs_background": "light"
     },
     "output_type": "display_data"
    }
   ],
   "source": [
    "plt.subplots(figsize=(22,10))\n",
    "sns.countplot(df[\"Mental_State\"])\n",
    "plt.show()"
   ]
  },
  {
   "cell_type": "code",
   "execution_count": 14,
   "id": "9c9e4989",
   "metadata": {},
   "outputs": [
    {
     "name": "stdout",
     "output_type": "stream",
     "text": [
      "26163\n"
     ]
    }
   ],
   "source": [
    "longest_string = max(df[\"Description\"], key=len)\n",
    "print(len(longest_string))"
   ]
  },
  {
   "cell_type": "code",
   "execution_count": 15,
   "id": "1d0cad3c",
   "metadata": {},
   "outputs": [],
   "source": [
    "import nltk\n",
    "\n",
    "from nltk.corpus import stopwords\n",
    "from nltk.stem.porter import PorterStemmer\n",
    "from wordcloud import WordCloud,STOPWORDS\n",
    "from nltk.stem import WordNetLemmatizer\n",
    "from nltk.tokenize import word_tokenize,sent_tokenize\n",
    "from bs4 import BeautifulSoup\n",
    "\n",
    "import re,string,unicodedata\n",
    "from nltk.tokenize.toktok import ToktokTokenizer\n",
    "from nltk.stem import LancasterStemmer,WordNetLemmatizer"
   ]
  },
  {
   "cell_type": "code",
   "execution_count": 16,
   "id": "3428e0c9",
   "metadata": {},
   "outputs": [],
   "source": [
    "#Tokenization of text\n",
    "tokenizer=ToktokTokenizer()\n",
    "#Setting English stopwords\n",
    "stopword_list=nltk.corpus.stopwords.words('english')"
   ]
  },
  {
   "cell_type": "code",
   "execution_count": 17,
   "id": "a8406c9a",
   "metadata": {},
   "outputs": [],
   "source": [
    "#Removing the html strips\n",
    "def strip_html(text):\n",
    "    soup = BeautifulSoup(text, \"html.parser\")\n",
    "    return soup.get_text()\n",
    "\n",
    "#Removing the square brackets\n",
    "def remove_between_square_brackets(text):\n",
    "    return re.sub('\\[[^]]*\\]', '', text)\n",
    "\n",
    "#Removing the noisy text\n",
    "def denoise_text(text):\n",
    "    text = strip_html(text)\n",
    "    text = remove_between_square_brackets(text)\n",
    "    return text\n",
    "#Apply function on description column\n",
    "df['Description']=df['Description'].apply(denoise_text)"
   ]
  },
  {
   "cell_type": "code",
   "execution_count": 18,
   "id": "92115630",
   "metadata": {},
   "outputs": [],
   "source": [
    "#Define function for removing special characters\n",
    "def remove_special_characters(text, remove_digits=True):\n",
    "    pattern=r'[^a-zA-z0-9\\s]'\n",
    "    text=re.sub(pattern,'',text)\n",
    "    return text\n",
    "#Apply function on description column\n",
    "df['Description']=df['Description'].apply(remove_special_characters)"
   ]
  },
  {
   "cell_type": "code",
   "execution_count": 19,
   "id": "8ade1ac6",
   "metadata": {},
   "outputs": [],
   "source": [
    "#Stemming the text\n",
    "def simple_stemmer(text):\n",
    "    ps=nltk.porter.PorterStemmer()\n",
    "    text= ' '.join([ps.stem(word) for word in text.split()])\n",
    "    return text\n",
    "#Apply function on description column\n",
    "df['Description']=df['Description'].apply(simple_stemmer)"
   ]
  },
  {
   "cell_type": "code",
   "execution_count": 20,
   "id": "ac170561",
   "metadata": {},
   "outputs": [
    {
     "name": "stdout",
     "output_type": "stream",
     "text": [
      "{'or', 'same', 'once', \"should've\", 'hadn', \"aren't\", 'aren', \"needn't\", \"shouldn't\", 'while', 'for', 'had', 'whom', 'than', 'those', 'hasn', 'between', 'above', 'needn', \"weren't\", 'weren', \"you'd\", 'didn', 'my', \"wouldn't\", 'myself', 'ourselves', 'nor', 'from', 'through', 'so', \"shan't\", 'yourself', 'her', 'theirs', 'can', 'ain', 'doing', 'out', 'here', 'they', 'wouldn', 'shan', 'these', 'because', 'does', 'own', \"hasn't\", 'under', 'then', 'by', 'do', 'most', 'will', 'your', 'that', 'after', 'and', 'both', 'couldn', 'ma', \"doesn't\", 'yourselves', 'all', 'further', 'am', 'wasn', 'very', 'where', 'ours', 'has', 'was', 'below', 'about', 'just', 'don', 'such', 'its', 'into', 'an', 'should', 'y', 'been', 'o', 'our', 're', 'it', 'not', 'herself', \"it's\", 'too', 'm', 'isn', 'shouldn', 'himself', 'i', 'haven', 'hers', 'some', 'mightn', 'each', \"hadn't\", 'now', 'll', \"isn't\", 's', 'them', 'a', 'him', 'itself', 'more', \"don't\", 'off', 'are', 'of', \"mightn't\", 'have', 'against', 'how', 'who', 'his', 'but', 'we', \"mustn't\", 'up', 'over', 'why', 'me', \"you're\", 'were', 'having', 'did', 'he', 'which', 'this', \"that'll\", 've', 'no', 'at', 'mustn', \"won't\", 'with', 'before', 'on', 'yours', 'be', 'to', 'during', 'only', 'she', \"couldn't\", \"haven't\", 'is', 'their', 'few', 't', 'if', 'in', 'any', \"wasn't\", 'when', 'as', 'what', 'again', 'd', 'there', 'being', 'down', \"didn't\", 'other', \"you've\", 'won', 'until', 'themselves', 'the', 'you', \"you'll\", 'doesn', \"she's\"}\n"
     ]
    }
   ],
   "source": [
    "#set stopwords to english\n",
    "stop=set(stopwords.words('english'))\n",
    "print(stop)\n",
    "\n",
    "#removing the stopwords\n",
    "def remove_stopwords(text, is_lower_case=False):\n",
    "    tokens = tokenizer.tokenize(text)\n",
    "    tokens = [token.strip() for token in tokens]\n",
    "    if is_lower_case:\n",
    "        filtered_tokens = [token for token in tokens if token not in stopword_list]\n",
    "    else:\n",
    "        filtered_tokens = [token for token in tokens if token.lower() not in stopword_list]\n",
    "    filtered_text = ' '.join(filtered_tokens)    \n",
    "    return filtered_text\n",
    "#Apply function on review column\n",
    "df['Description']=df['Description'].apply(remove_stopwords)"
   ]
  },
  {
   "cell_type": "code",
   "execution_count": 21,
   "id": "9d5ca4e7",
   "metadata": {},
   "outputs": [
    {
     "name": "stdout",
     "output_type": "stream",
     "text": [
      "15023\n"
     ]
    }
   ],
   "source": [
    "longest_string = max(df[\"Description\"], key=len)\n",
    "print(len(longest_string))"
   ]
  },
  {
   "cell_type": "code",
   "execution_count": 22,
   "id": "6a249536",
   "metadata": {},
   "outputs": [],
   "source": [
    "text = df[\"Description\"]"
   ]
  },
  {
   "cell_type": "code",
   "execution_count": 23,
   "id": "7712f167",
   "metadata": {},
   "outputs": [],
   "source": [
    "emotion =df[\"Mental_State\"]"
   ]
  },
  {
   "cell_type": "code",
   "execution_count": 24,
   "id": "fcd3a25e",
   "metadata": {},
   "outputs": [
    {
     "name": "stdout",
     "output_type": "stream",
     "text": [
      "data shape (10710, 4)\n"
     ]
    }
   ],
   "source": [
    "print(\"data shape\", df.shape)"
   ]
  },
  {
   "cell_type": "code",
   "execution_count": 25,
   "id": "5dec2967",
   "metadata": {},
   "outputs": [
    {
     "name": "stdout",
     "output_type": "stream",
     "text": [
      "0         0\n",
      "1         0\n",
      "2         0\n",
      "3         0\n",
      "4         0\n",
      "         ..\n",
      "11736    10\n",
      "11737    10\n",
      "11738    10\n",
      "11739    10\n",
      "11740    10\n",
      "Name: Mental_State, Length: 10710, dtype: int64\n"
     ]
    }
   ],
   "source": [
    "Mental_Class=df.Mental_State.unique()\n",
    "dic={}\n",
    "for i,Mental_State in enumerate(Mental_Class):\n",
    "    dic[Mental_State]=i\n",
    "labels=df.Mental_State.apply(lambda x:dic[x])\n",
    "print(labels)"
   ]
  },
  {
   "cell_type": "code",
   "execution_count": 26,
   "id": "37401ffc",
   "metadata": {},
   "outputs": [],
   "source": [
    "val_data=df.sample(frac=0.2,random_state=200)\n",
    "train_data=df.drop(val_data.index)"
   ]
  },
  {
   "cell_type": "code",
   "execution_count": 27,
   "id": "6db807b5",
   "metadata": {},
   "outputs": [],
   "source": [
    "from keras.preprocessing.text import Tokenizer\n",
    "from keras.preprocessing.sequence import pad_sequences\n",
    "from tensorflow.keras.utils import to_categorical"
   ]
  },
  {
   "cell_type": "code",
   "execution_count": 28,
   "id": "69a6f281",
   "metadata": {},
   "outputs": [],
   "source": [
    "texts=train_data.Description"
   ]
  },
  {
   "cell_type": "code",
   "execution_count": 29,
   "id": "9feb2519",
   "metadata": {},
   "outputs": [
    {
     "name": "stdout",
     "output_type": "stream",
     "text": [
      "Found 18353 unique tokens.\n"
     ]
    }
   ],
   "source": [
    "NUM_WORDS=20000\n",
    "tokenizer = Tokenizer(num_words=NUM_WORDS,filters='!\"#$%&()*+,-./:;<=>?@[\\\\]^_`{|}~\\t\\n\\'',\n",
    "                      lower=True)\n",
    "tokenizer.fit_on_texts(texts)\n",
    "sequences_train = tokenizer.texts_to_sequences(texts)\n",
    "sequences_valid=tokenizer.texts_to_sequences(val_data.Description)\n",
    "word_index = tokenizer.word_index\n",
    "print('Found %s unique tokens.' % len(word_index))"
   ]
  },
  {
   "cell_type": "code",
   "execution_count": 30,
   "id": "bdda0e16",
   "metadata": {},
   "outputs": [
    {
     "name": "stdout",
     "output_type": "stream",
     "text": [
      "Shape of X train and X validation tensor: (8568, 2502) (2142, 2502)\n",
      "Shape of label train and validation tensor: (8568, 11) (2142, 11)\n"
     ]
    }
   ],
   "source": [
    "X_train = pad_sequences(sequences_train)\n",
    "X_val = pad_sequences(sequences_valid,maxlen=X_train.shape[1])\n",
    "y_train = to_categorical(np.asarray(labels[train_data.index]))\n",
    "y_val = to_categorical(np.asarray(labels[val_data.index]))\n",
    "print('Shape of X train and X validation tensor:', X_train.shape,X_val.shape)\n",
    "print('Shape of label train and validation tensor:', y_train.shape,y_val.shape)"
   ]
  },
  {
   "cell_type": "code",
   "execution_count": 31,
   "id": "89620c4f",
   "metadata": {},
   "outputs": [
    {
     "name": "stdout",
     "output_type": "stream",
     "text": [
      "(18354, 300)\n"
     ]
    }
   ],
   "source": [
    "import gensim\n",
    "from gensim.models import Word2Vec\n",
    "from gensim.utils import simple_preprocess\n",
    "\n",
    "from gensim.models.keyedvectors import KeyedVectors\n",
    "\n",
    "word_vectors = KeyedVectors.load_word2vec_format('C:/Users/moshi/Python Code/Vietnam and Indonesia/GoogleNews-vectors-negative300.bin', binary=True)\n",
    "\n",
    "EMBEDDING_DIM=300\n",
    "vocabulary_size=min(len(word_index)+1,NUM_WORDS)\n",
    "embedding_matrix = np.zeros((vocabulary_size, EMBEDDING_DIM))\n",
    "for word, i in word_index.items():\n",
    "    if i>=NUM_WORDS:\n",
    "        continue\n",
    "    try:\n",
    "        embedding_vector = word_vectors[word]\n",
    "        embedding_matrix[i] = embedding_vector\n",
    "    except KeyError:\n",
    "        embedding_matrix[i]=np.random.normal(0,np.sqrt(0.25),EMBEDDING_DIM)\n",
    "\n",
    "del(word_vectors)\n",
    "print(embedding_matrix.shape)\n",
    "\n",
    "from keras.layers import Embedding\n",
    "embedding_layer = Embedding(vocabulary_size,\n",
    "                            EMBEDDING_DIM,\n",
    "                            weights=[embedding_matrix],\n",
    "                            trainable=True)"
   ]
  },
  {
   "cell_type": "code",
   "execution_count": 32,
   "id": "469bb678",
   "metadata": {},
   "outputs": [
    {
     "name": "stdout",
     "output_type": "stream",
     "text": [
      "Max len: 2502\n"
     ]
    }
   ],
   "source": [
    "from keras.layers import Embedding\n",
    "EMBEDDING_DIM=300\n",
    "vocabulary_size=min(len(word_index)+1,NUM_WORDS)\n",
    "\n",
    "embedding_layer = Embedding(vocabulary_size,\n",
    "                            EMBEDDING_DIM)\n",
    "\n",
    "\n",
    "#calculating max length of the vector\n",
    "lens_train = [len(i) for i in X_train]\n",
    "lens_test = [len(i) for i in X_val]\n",
    "lens = lens_train + lens_test\n",
    "\n",
    "maxlen = np.max(lens)\n",
    "\n",
    "print('Max len:', maxlen)"
   ]
  },
  {
   "cell_type": "code",
   "execution_count": 33,
   "id": "28979783",
   "metadata": {},
   "outputs": [],
   "source": [
    "from keras.layers import Dense, Input, GlobalMaxPooling1D\n",
    "from keras.layers import Conv1D, MaxPooling1D, Embedding\n",
    "from keras.models import Model\n",
    "from keras.layers import Input, Dense, Embedding, Conv2D, MaxPooling2D, Dropout,concatenate\n",
    "from keras.layers.core import Reshape, Flatten\n",
    "from keras.callbacks import EarlyStopping\n",
    "from tensorflow.keras.optimizers import Adam\n",
    "from keras.models import Model\n",
    "from keras import regularizers\n",
    "sequence_length = X_train.shape[1]\n",
    "act= \"swish\"\n",
    "opt= tf.keras.optimizers.Adam(learning_rate=0.001)"
   ]
  },
  {
   "cell_type": "code",
   "execution_count": 34,
   "id": "5ed3ebc1",
   "metadata": {},
   "outputs": [],
   "source": [
    "from keras import layers\n",
    "from keras.models import Sequential\n",
    "from tensorflow.keras.layers import BatchNormalization"
   ]
  },
  {
   "cell_type": "code",
   "execution_count": 35,
   "id": "1620c546",
   "metadata": {},
   "outputs": [
    {
     "name": "stdout",
     "output_type": "stream",
     "text": [
      "Model: \"sequential\"\n",
      "_________________________________________________________________\n",
      " Layer (type)                Output Shape              Param #   \n",
      "=================================================================\n",
      " embedding_2 (Embedding)     (None, 2502, 300)         5506200   \n",
      "                                                                 \n",
      " bidirectional (Bidirectiona  (None, 2502, 40)         51360     \n",
      " l)                                                              \n",
      "                                                                 \n",
      " dropout (Dropout)           (None, 2502, 40)          0         \n",
      "                                                                 \n",
      " batch_normalization (BatchN  (None, 2502, 40)         160       \n",
      " ormalization)                                                   \n",
      "                                                                 \n",
      " bidirectional_1 (Bidirectio  (None, 2502, 40)         9760      \n",
      " nal)                                                            \n",
      "                                                                 \n",
      " dropout_1 (Dropout)         (None, 2502, 40)          0         \n",
      "                                                                 \n",
      " batch_normalization_1 (Batc  (None, 2502, 40)         160       \n",
      " hNormalization)                                                 \n",
      "                                                                 \n",
      " bidirectional_2 (Bidirectio  (None, 40)               9760      \n",
      " nal)                                                            \n",
      "                                                                 \n",
      " dropout_2 (Dropout)         (None, 40)                0         \n",
      "                                                                 \n",
      " batch_normalization_2 (Batc  (None, 40)               160       \n",
      " hNormalization)                                                 \n",
      "                                                                 \n",
      " dense (Dense)               (None, 64)                2624      \n",
      "                                                                 \n",
      " dense_1 (Dense)             (None, 64)                4160      \n",
      "                                                                 \n",
      " dense_2 (Dense)             (None, 11)                715       \n",
      "                                                                 \n",
      "=================================================================\n",
      "Total params: 5,585,059\n",
      "Trainable params: 5,584,819\n",
      "Non-trainable params: 240\n",
      "_________________________________________________________________\n"
     ]
    }
   ],
   "source": [
    "model = Sequential()\n",
    "model.add(Embedding(input_dim=vocabulary_size, output_dim=EMBEDDING_DIM, weights = [embedding_matrix], input_length=maxlen))\n",
    "model.add(Bidirectional(LSTM(20, return_sequences=True)))\n",
    "model.add(Dropout(0.3))\n",
    "model.add(BatchNormalization())\n",
    "model.add(Bidirectional(LSTM(20, return_sequences=True)))\n",
    "model.add(Dropout(0.3))\n",
    "model.add(BatchNormalization())\n",
    "model.add(Bidirectional(LSTM(20)))\n",
    "model.add(Dropout(0.3))\n",
    "model.add(BatchNormalization())\n",
    "model.add(Dense(64, activation=act))\n",
    "model.add(Dense(64, activation=act))\n",
    "model.add(Dense(11, activation=\"softmax\"))\n",
    "model.compile(optimizer=opt, loss=\"categorical_crossentropy\",metrics=[\"accuracy\"])\n",
    "model.summary()"
   ]
  },
  {
   "cell_type": "code",
   "execution_count": 36,
   "id": "f4558f76",
   "metadata": {},
   "outputs": [],
   "source": [
    "checkpoint_filepath = './Checkpoint/checkpoint'\n",
    "model_checkpoint_callback = tf.keras.callbacks.ModelCheckpoint(\n",
    "    filepath=checkpoint_filepath,\n",
    "    save_weights_only=True,\n",
    "    monitor='test_accuracy',\n",
    "    mode='max',\n",
    "    save_best_only=True)"
   ]
  },
  {
   "cell_type": "code",
   "execution_count": 37,
   "id": "a5ca2ce5",
   "metadata": {
    "scrolled": false
   },
   "outputs": [
    {
     "name": "stdout",
     "output_type": "stream",
     "text": [
      "Epoch 1/35\n",
      "134/134 [==============================] - ETA: 0s - loss: 2.3258 - accuracy: 0.1497 WARNING:tensorflow:Can save best model only with test_accuracy available, skipping.\n",
      "134/134 [==============================] - 1438s 11s/step - loss: 2.3258 - accuracy: 0.1497 - val_loss: 2.2218 - val_accuracy: 0.1788\n",
      "Epoch 2/35\n",
      "134/134 [==============================] - ETA: 0s - loss: 2.1162 - accuracy: 0.2296 WARNING:tensorflow:Can save best model only with test_accuracy available, skipping.\n",
      "134/134 [==============================] - 1611s 12s/step - loss: 2.1162 - accuracy: 0.2296 - val_loss: 2.1331 - val_accuracy: 0.2479\n",
      "Epoch 3/35\n",
      "134/134 [==============================] - ETA: 0s - loss: 1.8110 - accuracy: 0.3266 WARNING:tensorflow:Can save best model only with test_accuracy available, skipping.\n",
      "134/134 [==============================] - 1601s 12s/step - loss: 1.8110 - accuracy: 0.3266 - val_loss: 1.7207 - val_accuracy: 0.3725\n",
      "Epoch 4/35\n",
      "134/134 [==============================] - ETA: 0s - loss: 1.5579 - accuracy: 0.3980 WARNING:tensorflow:Can save best model only with test_accuracy available, skipping.\n",
      "134/134 [==============================] - 1592s 12s/step - loss: 1.5579 - accuracy: 0.3980 - val_loss: 1.6514 - val_accuracy: 0.3959\n",
      "Epoch 5/35\n",
      "134/134 [==============================] - ETA: 0s - loss: 1.3072 - accuracy: 0.5099 WARNING:tensorflow:Can save best model only with test_accuracy available, skipping.\n",
      "134/134 [==============================] - 1643s 12s/step - loss: 1.3072 - accuracy: 0.5099 - val_loss: 1.4129 - val_accuracy: 0.5411\n",
      "Epoch 6/35\n",
      "134/134 [==============================] - ETA: 0s - loss: 1.0662 - accuracy: 0.6174 WARNING:tensorflow:Can save best model only with test_accuracy available, skipping.\n",
      "134/134 [==============================] - 2281s 17s/step - loss: 1.0662 - accuracy: 0.6174 - val_loss: 1.2687 - val_accuracy: 0.5976\n",
      "Epoch 7/35\n",
      "134/134 [==============================] - ETA: 0s - loss: 0.8672 - accuracy: 0.6958 WARNING:tensorflow:Can save best model only with test_accuracy available, skipping.\n",
      "134/134 [==============================] - 2224s 17s/step - loss: 0.8672 - accuracy: 0.6958 - val_loss: 1.2909 - val_accuracy: 0.6186\n",
      "Epoch 8/35\n",
      "134/134 [==============================] - ETA: 0s - loss: 0.7353 - accuracy: 0.7489 WARNING:tensorflow:Can save best model only with test_accuracy available, skipping.\n",
      "134/134 [==============================] - 2848s 21s/step - loss: 0.7353 - accuracy: 0.7489 - val_loss: 1.2544 - val_accuracy: 0.6354\n",
      "Epoch 9/35\n",
      "134/134 [==============================] - ETA: 0s - loss: 0.6157 - accuracy: 0.7912 WARNING:tensorflow:Can save best model only with test_accuracy available, skipping.\n",
      "134/134 [==============================] - 2863s 21s/step - loss: 0.6157 - accuracy: 0.7912 - val_loss: 1.2625 - val_accuracy: 0.6499\n",
      "Epoch 10/35\n",
      "134/134 [==============================] - ETA: 0s - loss: 0.5313 - accuracy: 0.8255 WARNING:tensorflow:Can save best model only with test_accuracy available, skipping.\n",
      "134/134 [==============================] - 2894s 22s/step - loss: 0.5313 - accuracy: 0.8255 - val_loss: 1.5189 - val_accuracy: 0.6261\n",
      "Epoch 11/35\n",
      "134/134 [==============================] - ETA: 0s - loss: 0.4546 - accuracy: 0.8589 WARNING:tensorflow:Can save best model only with test_accuracy available, skipping.\n",
      "134/134 [==============================] - 2935s 22s/step - loss: 0.4546 - accuracy: 0.8589 - val_loss: 1.5561 - val_accuracy: 0.6097\n",
      "Epoch 12/35\n",
      "134/134 [==============================] - ETA: 0s - loss: 0.3948 - accuracy: 0.8730 WARNING:tensorflow:Can save best model only with test_accuracy available, skipping.\n",
      "134/134 [==============================] - 2843s 21s/step - loss: 0.3948 - accuracy: 0.8730 - val_loss: 1.6792 - val_accuracy: 0.6382\n",
      "Epoch 13/35\n",
      "134/134 [==============================] - ETA: 0s - loss: 0.3308 - accuracy: 0.9024 WARNING:tensorflow:Can save best model only with test_accuracy available, skipping.\n",
      "134/134 [==============================] - 2112s 16s/step - loss: 0.3308 - accuracy: 0.9024 - val_loss: 1.9235 - val_accuracy: 0.6419\n",
      "Epoch 14/35\n",
      "134/134 [==============================] - ETA: 0s - loss: 0.3133 - accuracy: 0.9044 WARNING:tensorflow:Can save best model only with test_accuracy available, skipping.\n",
      "134/134 [==============================] - 2177s 16s/step - loss: 0.3133 - accuracy: 0.9044 - val_loss: 1.8046 - val_accuracy: 0.6321\n",
      "Epoch 15/35\n",
      "134/134 [==============================] - ETA: 0s - loss: 0.2670 - accuracy: 0.9220 WARNING:tensorflow:Can save best model only with test_accuracy available, skipping.\n",
      "134/134 [==============================] - 2175s 16s/step - loss: 0.2670 - accuracy: 0.9220 - val_loss: 1.7920 - val_accuracy: 0.6485\n",
      "Epoch 16/35\n",
      "134/134 [==============================] - ETA: 0s - loss: 0.2460 - accuracy: 0.9260 WARNING:tensorflow:Can save best model only with test_accuracy available, skipping.\n",
      "134/134 [==============================] - 2233s 17s/step - loss: 0.2460 - accuracy: 0.9260 - val_loss: 1.8782 - val_accuracy: 0.6452\n",
      "Epoch 17/35\n",
      "134/134 [==============================] - ETA: 0s - loss: 0.2166 - accuracy: 0.9392 WARNING:tensorflow:Can save best model only with test_accuracy available, skipping.\n",
      "134/134 [==============================] - 2119s 16s/step - loss: 0.2166 - accuracy: 0.9392 - val_loss: 2.7246 - val_accuracy: 0.4935\n",
      "Epoch 18/35\n",
      "134/134 [==============================] - ETA: 0s - loss: 0.2282 - accuracy: 0.9338 WARNING:tensorflow:Can save best model only with test_accuracy available, skipping.\n",
      "134/134 [==============================] - 2116s 16s/step - loss: 0.2282 - accuracy: 0.9338 - val_loss: 2.1043 - val_accuracy: 0.6303\n",
      "Epoch 19/35\n",
      "134/134 [==============================] - ETA: 0s - loss: 0.1816 - accuracy: 0.9519 WARNING:tensorflow:Can save best model only with test_accuracy available, skipping.\n",
      "134/134 [==============================] - 2227s 17s/step - loss: 0.1816 - accuracy: 0.9519 - val_loss: 2.1571 - val_accuracy: 0.6232\n",
      "Epoch 20/35\n",
      "134/134 [==============================] - ETA: 0s - loss: 0.1807 - accuracy: 0.9490 WARNING:tensorflow:Can save best model only with test_accuracy available, skipping.\n",
      "134/134 [==============================] - 2107s 16s/step - loss: 0.1807 - accuracy: 0.9490 - val_loss: 2.1176 - val_accuracy: 0.6345\n",
      "Epoch 21/35\n",
      "134/134 [==============================] - ETA: 0s - loss: 0.1694 - accuracy: 0.9544 WARNING:tensorflow:Can save best model only with test_accuracy available, skipping.\n",
      "134/134 [==============================] - 2079s 16s/step - loss: 0.1694 - accuracy: 0.9544 - val_loss: 2.0771 - val_accuracy: 0.6251\n",
      "Epoch 22/35\n",
      "134/134 [==============================] - ETA: 0s - loss: 0.1458 - accuracy: 0.9618 WARNING:tensorflow:Can save best model only with test_accuracy available, skipping.\n",
      "134/134 [==============================] - 2160s 16s/step - loss: 0.1458 - accuracy: 0.9618 - val_loss: 2.2096 - val_accuracy: 0.6354\n",
      "Epoch 23/35\n",
      "134/134 [==============================] - ETA: 0s - loss: 0.1302 - accuracy: 0.9625 WARNING:tensorflow:Can save best model only with test_accuracy available, skipping.\n",
      "134/134 [==============================] - 2130s 16s/step - loss: 0.1302 - accuracy: 0.9625 - val_loss: 2.3989 - val_accuracy: 0.6405\n",
      "Epoch 24/35\n",
      "134/134 [==============================] - ETA: 0s - loss: 0.1255 - accuracy: 0.9672 WARNING:tensorflow:Can save best model only with test_accuracy available, skipping.\n",
      "134/134 [==============================] - 2172s 16s/step - loss: 0.1255 - accuracy: 0.9672 - val_loss: 2.2146 - val_accuracy: 0.6499\n",
      "Epoch 25/35\n",
      "134/134 [==============================] - ETA: 0s - loss: 0.1333 - accuracy: 0.9667 WARNING:tensorflow:Can save best model only with test_accuracy available, skipping.\n",
      "134/134 [==============================] - 2077s 15s/step - loss: 0.1333 - accuracy: 0.9667 - val_loss: 2.3186 - val_accuracy: 0.6429\n",
      "Epoch 26/35\n",
      "134/134 [==============================] - ETA: 0s - loss: 0.1015 - accuracy: 0.9736 WARNING:tensorflow:Can save best model only with test_accuracy available, skipping.\n",
      "134/134 [==============================] - 2067s 15s/step - loss: 0.1015 - accuracy: 0.9736 - val_loss: 2.3981 - val_accuracy: 0.6373\n",
      "Epoch 27/35\n"
     ]
    },
    {
     "name": "stdout",
     "output_type": "stream",
     "text": [
      "134/134 [==============================] - ETA: 0s - loss: 0.0941 - accuracy: 0.9748 WARNING:tensorflow:Can save best model only with test_accuracy available, skipping.\n",
      "134/134 [==============================] - 2107s 16s/step - loss: 0.0941 - accuracy: 0.9748 - val_loss: 2.4957 - val_accuracy: 0.6429\n",
      "Epoch 28/35\n",
      "134/134 [==============================] - ETA: 0s - loss: 0.0962 - accuracy: 0.9772 WARNING:tensorflow:Can save best model only with test_accuracy available, skipping.\n",
      "134/134 [==============================] - 2090s 16s/step - loss: 0.0962 - accuracy: 0.9772 - val_loss: 2.4684 - val_accuracy: 0.6601\n",
      "Epoch 29/35\n",
      "134/134 [==============================] - ETA: 0s - loss: 0.1287 - accuracy: 0.9656 WARNING:tensorflow:Can save best model only with test_accuracy available, skipping.\n",
      "134/134 [==============================] - 2090s 16s/step - loss: 0.1287 - accuracy: 0.9656 - val_loss: 2.4152 - val_accuracy: 0.6335\n",
      "Epoch 30/35\n",
      "134/134 [==============================] - ETA: 0s - loss: 0.1007 - accuracy: 0.9747 WARNING:tensorflow:Can save best model only with test_accuracy available, skipping.\n",
      "134/134 [==============================] - 2031s 15s/step - loss: 0.1007 - accuracy: 0.9747 - val_loss: 2.3013 - val_accuracy: 0.6032\n",
      "Epoch 31/35\n",
      "134/134 [==============================] - ETA: 0s - loss: 0.0879 - accuracy: 0.9782 WARNING:tensorflow:Can save best model only with test_accuracy available, skipping.\n",
      "134/134 [==============================] - 2123s 16s/step - loss: 0.0879 - accuracy: 0.9782 - val_loss: 2.4307 - val_accuracy: 0.6457\n",
      "Epoch 32/35\n",
      "134/134 [==============================] - ETA: 0s - loss: 0.0825 - accuracy: 0.9797 WARNING:tensorflow:Can save best model only with test_accuracy available, skipping.\n",
      "134/134 [==============================] - 2075s 15s/step - loss: 0.0825 - accuracy: 0.9797 - val_loss: 2.5016 - val_accuracy: 0.6527\n",
      "Epoch 33/35\n",
      "134/134 [==============================] - ETA: 0s - loss: 0.0730 - accuracy: 0.9818 WARNING:tensorflow:Can save best model only with test_accuracy available, skipping.\n",
      "134/134 [==============================] - 2098s 16s/step - loss: 0.0730 - accuracy: 0.9818 - val_loss: 2.6422 - val_accuracy: 0.6461\n",
      "Epoch 34/35\n",
      "134/134 [==============================] - ETA: 0s - loss: 0.0769 - accuracy: 0.9812 WARNING:tensorflow:Can save best model only with test_accuracy available, skipping.\n",
      "134/134 [==============================] - 1982s 15s/step - loss: 0.0769 - accuracy: 0.9812 - val_loss: 2.6311 - val_accuracy: 0.6405\n",
      "Epoch 35/35\n",
      "134/134 [==============================] - ETA: 0s - loss: 0.0832 - accuracy: 0.9800 WARNING:tensorflow:Can save best model only with test_accuracy available, skipping.\n",
      "134/134 [==============================] - 1633s 12s/step - loss: 0.0832 - accuracy: 0.9800 - val_loss: 2.5774 - val_accuracy: 0.6452\n",
      "Training Accuracy: 0.9916\n",
      "Testing Accuracy:  0.6452\n"
     ]
    }
   ],
   "source": [
    "history = model.fit(X_train, y_train, epochs=35,verbose=1, validation_data=(X_val, y_val), batch_size=64,callbacks=[model_checkpoint_callback]) \n",
    "loss, accuracy = model.evaluate(X_train, y_train, verbose=0)\n",
    "print(\"Training Accuracy: {:.4f}\".format(accuracy))\n",
    "loss, accuracy = model.evaluate(X_val, y_val, verbose=0)\n",
    "print(\"Testing Accuracy:  {:.4f}\".format(accuracy))"
   ]
  },
  {
   "cell_type": "code",
   "execution_count": 38,
   "id": "2ceb510b",
   "metadata": {
    "scrolled": false
   },
   "outputs": [
    {
     "data": {
      "text/plain": [
       "<matplotlib.legend.Legend at 0x1c12c22d340>"
      ]
     },
     "execution_count": 38,
     "metadata": {},
     "output_type": "execute_result"
    },
    {
     "data": {
      "image/png": "[encoded data removed]",
      "text/plain": [
       "<Figure size 432x288 with 1 Axes>"
      ]
     },
     "metadata": {
      "needs_background": "light"
     },
     "output_type": "display_data"
    }
   ],
   "source": [
    "plt.suptitle('Optimizer : Adam', fontsize=10)\n",
    "plt.ylabel('Loss', fontsize=16)\n",
    "plt.xlabel('Epoch', fontsize=14)\n",
    "plt.plot(history.history['loss'], color='b', label='Training Loss')\n",
    "plt.plot(history.history['val_loss'], color='r', label='Validation Loss')\n",
    "plt.legend(loc='upper right')"
   ]
  },
  {
   "cell_type": "code",
   "execution_count": 39,
   "id": "32b6bb90",
   "metadata": {},
   "outputs": [
    {
     "name": "stdout",
     "output_type": "stream",
     "text": [
      "Best Accuracy Achieved by Model: 0.6601307392120361\n"
     ]
    }
   ],
   "source": [
    "print(f\"Best Accuracy Achieved by Model: {max(history.history['val_accuracy'])}\")"
   ]
  },
  {
   "cell_type": "code",
   "execution_count": 40,
   "id": "3fa3df65",
   "metadata": {},
   "outputs": [
    {
     "data": {
      "text/plain": [
       "<matplotlib.legend.Legend at 0x1c12c26ab80>"
      ]
     },
     "execution_count": 40,
     "metadata": {},
     "output_type": "execute_result"
    },
    {
     "data": {
      "image/png": "[encoded data removed]",
      "text/plain": [
       "<Figure size 432x288 with 1 Axes>"
      ]
     },
     "metadata": {
      "needs_background": "light"
     },
     "output_type": "display_data"
    }
   ],
   "source": [
    "plt.suptitle('Optimizer : Adam', fontsize=10)\n",
    "plt.ylabel('Accuracy', fontsize=16)\n",
    "plt.xlabel('Epoch', fontsize=14)\n",
    "plt.plot(history.history['accuracy'], color='b', label='Training accuracy')\n",
    "plt.plot(history.history['val_accuracy'], color='r', label='Validation accuracy')\n",
    "plt.legend(loc='upper right')"
   ]
  },
  {
   "cell_type": "code",
   "execution_count": 43,
   "id": "822f9a0b",
   "metadata": {},
   "outputs": [
    {
     "data": {
      "text/plain": [
       "array([ 4,  1,  9, ...,  4, 10,  4], dtype=int64)"
      ]
     },
     "execution_count": 43,
     "metadata": {},
     "output_type": "execute_result"
    }
   ],
   "source": [
    "predict = model.predict(X_val)\n",
    "predict_class = np.argmax(predict, axis=1)\n",
    "predict_class = np.array(predict_class)\n",
    "predict_class"
   ]
  },
  {
   "cell_type": "code",
   "execution_count": 44,
   "id": "bef0de32",
   "metadata": {},
   "outputs": [
    {
     "name": "stdout",
     "output_type": "stream",
     "text": [
      "                        precision    recall  f1-score   support\n",
      "\n",
      "               Anxiety       0.69      0.69      0.69       200\n",
      "               Bipolar       0.80      0.74      0.77       204\n",
      "Borderline Personality       0.73      0.58      0.65       220\n",
      "           Depression        0.63      0.66      0.64       177\n",
      "         Schizophernia       0.74      0.65      0.69       220\n",
      "        Suidal Thought       0.62      0.61      0.61       195\n",
      "               neutral       0.38      0.41      0.40       203\n",
      "            Alcoholism       0.74      0.63      0.68       196\n",
      "             Addiction       0.52      0.67      0.58       132\n",
      "             Aspergers       0.49      0.64      0.56       203\n",
      "             SelfHarm        0.87      0.85      0.86       192\n",
      "\n",
      "              accuracy                           0.65      2142\n",
      "             macro avg       0.66      0.65      0.65      2142\n",
      "          weighted avg       0.66      0.65      0.65      2142\n",
      "\n"
     ]
    }
   ],
   "source": [
    "from sklearn.metrics import classification_report\n",
    "\n",
    "print(classification_report(val_data[\"Mental_State_label\"], predict_class, target_names =[\"Anxiety\",\"Bipolar\",\"Borderline Personality\", \"Depression \", \"Schizophernia\",\"Suidal Thought\",\"neutral\",\n",
    "                                \"Alcoholism\",\"Addiction\",\"Aspergers\",\"SelfHarm \"]))"
   ]
  },
  {
   "cell_type": "code",
   "execution_count": null,
   "id": "35df28f2",
   "metadata": {},
   "outputs": [],
   "source": []
  }
 ],
 "metadata": {
  "kernelspec": {
   "display_name": "Python 3 (ipykernel)",
   "language": "python",
   "name": "python3"
  },
  "language_info": {
   "codemirror_mode": {
    "name": "ipython",
    "version": 3
   },
   "file_extension": ".py",
   "mimetype": "text/x-python",
   "name": "python",
   "nbconvert_exporter": "python",
   "pygments_lexer": "ipython3",
   "version": "3.9.7"
  }
 },
 "nbformat": 4,
 "nbformat_minor": 5
}
