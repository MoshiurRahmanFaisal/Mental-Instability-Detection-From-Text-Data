{
 "cells": [
  {
   "cell_type": "code",
   "execution_count": 20,
   "id": "d32533c5",
   "metadata": {},
   "outputs": [],
   "source": [
    "import pandas as pd\n",
    "import numpy as np\n",
    "import matplotlib.pyplot as plt"
   ]
  },
  {
   "cell_type": "code",
   "execution_count": 4,
   "id": "bba016ba",
   "metadata": {
    "scrolled": true
   },
   "outputs": [],
   "source": [
    "df = pd.read_excel('mental_health_dataset_bangla.xlsx')\n"
   ]
  },
  {
   "cell_type": "code",
   "execution_count": 5,
   "id": "3c2ae414",
   "metadata": {
    "scrolled": true
   },
   "outputs": [
    {
     "data": {
      "text/html": [
       "<div>\n",
       "<style scoped>\n",
       "    .dataframe tbody tr th:only-of-type {\n",
       "        vertical-align: middle;\n",
       "    }\n",
       "\n",
       "    .dataframe tbody tr th {\n",
       "        vertical-align: top;\n",
       "    }\n",
       "\n",
       "    .dataframe thead th {\n",
       "        text-align: right;\n",
       "    }\n",
       "</style>\n",
       "<table border=\"1\" class=\"dataframe\">\n",
       "  <thead>\n",
       "    <tr style=\"text-align: right;\">\n",
       "      <th></th>\n",
       "      <th>Description</th>\n",
       "      <th>Mental_State</th>\n",
       "    </tr>\n",
       "  </thead>\n",
       "  <tbody>\n",
       "    <tr>\n",
       "      <th>0</th>\n",
       "      <td>প্রতি একক দিনে প্রচুর পরিমাণে  ভোজ্য এবং জিনি...</td>\n",
       "      <td>Addiction</td>\n",
       "    </tr>\n",
       "    <tr>\n",
       "      <th>1</th>\n",
       "      <td>আমার ভাইয়েরা গত ৫ বছর ধরে হেরোইন/মেথের শুটিং ...</td>\n",
       "      <td>Addiction</td>\n",
       "    </tr>\n",
       "    <tr>\n",
       "      <th>2</th>\n",
       "      <td>আমি মিডল স্কুলে ৮ম শ্রেণী থেকে আগাছা ধূমপান কর...</td>\n",
       "      <td>Addiction</td>\n",
       "    </tr>\n",
       "    <tr>\n",
       "      <th>3</th>\n",
       "      <td>আমি অন্টারিও, কানাডার একজন সাংবাদিকতার ছাত্র।...</td>\n",
       "      <td>Addiction</td>\n",
       "    </tr>\n",
       "    <tr>\n",
       "      <th>4</th>\n",
       "      <td>চিন্তা করবেন না আমি এই বিষয়ে কতটা পোস্ট করি আ...</td>\n",
       "      <td>Addiction</td>\n",
       "    </tr>\n",
       "  </tbody>\n",
       "</table>\n",
       "</div>"
      ],
      "text/plain": [
       "                                         Description Mental_State\n",
       "0   প্রতি একক দিনে প্রচুর পরিমাণে  ভোজ্য এবং জিনি...    Addiction\n",
       "1  আমার ভাইয়েরা গত ৫ বছর ধরে হেরোইন/মেথের শুটিং ...    Addiction\n",
       "2  আমি মিডল স্কুলে ৮ম শ্রেণী থেকে আগাছা ধূমপান কর...    Addiction\n",
       "3   আমি অন্টারিও, কানাডার একজন সাংবাদিকতার ছাত্র।...    Addiction\n",
       "4  চিন্তা করবেন না আমি এই বিষয়ে কতটা পোস্ট করি আ...    Addiction"
      ]
     },
     "execution_count": 5,
     "metadata": {},
     "output_type": "execute_result"
    }
   ],
   "source": [
    "df.head()"
   ]
  },
  {
   "cell_type": "code",
   "execution_count": 6,
   "id": "83d9ff3e",
   "metadata": {},
   "outputs": [
    {
     "data": {
      "text/html": [
       "<div>\n",
       "<style scoped>\n",
       "    .dataframe tbody tr th:only-of-type {\n",
       "        vertical-align: middle;\n",
       "    }\n",
       "\n",
       "    .dataframe tbody tr th {\n",
       "        vertical-align: top;\n",
       "    }\n",
       "\n",
       "    .dataframe thead th {\n",
       "        text-align: right;\n",
       "    }\n",
       "</style>\n",
       "<table border=\"1\" class=\"dataframe\">\n",
       "  <thead>\n",
       "    <tr style=\"text-align: right;\">\n",
       "      <th></th>\n",
       "      <th>Description</th>\n",
       "      <th>Mental_State</th>\n",
       "    </tr>\n",
       "  </thead>\n",
       "  <tbody>\n",
       "    <tr>\n",
       "      <th>10282</th>\n",
       "      <td>প্যাটেলদের জন্য আপনার চিন্তা কি রিজার্ভেশন</td>\n",
       "      <td>Neutral</td>\n",
       "    </tr>\n",
       "    <tr>\n",
       "      <th>10283</th>\n",
       "      <td>কেউ কি দয়া করে সাহায্য করতে পারেন কিভাবে ডান্...</td>\n",
       "      <td>Neutral</td>\n",
       "    </tr>\n",
       "    <tr>\n",
       "      <th>10284</th>\n",
       "      <td>ভাই প্রকৃত সুবিধাভোগীরা ইন্টারনেট ব্যবহার করে...</td>\n",
       "      <td>Neutral</td>\n",
       "    </tr>\n",
       "    <tr>\n",
       "      <th>10285</th>\n",
       "      <td>দিল্লি চন্ডিগড় তৈরি করা হয়েছিল বছরের পর বছর...</td>\n",
       "      <td>Neutral</td>\n",
       "    </tr>\n",
       "    <tr>\n",
       "      <th>10286</th>\n",
       "      <td>আগে কেউ সরকারের সমালোচনা করতে পারত না, দেশবির...</td>\n",
       "      <td>Neutral</td>\n",
       "    </tr>\n",
       "  </tbody>\n",
       "</table>\n",
       "</div>"
      ],
      "text/plain": [
       "                                             Description Mental_State\n",
       "10282         প্যাটেলদের জন্য আপনার চিন্তা কি রিজার্ভেশন      Neutral\n",
       "10283  কেউ কি দয়া করে সাহায্য করতে পারেন কিভাবে ডান্...      Neutral\n",
       "10284   ভাই প্রকৃত সুবিধাভোগীরা ইন্টারনেট ব্যবহার করে...      Neutral\n",
       "10285   দিল্লি চন্ডিগড় তৈরি করা হয়েছিল বছরের পর বছর...      Neutral\n",
       "10286   আগে কেউ সরকারের সমালোচনা করতে পারত না, দেশবির...      Neutral"
      ]
     },
     "execution_count": 6,
     "metadata": {},
     "output_type": "execute_result"
    }
   ],
   "source": [
    "df.tail()"
   ]
  },
  {
   "cell_type": "code",
   "execution_count": 8,
   "id": "4d94877e",
   "metadata": {},
   "outputs": [],
   "source": [
    "df.dropna(inplace=True)"
   ]
  },
  {
   "cell_type": "code",
   "execution_count": 9,
   "id": "7bcb0ed6",
   "metadata": {},
   "outputs": [
    {
     "data": {
      "text/plain": [
       "Neutral             1002\n",
       "Suicidal Thought    1001\n",
       "Bipolar             1000\n",
       "BPD                  995\n",
       "Anxiety              991\n",
       "Schizophrenia        988\n",
       "Alcoholism           986\n",
       "Depression           943\n",
       "Addiction            921\n",
       "Aspergers            789\n",
       "Self Harm            671\n",
       "Name: Mental_State, dtype: int64"
      ]
     },
     "execution_count": 9,
     "metadata": {},
     "output_type": "execute_result"
    }
   ],
   "source": [
    "df[\"Mental_State\"].value_counts()"
   ]
  },
  {
   "cell_type": "code",
   "execution_count": 10,
   "id": "d2f6327e",
   "metadata": {},
   "outputs": [],
   "source": [
    "text = df['Description'].values.tolist()\n",
    "label = df['Mental_State'].tolist()"
   ]
  },
  {
   "cell_type": "code",
   "execution_count": 11,
   "id": "06974fef",
   "metadata": {},
   "outputs": [],
   "source": [
    "from sklearn.model_selection import train_test_split\n",
    "X_train, X_test, y_train, y_test = train_test_split(text , label, test_size=0.2, random_state=42)"
   ]
  },
  {
   "cell_type": "code",
   "execution_count": 12,
   "id": "fe9e61fb",
   "metadata": {},
   "outputs": [],
   "source": [
    "import ktrain\n",
    "from ktrain import text\n",
    "MODEL_NAME = 'sagorsarker/bangla-bert-base'\n",
    "t = text.Transformer(MODEL_NAME, maxlen=500)\n"
   ]
  },
  {
   "cell_type": "code",
   "execution_count": 13,
   "id": "c269013f",
   "metadata": {},
   "outputs": [
    {
     "name": "stdout",
     "output_type": "stream",
     "text": [
      "preprocessing train...\n",
      "language: bn\n",
      "train sequence lengths:\n",
      "\tmean : 134\n",
      "\t95percentile : 386\n",
      "\t99percentile : 672\n"
     ]
    },
    {
     "data": {
      "text/html": [],
      "text/plain": [
       "<IPython.core.display.HTML object>"
      ]
     },
     "metadata": {},
     "output_type": "display_data"
    },
    {
     "name": "stdout",
     "output_type": "stream",
     "text": [
      "Is Multi-Label? False\n",
      "preprocessing test...\n",
      "language: bn\n",
      "test sequence lengths:\n",
      "\tmean : 133\n",
      "\t95percentile : 391\n",
      "\t99percentile : 692\n"
     ]
    },
    {
     "data": {
      "text/html": [],
      "text/plain": [
       "<IPython.core.display.HTML object>"
      ]
     },
     "metadata": {},
     "output_type": "display_data"
    }
   ],
   "source": [
    "trn = t.preprocess_train(X_train, y_train)\n",
    "val = t.preprocess_test(X_test, y_test)"
   ]
  },
  {
   "cell_type": "code",
   "execution_count": 14,
   "id": "69d54231",
   "metadata": {
    "scrolled": true
   },
   "outputs": [],
   "source": [
    "model = t.get_classifier()"
   ]
  },
  {
   "cell_type": "code",
   "execution_count": 15,
   "id": "7070ffb4",
   "metadata": {},
   "outputs": [],
   "source": [
    "learner = ktrain.get_learner(model, train_data=trn, val_data=val, batch_size=6)"
   ]
  },
  {
   "cell_type": "code",
   "execution_count": 16,
   "id": "e1e76e69",
   "metadata": {
    "scrolled": false
   },
   "outputs": [
    {
     "name": "stdout",
     "output_type": "stream",
     "text": [
      "\n",
      "\n",
      "begin training using onecycle policy with max lr of 2e-05...\n",
      "Epoch 1/5\n",
      "1372/1372 [==============================] - 15677s 11s/step - loss: 1.8516 - accuracy: 0.3652 - val_loss: 1.1967 - val_accuracy: 0.6419\n",
      "Epoch 2/5\n",
      "1372/1372 [==============================] - 15654s 11s/step - loss: 0.9909 - accuracy: 0.6882 - val_loss: 0.9397 - val_accuracy: 0.7104\n",
      "Epoch 3/5\n",
      "1372/1372 [==============================] - 15656s 11s/step - loss: 0.7158 - accuracy: 0.7738 - val_loss: 0.8842 - val_accuracy: 0.7289\n",
      "Epoch 4/5\n",
      "1372/1372 [==============================] - 15672s 11s/step - loss: 0.3826 - accuracy: 0.8825 - val_loss: 0.9835 - val_accuracy: 0.7264\n",
      "Epoch 5/5\n",
      "1372/1372 [==============================] - 15794s 12s/step - loss: 0.1564 - accuracy: 0.9583 - val_loss: 1.0388 - val_accuracy: 0.7255\n"
     ]
    }
   ],
   "source": [
    "history = learner.fit_onecycle(2e-5, 5)"
   ]
  },
  {
   "cell_type": "code",
   "execution_count": 17,
   "id": "49b40033",
   "metadata": {},
   "outputs": [
    {
     "name": "stdout",
     "output_type": "stream",
     "text": [
      "                  precision    recall  f1-score   support\n",
      "\n",
      "       Addiction       0.76      0.78      0.77       200\n",
      "      Alcoholism       0.80      0.86      0.83       202\n",
      "         Anxiety       0.73      0.72      0.73       183\n",
      "       Aspergers       0.75      0.71      0.73       160\n",
      "             BPD       0.66      0.65      0.65       216\n",
      "         Bipolar       0.75      0.72      0.74       203\n",
      "      Depression       0.55      0.54      0.55       182\n",
      "         Neutral       0.90      0.92      0.91       184\n",
      "   Schizophrenia       0.66      0.75      0.70       190\n",
      "       Self Harm       0.70      0.70      0.70       146\n",
      "Suicidal Thought       0.71      0.62      0.66       192\n",
      "\n",
      "        accuracy                           0.73      2058\n",
      "       macro avg       0.72      0.72      0.72      2058\n",
      "    weighted avg       0.72      0.73      0.72      2058\n",
      "\n"
     ]
    },
    {
     "data": {
      "text/plain": [
       "array([[156,  19,   5,   4,   2,   5,   1,   0,   4,   2,   2],\n",
       "       [ 11, 173,   4,   2,   4,   0,   1,   1,   2,   4,   0],\n",
       "       [  2,   2, 132,   6,   8,   7,   6,   1,  11,   6,   2],\n",
       "       [  3,   8,   5, 114,  12,   3,   4,   0,   8,   2,   1],\n",
       "       [  5,   4,   8,  11, 140,   8,  17,   1,  12,   5,   5],\n",
       "       [  7,   2,   6,   1,  13, 146,   9,   0,  13,   4,   2],\n",
       "       [  5,   1,   7,   1,   9,  11,  98,   8,   9,   8,  25],\n",
       "       [  0,   0,   0,   0,   1,   1,   0, 170,   5,   4,   3],\n",
       "       [  7,   1,   5,   5,   4,  12,   5,   2, 143,   2,   4],\n",
       "       [  6,   3,   6,   7,   7,   0,   3,   3,   4, 102,   5],\n",
       "       [  2,   3,   3,   2,  13,   1,  33,   3,   6,   7, 119]],\n",
       "      dtype=int64)"
      ]
     },
     "execution_count": 17,
     "metadata": {},
     "output_type": "execute_result"
    }
   ],
   "source": [
    "learner.validate(class_names=t.get_classes()) "
   ]
  },
  {
   "cell_type": "code",
   "execution_count": 18,
   "id": "e343e2cc",
   "metadata": {},
   "outputs": [],
   "source": [
    "def PlotGraph(history):\n",
    "    acc = history.history['accuracy']\n",
    "    val_acc = history.history['val_accuracy']\n",
    "    loss = history.history['loss']\n",
    "    val_loss = history.history['val_loss']\n",
    "    x = range(1, len(acc) + 1)\n",
    "\n",
    "    plt.figure(figsize=(12, 5))\n",
    "    plt.subplot(1, 2, 1)\n",
    "    plt.plot(x, acc, 'g', label='Training acc')\n",
    "    plt.plot(x, val_acc, 'b', label='Validation acc')\n",
    "    plt.title('Training and validation accuracy')\n",
    "    plt.legend()\n",
    "    plt.subplot(1, 2, 2)\n",
    "    plt.plot(x, loss, 'g', label='Training loss')\n",
    "    plt.plot(x, val_loss, 'b', label='Validation loss')\n",
    "    plt.title('Training and validation loss')\n",
    "    plt.legend() "
   ]
  },
  {
   "cell_type": "code",
   "execution_count": 21,
   "id": "ea44118c",
   "metadata": {
    "scrolled": true
   },
   "outputs": [
    {
     "data": {
      "image/png": "[encoded data removed]",
      "text/plain": [
       "<Figure size 864x360 with 2 Axes>"
      ]
     },
     "metadata": {
      "needs_background": "light"
     },
     "output_type": "display_data"
    }
   ],
   "source": [
    "PlotGraph(history)"
   ]
  },
  {
   "cell_type": "code",
   "execution_count": null,
   "id": "cf3fe619",
   "metadata": {},
   "outputs": [],
   "source": []
  }
 ],
 "metadata": {
  "kernelspec": {
   "display_name": "Python 3 (ipykernel)",
   "language": "python",
   "name": "python3"
  },
  "language_info": {
   "codemirror_mode": {
    "name": "ipython",
    "version": 3
   },
   "file_extension": ".py",
   "mimetype": "text/x-python",
   "name": "python",
   "nbconvert_exporter": "python",
   "pygments_lexer": "ipython3",
   "version": "3.9.7"
  }
 },
 "nbformat": 4,
 "nbformat_minor": 5
}
