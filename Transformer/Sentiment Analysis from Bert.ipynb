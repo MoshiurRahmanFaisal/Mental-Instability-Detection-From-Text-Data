{
 "cells": [
  {
   "cell_type": "code",
   "execution_count": 20,
   "id": "d32533c5",
   "metadata": {},
   "outputs": [],
   "source": [
    "import pandas as pd\n",
    "import numpy as np\n",
    "import matplotlib.pyplot as plt"
   ]
  },
  {
   "cell_type": "code",
   "execution_count": 2,
   "id": "bba016ba",
   "metadata": {
    "scrolled": true
   },
   "outputs": [],
   "source": [
    "df = pd.read_csv('mental_health_dataset.csv',encoding= 'unicode_escape')\n"
   ]
  },
  {
   "cell_type": "code",
   "execution_count": 3,
   "id": "3c2ae414",
   "metadata": {
    "scrolled": true
   },
   "outputs": [
    {
     "data": {
      "text/html": [
       "<div>\n",
       "<style scoped>\n",
       "    .dataframe tbody tr th:only-of-type {\n",
       "        vertical-align: middle;\n",
       "    }\n",
       "\n",
       "    .dataframe tbody tr th {\n",
       "        vertical-align: top;\n",
       "    }\n",
       "\n",
       "    .dataframe thead th {\n",
       "        text-align: right;\n",
       "    }\n",
       "</style>\n",
       "<table border=\"1\" class=\"dataframe\">\n",
       "  <thead>\n",
       "    <tr style=\"text-align: right;\">\n",
       "      <th></th>\n",
       "      <th>Unnamed: 0</th>\n",
       "      <th>Description</th>\n",
       "      <th>Mental_State</th>\n",
       "    </tr>\n",
       "  </thead>\n",
       "  <tbody>\n",
       "    <tr>\n",
       "      <th>0</th>\n",
       "      <td>0</td>\n",
       "      <td>I'm sorry about this post. It's gonna be a who...</td>\n",
       "      <td>Addiction</td>\n",
       "    </tr>\n",
       "    <tr>\n",
       "      <th>1</th>\n",
       "      <td>1</td>\n",
       "      <td>Been getting super high off high amounts of th...</td>\n",
       "      <td>Addiction</td>\n",
       "    </tr>\n",
       "    <tr>\n",
       "      <th>2</th>\n",
       "      <td>2</td>\n",
       "      <td>My brothers been shooting heroin/meth for the ...</td>\n",
       "      <td>Addiction</td>\n",
       "    </tr>\n",
       "    <tr>\n",
       "      <th>3</th>\n",
       "      <td>3</td>\n",
       "      <td>I rlly need an opinion cuz idk bout this stuff...</td>\n",
       "      <td>Addiction</td>\n",
       "    </tr>\n",
       "    <tr>\n",
       "      <th>4</th>\n",
       "      <td>4</td>\n",
       "      <td>Ive smoked weed since 8th grade in middle scho...</td>\n",
       "      <td>Addiction</td>\n",
       "    </tr>\n",
       "  </tbody>\n",
       "</table>\n",
       "</div>"
      ],
      "text/plain": [
       "   Unnamed: 0                                        Description Mental_State\n",
       "0           0  I'm sorry about this post. It's gonna be a who...    Addiction\n",
       "1           1  Been getting super high off high amounts of th...    Addiction\n",
       "2           2  My brothers been shooting heroin/meth for the ...    Addiction\n",
       "3           3  I rlly need an opinion cuz idk bout this stuff...    Addiction\n",
       "4           4  Ive smoked weed since 8th grade in middle scho...    Addiction"
      ]
     },
     "execution_count": 3,
     "metadata": {},
     "output_type": "execute_result"
    }
   ],
   "source": [
    "df.head()"
   ]
  },
  {
   "cell_type": "code",
   "execution_count": 4,
   "id": "83d9ff3e",
   "metadata": {},
   "outputs": [
    {
     "data": {
      "text/html": [
       "<div>\n",
       "<style scoped>\n",
       "    .dataframe tbody tr th:only-of-type {\n",
       "        vertical-align: middle;\n",
       "    }\n",
       "\n",
       "    .dataframe tbody tr th {\n",
       "        vertical-align: top;\n",
       "    }\n",
       "\n",
       "    .dataframe thead th {\n",
       "        text-align: right;\n",
       "    }\n",
       "</style>\n",
       "<table border=\"1\" class=\"dataframe\">\n",
       "  <thead>\n",
       "    <tr style=\"text-align: right;\">\n",
       "      <th></th>\n",
       "      <th>Unnamed: 0</th>\n",
       "      <th>Description</th>\n",
       "      <th>Mental_State</th>\n",
       "    </tr>\n",
       "  </thead>\n",
       "  <tbody>\n",
       "    <tr>\n",
       "      <th>11736</th>\n",
       "      <td>11736</td>\n",
       "      <td>possible have satpathy ask question the questi...</td>\n",
       "      <td>neutral</td>\n",
       "    </tr>\n",
       "    <tr>\n",
       "      <th>11737</th>\n",
       "      <td>11737</td>\n",
       "      <td>god that was thorough</td>\n",
       "      <td>neutral</td>\n",
       "    </tr>\n",
       "    <tr>\n",
       "      <th>11738</th>\n",
       "      <td>11738</td>\n",
       "      <td>thread and meat kaun jat bhai</td>\n",
       "      <td>neutral</td>\n",
       "    </tr>\n",
       "    <tr>\n",
       "      <th>11739</th>\n",
       "      <td>11739</td>\n",
       "      <td>not touch food with your left hand left handed</td>\n",
       "      <td>neutral</td>\n",
       "    </tr>\n",
       "    <tr>\n",
       "      <th>11740</th>\n",
       "      <td>11740</td>\n",
       "      <td>they say because they care for</td>\n",
       "      <td>neutral</td>\n",
       "    </tr>\n",
       "  </tbody>\n",
       "</table>\n",
       "</div>"
      ],
      "text/plain": [
       "       Unnamed: 0                                        Description  \\\n",
       "11736       11736  possible have satpathy ask question the questi...   \n",
       "11737       11737                              god that was thorough   \n",
       "11738       11738                      thread and meat kaun jat bhai   \n",
       "11739       11739     not touch food with your left hand left handed   \n",
       "11740       11740                     they say because they care for   \n",
       "\n",
       "      Mental_State  \n",
       "11736      neutral  \n",
       "11737      neutral  \n",
       "11738      neutral  \n",
       "11739      neutral  \n",
       "11740      neutral  "
      ]
     },
     "execution_count": 4,
     "metadata": {},
     "output_type": "execute_result"
    }
   ],
   "source": [
    "df.tail()"
   ]
  },
  {
   "cell_type": "code",
   "execution_count": 5,
   "id": "3a3c6d72",
   "metadata": {},
   "outputs": [
    {
     "data": {
      "text/html": [
       "<div>\n",
       "<style scoped>\n",
       "    .dataframe tbody tr th:only-of-type {\n",
       "        vertical-align: middle;\n",
       "    }\n",
       "\n",
       "    .dataframe tbody tr th {\n",
       "        vertical-align: top;\n",
       "    }\n",
       "\n",
       "    .dataframe thead th {\n",
       "        text-align: right;\n",
       "    }\n",
       "</style>\n",
       "<table border=\"1\" class=\"dataframe\">\n",
       "  <thead>\n",
       "    <tr style=\"text-align: right;\">\n",
       "      <th></th>\n",
       "      <th>Description</th>\n",
       "      <th>Mental_State</th>\n",
       "    </tr>\n",
       "  </thead>\n",
       "  <tbody>\n",
       "    <tr>\n",
       "      <th>0</th>\n",
       "      <td>I'm sorry about this post. It's gonna be a who...</td>\n",
       "      <td>Addiction</td>\n",
       "    </tr>\n",
       "    <tr>\n",
       "      <th>1</th>\n",
       "      <td>Been getting super high off high amounts of th...</td>\n",
       "      <td>Addiction</td>\n",
       "    </tr>\n",
       "    <tr>\n",
       "      <th>2</th>\n",
       "      <td>My brothers been shooting heroin/meth for the ...</td>\n",
       "      <td>Addiction</td>\n",
       "    </tr>\n",
       "    <tr>\n",
       "      <th>3</th>\n",
       "      <td>I rlly need an opinion cuz idk bout this stuff...</td>\n",
       "      <td>Addiction</td>\n",
       "    </tr>\n",
       "    <tr>\n",
       "      <th>4</th>\n",
       "      <td>Ive smoked weed since 8th grade in middle scho...</td>\n",
       "      <td>Addiction</td>\n",
       "    </tr>\n",
       "    <tr>\n",
       "      <th>...</th>\n",
       "      <td>...</td>\n",
       "      <td>...</td>\n",
       "    </tr>\n",
       "    <tr>\n",
       "      <th>11736</th>\n",
       "      <td>possible have satpathy ask question the questi...</td>\n",
       "      <td>neutral</td>\n",
       "    </tr>\n",
       "    <tr>\n",
       "      <th>11737</th>\n",
       "      <td>god that was thorough</td>\n",
       "      <td>neutral</td>\n",
       "    </tr>\n",
       "    <tr>\n",
       "      <th>11738</th>\n",
       "      <td>thread and meat kaun jat bhai</td>\n",
       "      <td>neutral</td>\n",
       "    </tr>\n",
       "    <tr>\n",
       "      <th>11739</th>\n",
       "      <td>not touch food with your left hand left handed</td>\n",
       "      <td>neutral</td>\n",
       "    </tr>\n",
       "    <tr>\n",
       "      <th>11740</th>\n",
       "      <td>they say because they care for</td>\n",
       "      <td>neutral</td>\n",
       "    </tr>\n",
       "  </tbody>\n",
       "</table>\n",
       "<p>11741 rows × 2 columns</p>\n",
       "</div>"
      ],
      "text/plain": [
       "                                             Description Mental_State\n",
       "0      I'm sorry about this post. It's gonna be a who...    Addiction\n",
       "1      Been getting super high off high amounts of th...    Addiction\n",
       "2      My brothers been shooting heroin/meth for the ...    Addiction\n",
       "3      I rlly need an opinion cuz idk bout this stuff...    Addiction\n",
       "4      Ive smoked weed since 8th grade in middle scho...    Addiction\n",
       "...                                                  ...          ...\n",
       "11736  possible have satpathy ask question the questi...      neutral\n",
       "11737                              god that was thorough      neutral\n",
       "11738                      thread and meat kaun jat bhai      neutral\n",
       "11739     not touch food with your left hand left handed      neutral\n",
       "11740                     they say because they care for      neutral\n",
       "\n",
       "[11741 rows x 2 columns]"
      ]
     },
     "execution_count": 5,
     "metadata": {},
     "output_type": "execute_result"
    }
   ],
   "source": [
    "df.drop(labels='Unnamed: 0', axis=1)"
   ]
  },
  {
   "cell_type": "code",
   "execution_count": 6,
   "id": "78515898",
   "metadata": {},
   "outputs": [],
   "source": [
    "df.dropna(inplace=True)"
   ]
  },
  {
   "cell_type": "code",
   "execution_count": 7,
   "id": "7bcb0ed6",
   "metadata": {},
   "outputs": [
    {
     "data": {
      "text/plain": [
       "Anxiety                   1024\n",
       "Bipolar                   1024\n",
       "Borderline Personality    1024\n",
       "Depression                1024\n",
       "Schizophernia             1024\n",
       "Suidal Thought            1024\n",
       "neutral                   1024\n",
       "Alcoholism                 999\n",
       "Addiction                  998\n",
       "Aspergers                  799\n",
       "SelfHarm                   746\n",
       "Name: Mental_State, dtype: int64"
      ]
     },
     "execution_count": 7,
     "metadata": {},
     "output_type": "execute_result"
    }
   ],
   "source": [
    "df[\"Mental_State\"].value_counts()"
   ]
  },
  {
   "cell_type": "code",
   "execution_count": 8,
   "id": "d2f6327e",
   "metadata": {},
   "outputs": [],
   "source": [
    "text = df['Description'].values.tolist()\n",
    "label = df['Mental_State'].tolist()"
   ]
  },
  {
   "cell_type": "code",
   "execution_count": 9,
   "id": "06974fef",
   "metadata": {},
   "outputs": [],
   "source": [
    "from sklearn.model_selection import train_test_split\n",
    "X_train, X_test, y_train, y_test = train_test_split(text , label, test_size=0.2, random_state=42)"
   ]
  },
  {
   "cell_type": "code",
   "execution_count": 10,
   "id": "fe9e61fb",
   "metadata": {},
   "outputs": [],
   "source": [
    "import ktrain\n",
    "from ktrain import text\n",
    "MODEL_NAME = 'bert-base-cased'\n",
    "t = text.Transformer(MODEL_NAME, maxlen=500)\n",
    " \n",
    "    "
   ]
  },
  {
   "cell_type": "code",
   "execution_count": 11,
   "id": "c269013f",
   "metadata": {},
   "outputs": [
    {
     "name": "stdout",
     "output_type": "stream",
     "text": [
      "preprocessing train...\n",
      "language: en\n",
      "train sequence lengths:\n",
      "\tmean : 144\n",
      "\t95percentile : 432\n",
      "\t99percentile : 743\n"
     ]
    },
    {
     "data": {
      "text/html": [],
      "text/plain": [
       "<IPython.core.display.HTML object>"
      ]
     },
     "metadata": {},
     "output_type": "display_data"
    },
    {
     "name": "stdout",
     "output_type": "stream",
     "text": [
      "Is Multi-Label? False\n",
      "preprocessing test...\n",
      "language: en\n",
      "test sequence lengths:\n",
      "\tmean : 151\n",
      "\t95percentile : 460\n",
      "\t99percentile : 846\n"
     ]
    },
    {
     "data": {
      "text/html": [],
      "text/plain": [
       "<IPython.core.display.HTML object>"
      ]
     },
     "metadata": {},
     "output_type": "display_data"
    }
   ],
   "source": [
    "trn = t.preprocess_train(X_train, y_train)\n",
    "val = t.preprocess_test(X_test, y_test)"
   ]
  },
  {
   "cell_type": "code",
   "execution_count": 12,
   "id": "69d54231",
   "metadata": {
    "scrolled": true
   },
   "outputs": [],
   "source": [
    "model = t.get_classifier()"
   ]
  },
  {
   "cell_type": "code",
   "execution_count": 13,
   "id": "7070ffb4",
   "metadata": {},
   "outputs": [],
   "source": [
    "learner = ktrain.get_learner(model, train_data=trn, val_data=val, batch_size=6)"
   ]
  },
  {
   "cell_type": "code",
   "execution_count": 14,
   "id": "e1e76e69",
   "metadata": {
    "scrolled": true
   },
   "outputs": [
    {
     "name": "stdout",
     "output_type": "stream",
     "text": [
      "\n",
      "\n",
      "begin training using onecycle policy with max lr of 2e-05...\n",
      "Epoch 1/5\n",
      "1428/1428 [==============================] - 15679s 11s/step - loss: 1.7345 - accuracy: 0.4351 - val_loss: 0.9007 - val_accuracy: 0.7320\n",
      "Epoch 2/5\n",
      "1428/1428 [==============================] - 15682s 11s/step - loss: 0.7539 - accuracy: 0.7703 - val_loss: 0.7228 - val_accuracy: 0.7787\n",
      "Epoch 3/5\n",
      "1428/1428 [==============================] - 15677s 11s/step - loss: 0.5097 - accuracy: 0.8405 - val_loss: 0.6547 - val_accuracy: 0.8039\n",
      "Epoch 4/5\n",
      "1428/1428 [==============================] - 15770s 11s/step - loss: 0.2740 - accuracy: 0.9176 - val_loss: 0.6809 - val_accuracy: 0.8044\n",
      "Epoch 5/5\n",
      "1428/1428 [==============================] - 15789s 11s/step - loss: 0.1161 - accuracy: 0.9714 - val_loss: 0.7135 - val_accuracy: 0.8053\n"
     ]
    }
   ],
   "source": [
    "history = learner.fit_onecycle(2e-5, 5)"
   ]
  },
  {
   "cell_type": "code",
   "execution_count": 16,
   "id": "0ed64993",
   "metadata": {},
   "outputs": [
    {
     "data": {
      "image/png": "[encoded data removed]",
      "text/plain": [
       "<Figure size 432x288 with 1 Axes>"
      ]
     },
     "metadata": {
      "needs_background": "light"
     },
     "output_type": "display_data"
    }
   ],
   "source": [
    "learner.plot('loss')"
   ]
  },
  {
   "cell_type": "code",
   "execution_count": 17,
   "id": "3b4e1153",
   "metadata": {},
   "outputs": [
    {
     "name": "stdout",
     "output_type": "stream",
     "text": [
      "              precision    recall  f1-score   support\n",
      "\n",
      "           0       0.88      0.87      0.87       205\n",
      "           1       0.88      0.90      0.89       196\n",
      "           2       0.78      0.77      0.78       189\n",
      "           3       0.82      0.80      0.81       153\n",
      "           4       0.78      0.79      0.79       220\n",
      "           5       0.76      0.78      0.77       215\n",
      "           6       0.59      0.64      0.62       206\n",
      "           7       0.85      0.86      0.85       197\n",
      "           8       0.90      0.84      0.87       159\n",
      "           9       0.69      0.62      0.65       197\n",
      "          10       0.96      1.00      0.98       205\n",
      "\n",
      "    accuracy                           0.81      2142\n",
      "   macro avg       0.81      0.81      0.81      2142\n",
      "weighted avg       0.81      0.81      0.81      2142\n",
      "\n"
     ]
    },
    {
     "data": {
      "text/plain": [
       "array([[178,  16,   2,   3,   1,   2,   1,   1,   1,   0,   0],\n",
       "       [ 13, 177,   3,   1,   1,   0,   0,   0,   1,   0,   0],\n",
       "       [  1,   0, 146,   3,  11,   8,  13,   2,   0,   4,   1],\n",
       "       [  1,   4,   6, 122,   2,   8,   2,   5,   2,   1,   0],\n",
       "       [  0,   0,   7,   1, 174,  11,  10,  12,   0,   5,   0],\n",
       "       [  2,   2,   3,   7,  12, 167,  11,   2,   2,   7,   0],\n",
       "       [  1,   1,  11,   5,   8,  10, 132,   4,   0,  33,   1],\n",
       "       [  0,   0,   3,   4,   8,   3,   5, 169,   1,   3,   1],\n",
       "       [  4,   2,   4,   2,   0,   5,   2,   0, 134,   2,   4],\n",
       "       [  2,   0,   2,   0,   6,   6,  47,   4,   7, 122,   1],\n",
       "       [  0,   0,   0,   0,   0,   0,   0,   0,   1,   0, 204]],\n",
       "      dtype=int64)"
      ]
     },
     "execution_count": 17,
     "metadata": {},
     "output_type": "execute_result"
    }
   ],
   "source": [
    "learner.evaluate()\n"
   ]
  },
  {
   "cell_type": "code",
   "execution_count": 18,
   "id": "09f45d93",
   "metadata": {},
   "outputs": [],
   "source": [
    "def PlotGraph(history):\n",
    "    acc = history.history['accuracy']\n",
    "    val_acc = history.history['val_accuracy']\n",
    "    loss = history.history['loss']\n",
    "    val_loss = history.history['val_loss']\n",
    "    x = range(1, len(acc) + 1)\n",
    "\n",
    "    plt.figure(figsize=(12, 5))\n",
    "    plt.subplot(1, 2, 1)\n",
    "    plt.plot(x, acc, 'g', label='Training acc')\n",
    "    plt.plot(x, val_acc, 'b', label='Validation acc')\n",
    "    plt.title('Training and validation accuracy')\n",
    "    plt.legend()\n",
    "    plt.subplot(1, 2, 2)\n",
    "    plt.plot(x, loss, 'g', label='Training loss')\n",
    "    plt.plot(x, val_loss, 'b', label='Validation loss')\n",
    "    plt.title('Training and validation loss')\n",
    "    plt.legend()                                          "
   ]
  },
  {
   "cell_type": "code",
   "execution_count": 21,
   "id": "e4250698",
   "metadata": {
    "scrolled": true
   },
   "outputs": [
    {
     "data": {
      "image/png": "[encoded data removed]",
      "text/plain": [
       "<Figure size 864x360 with 2 Axes>"
      ]
     },
     "metadata": {
      "needs_background": "light"
     },
     "output_type": "display_data"
    }
   ],
   "source": [
    "PlotGraph(history)"
   ]
  },
  {
   "cell_type": "code",
   "execution_count": 22,
   "id": "9d57dc39",
   "metadata": {},
   "outputs": [
    {
     "name": "stdout",
     "output_type": "stream",
     "text": [
      "                        precision    recall  f1-score   support\n",
      "\n",
      "             Addiction       0.88      0.87      0.87       205\n",
      "            Alcoholism       0.88      0.90      0.89       196\n",
      "               Anxiety       0.78      0.77      0.78       189\n",
      "             Aspergers       0.82      0.80      0.81       153\n",
      "               Bipolar       0.78      0.79      0.79       220\n",
      "Borderline Personality       0.76      0.78      0.77       215\n",
      "            Depression       0.59      0.64      0.62       206\n",
      "         Schizophernia       0.85      0.86      0.85       197\n",
      "              SelfHarm       0.90      0.84      0.87       159\n",
      "        Suidal Thought       0.69      0.62      0.65       197\n",
      "               neutral       0.96      1.00      0.98       205\n",
      "\n",
      "              accuracy                           0.81      2142\n",
      "             macro avg       0.81      0.81      0.81      2142\n",
      "          weighted avg       0.81      0.81      0.81      2142\n",
      "\n"
     ]
    },
    {
     "data": {
      "text/plain": [
       "array([[178,  16,   2,   3,   1,   2,   1,   1,   1,   0,   0],\n",
       "       [ 13, 177,   3,   1,   1,   0,   0,   0,   1,   0,   0],\n",
       "       [  1,   0, 146,   3,  11,   8,  13,   2,   0,   4,   1],\n",
       "       [  1,   4,   6, 122,   2,   8,   2,   5,   2,   1,   0],\n",
       "       [  0,   0,   7,   1, 174,  11,  10,  12,   0,   5,   0],\n",
       "       [  2,   2,   3,   7,  12, 167,  11,   2,   2,   7,   0],\n",
       "       [  1,   1,  11,   5,   8,  10, 132,   4,   0,  33,   1],\n",
       "       [  0,   0,   3,   4,   8,   3,   5, 169,   1,   3,   1],\n",
       "       [  4,   2,   4,   2,   0,   5,   2,   0, 134,   2,   4],\n",
       "       [  2,   0,   2,   0,   6,   6,  47,   4,   7, 122,   1],\n",
       "       [  0,   0,   0,   0,   0,   0,   0,   0,   1,   0, 204]],\n",
       "      dtype=int64)"
      ]
     },
     "execution_count": 22,
     "metadata": {},
     "output_type": "execute_result"
    }
   ],
   "source": [
    "learner.validate(class_names=t.get_classes()) "
   ]
  },
  {
   "cell_type": "code",
   "execution_count": null,
   "id": "baaa2070",
   "metadata": {},
   "outputs": [],
   "source": []
  }
 ],
 "metadata": {
  "kernelspec": {
   "display_name": "Python 3 (ipykernel)",
   "language": "python",
   "name": "python3"
  },
  "language_info": {
   "codemirror_mode": {
    "name": "ipython",
    "version": 3
   },
   "file_extension": ".py",
   "mimetype": "text/x-python",
   "name": "python",
   "nbconvert_exporter": "python",
   "pygments_lexer": "ipython3",
   "version": "3.9.7"
  }
 },
 "nbformat": 4,
 "nbformat_minor": 5
}
